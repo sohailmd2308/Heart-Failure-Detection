{
 "cells": [
  {
   "cell_type": "code",
   "execution_count": 1,
   "metadata": {},
   "outputs": [],
   "source": [
    "import pandas as pd\n",
    "import numpy as np\n",
    "import os\n",
    "from matplotlib import pyplot as plt\n",
    "from sklearn.linear_model import LogisticRegression\n",
    "from sklearn.tree import DecisionTreeClassifier\n",
    "from sklearn.model_selection import train_test_split\n",
    "from sklearn.model_selection import GridSearchCV\n",
    "from sklearn.metrics import r2_score,explained_variance_score,confusion_matrix,accuracy_score,classification_report,log_loss\n",
    "import seaborn as sns"
   ]
  },
  {
   "cell_type": "code",
   "execution_count": 2,
   "metadata": {},
   "outputs": [
    {
     "name": "stdout",
     "output_type": "stream",
     "text": [
      "     Location  Age Sex ChestPainType  RestingBP  Cholesterol  FastingBS  \\\n",
      "0  Long Beach   61   M           NAP        200            0          1   \n",
      "1  Long Beach   39   M           ATA        190          241          0   \n",
      "2  Long Beach   45   F           ATA        180          295          0   \n",
      "3  Long Beach   57   F           ASY        180          347          0   \n",
      "4  Long Beach   60   M           NAP        180            0          0   \n",
      "\n",
      "  RestingECG  MaxHR ExerciseAngina  Oldpeak ST_Slope  HeartDisease  \n",
      "0         ST     70              N      0.0     Flat             1  \n",
      "1     Normal    106              N      0.0       Up             0  \n",
      "2     Normal    180              N      0.0       Up             0  \n",
      "3         ST    126              Y      0.8     Flat             0  \n",
      "4         ST    140              Y      1.5     Flat             0  \n"
     ]
    }
   ],
   "source": [
    "data_longbeach = pd.read_excel('LongBeach.xlsx')\n",
    "data_longbeach.shape\n",
    "print(data_longbeach.head())\n",
    "#data_longbeach[data_longbeach['Cholesterol']==0]"
   ]
  },
  {
   "cell_type": "code",
   "execution_count": null,
   "metadata": {},
   "outputs": [],
   "source": []
  },
  {
   "cell_type": "code",
   "execution_count": 3,
   "metadata": {},
   "outputs": [
    {
     "name": "stdout",
     "output_type": "stream",
     "text": [
      "Location          0\n",
      "Age               0\n",
      "Sex               0\n",
      "ChestPainType     0\n",
      "RestingBP         0\n",
      "Cholesterol       0\n",
      "FastingBS         0\n",
      "RestingECG        0\n",
      "MaxHR             0\n",
      "ExerciseAngina    0\n",
      "Oldpeak           0\n",
      "ST_Slope          0\n",
      "HeartDisease      0\n",
      "dtype: int64\n"
     ]
    }
   ],
   "source": [
    "print(data_longbeach.isnull().sum())"
   ]
  },
  {
   "cell_type": "code",
   "execution_count": 4,
   "metadata": {
    "scrolled": true
   },
   "outputs": [
    {
     "name": "stdout",
     "output_type": "stream",
     "text": [
      "The number of values for feature Location is:1 -- ['Long Beach']\n",
      "The number of values for feature Age is:41\n",
      "The number of values for feature Sex is:2 -- ['F' 'M']\n",
      "The number of values for feature ChestPainType is:4 -- ['ASY' 'ATA' 'NAP' 'TA']\n",
      "The number of values for feature RestingBP is:39\n",
      "The number of values for feature Cholesterol is:100\n",
      "The number of values for feature FastingBS is:2 -- [0 1]\n",
      "The number of values for feature RestingECG is:3 -- ['LVH' 'Normal' 'ST']\n",
      "The number of values for feature MaxHR is:60\n",
      "The number of values for feature ExerciseAngina is:2 -- ['N' 'Y']\n",
      "The number of values for feature Oldpeak is:36\n",
      "The number of values for feature ST_Slope is:3 -- ['Down' 'Flat' 'Up']\n",
      "The number of values for feature HeartDisease is:2 -- [0 1]\n"
     ]
    }
   ],
   "source": [
    "#Investigating all features within a column\n",
    "\n",
    "for columns in data_longbeach:\n",
    "    unique_values = np.unique(data_longbeach[columns])\n",
    "    count_values = len(unique_values)\n",
    "    if count_values < 10:\n",
    "        print('The number of values for feature {} is:{} -- {}'.format(columns,count_values,unique_values))\n",
    "    else:\n",
    "        print('The number of values for feature {} is:{}'.format(columns,count_values))"
   ]
  },
  {
   "cell_type": "code",
   "execution_count": 5,
   "metadata": {},
   "outputs": [
    {
     "data": {
      "text/plain": [
       "Index(['Location', 'Age', 'Sex', 'ChestPainType', 'RestingBP', 'Cholesterol',\n",
       "       'FastingBS', 'RestingECG', 'MaxHR', 'ExerciseAngina', 'Oldpeak',\n",
       "       'ST_Slope', 'HeartDisease'],\n",
       "      dtype='object')"
      ]
     },
     "execution_count": 5,
     "metadata": {},
     "output_type": "execute_result"
    }
   ],
   "source": [
    "data_longbeach.columns"
   ]
  },
  {
   "cell_type": "code",
   "execution_count": 6,
   "metadata": {},
   "outputs": [
    {
     "data": {
      "image/png": "[encoded data removed]",
      "text/plain": [
       "<Figure size 432x288 with 1 Axes>"
      ]
     },
     "metadata": {
      "needs_background": "light"
     },
     "output_type": "display_data"
    },
    {
     "data": {
      "image/png": "[encoded data removed]",
      "text/plain": [
       "<Figure size 432x288 with 1 Axes>"
      ]
     },
     "metadata": {
      "needs_background": "light"
     },
     "output_type": "display_data"
    },
    {
     "data": {
      "image/png": "[encoded data removed]",
      "text/plain": [
       "<Figure size 432x288 with 1 Axes>"
      ]
     },
     "metadata": {
      "needs_background": "light"
     },
     "output_type": "display_data"
    },
    {
     "data": {
      "image/png": "[encoded data removed]",
      "text/plain": [
       "<Figure size 432x288 with 1 Axes>"
      ]
     },
     "metadata": {
      "needs_background": "light"
     },
     "output_type": "display_data"
    },
    {
     "data": {
      "image/png": "[encoded data removed]",
      "text/plain": [
       "<Figure size 432x288 with 1 Axes>"
      ]
     },
     "metadata": {
      "needs_background": "light"
     },
     "output_type": "display_data"
    },
    {
     "data": {
      "image/png": "[encoded data removed]",
      "text/plain": [
       "<Figure size 432x288 with 1 Axes>"
      ]
     },
     "metadata": {
      "needs_background": "light"
     },
     "output_type": "display_data"
    },
    {
     "data": {
      "image/png": "[encoded data removed]",
      "text/plain": [
       "<Figure size 432x288 with 1 Axes>"
      ]
     },
     "metadata": {
      "needs_background": "light"
     },
     "output_type": "display_data"
    },
    {
     "data": {
      "image/png": "[encoded data removed]",
      "text/plain": [
       "<Figure size 432x288 with 1 Axes>"
      ]
     },
     "metadata": {
      "needs_background": "light"
     },
     "output_type": "display_data"
    },
    {
     "data": {
      "image/png": "[encoded data removed]",
      "text/plain": [
       "<Figure size 432x288 with 1 Axes>"
      ]
     },
     "metadata": {
      "needs_background": "light"
     },
     "output_type": "display_data"
    },
    {
     "data": {
      "image/png": "[encoded data removed]",
      "text/plain": [
       "<Figure size 432x288 with 1 Axes>"
      ]
     },
     "metadata": {
      "needs_background": "light"
     },
     "output_type": "display_data"
    },
    {
     "data": {
      "image/png": "[encoded data removed]",
      "text/plain": [
       "<Figure size 432x288 with 1 Axes>"
      ]
     },
     "metadata": {
      "needs_background": "light"
     },
     "output_type": "display_data"
    },
    {
     "data": {
      "image/png": "[encoded data removed]",
      "text/plain": [
       "<Figure size 432x288 with 1 Axes>"
      ]
     },
     "metadata": {
      "needs_background": "light"
     },
     "output_type": "display_data"
    }
   ],
   "source": [
    "#Evaluating each feature and observing the affect on Y\n",
    "feature = ['Location', 'Age', 'Sex', 'ChestPainType', 'RestingBP', 'Cholesterol',\n",
    "       'FastingBS', 'RestingECG', 'MaxHR', 'ExerciseAngina', 'Oldpeak',\n",
    "       'ST_Slope']\n",
    "\n",
    "for f in feature:\n",
    "    sns.countplot(x = f,data = data_longbeach,palette='Set3',hue = 'HeartDisease')\n",
    "    plt.show()"
   ]
  },
  {
   "cell_type": "code",
   "execution_count": 24,
   "metadata": {
    "scrolled": true
   },
   "outputs": [
    {
     "data": {
      "text/html": [
       "<div>\n",
       "<style scoped>\n",
       "    .dataframe tbody tr th:only-of-type {\n",
       "        vertical-align: middle;\n",
       "    }\n",
       "\n",
       "    .dataframe tbody tr th {\n",
       "        vertical-align: top;\n",
       "    }\n",
       "\n",
       "    .dataframe thead th {\n",
       "        text-align: right;\n",
       "    }\n",
       "</style>\n",
       "<table border=\"1\" class=\"dataframe\">\n",
       "  <thead>\n",
       "    <tr style=\"text-align: right;\">\n",
       "      <th></th>\n",
       "      <th>Location</th>\n",
       "      <th>Age</th>\n",
       "      <th>RestingBP</th>\n",
       "      <th>Cholesterol</th>\n",
       "      <th>FastingBS</th>\n",
       "      <th>MaxHR</th>\n",
       "      <th>Oldpeak</th>\n",
       "      <th>HeartDisease</th>\n",
       "      <th>ChestPainType_ASY</th>\n",
       "      <th>ChestPainType_ATA</th>\n",
       "      <th>...</th>\n",
       "      <th>Sex_F</th>\n",
       "      <th>Sex_M</th>\n",
       "      <th>RestingECG_LVH</th>\n",
       "      <th>RestingECG_Normal</th>\n",
       "      <th>RestingECG_ST</th>\n",
       "      <th>ExerciseAngina_N</th>\n",
       "      <th>ExerciseAngina_Y</th>\n",
       "      <th>ST_Slope_Down</th>\n",
       "      <th>ST_Slope_Flat</th>\n",
       "      <th>ST_Slope_Up</th>\n",
       "    </tr>\n",
       "  </thead>\n",
       "  <tbody>\n",
       "    <tr>\n",
       "      <th>0</th>\n",
       "      <td>Long Beach</td>\n",
       "      <td>61</td>\n",
       "      <td>200</td>\n",
       "      <td>0</td>\n",
       "      <td>1</td>\n",
       "      <td>70</td>\n",
       "      <td>0.0</td>\n",
       "      <td>1</td>\n",
       "      <td>0</td>\n",
       "      <td>0</td>\n",
       "      <td>...</td>\n",
       "      <td>0</td>\n",
       "      <td>1</td>\n",
       "      <td>0</td>\n",
       "      <td>0</td>\n",
       "      <td>1</td>\n",
       "      <td>1</td>\n",
       "      <td>0</td>\n",
       "      <td>0</td>\n",
       "      <td>1</td>\n",
       "      <td>0</td>\n",
       "    </tr>\n",
       "    <tr>\n",
       "      <th>1</th>\n",
       "      <td>Long Beach</td>\n",
       "      <td>39</td>\n",
       "      <td>190</td>\n",
       "      <td>241</td>\n",
       "      <td>0</td>\n",
       "      <td>106</td>\n",
       "      <td>0.0</td>\n",
       "      <td>0</td>\n",
       "      <td>0</td>\n",
       "      <td>1</td>\n",
       "      <td>...</td>\n",
       "      <td>0</td>\n",
       "      <td>1</td>\n",
       "      <td>0</td>\n",
       "      <td>1</td>\n",
       "      <td>0</td>\n",
       "      <td>1</td>\n",
       "      <td>0</td>\n",
       "      <td>0</td>\n",
       "      <td>0</td>\n",
       "      <td>1</td>\n",
       "    </tr>\n",
       "    <tr>\n",
       "      <th>2</th>\n",
       "      <td>Long Beach</td>\n",
       "      <td>45</td>\n",
       "      <td>180</td>\n",
       "      <td>295</td>\n",
       "      <td>0</td>\n",
       "      <td>180</td>\n",
       "      <td>0.0</td>\n",
       "      <td>0</td>\n",
       "      <td>0</td>\n",
       "      <td>1</td>\n",
       "      <td>...</td>\n",
       "      <td>1</td>\n",
       "      <td>0</td>\n",
       "      <td>0</td>\n",
       "      <td>1</td>\n",
       "      <td>0</td>\n",
       "      <td>1</td>\n",
       "      <td>0</td>\n",
       "      <td>0</td>\n",
       "      <td>0</td>\n",
       "      <td>1</td>\n",
       "    </tr>\n",
       "    <tr>\n",
       "      <th>3</th>\n",
       "      <td>Long Beach</td>\n",
       "      <td>57</td>\n",
       "      <td>180</td>\n",
       "      <td>347</td>\n",
       "      <td>0</td>\n",
       "      <td>126</td>\n",
       "      <td>0.8</td>\n",
       "      <td>0</td>\n",
       "      <td>1</td>\n",
       "      <td>0</td>\n",
       "      <td>...</td>\n",
       "      <td>1</td>\n",
       "      <td>0</td>\n",
       "      <td>0</td>\n",
       "      <td>0</td>\n",
       "      <td>1</td>\n",
       "      <td>0</td>\n",
       "      <td>1</td>\n",
       "      <td>0</td>\n",
       "      <td>1</td>\n",
       "      <td>0</td>\n",
       "    </tr>\n",
       "    <tr>\n",
       "      <th>4</th>\n",
       "      <td>Long Beach</td>\n",
       "      <td>60</td>\n",
       "      <td>180</td>\n",
       "      <td>0</td>\n",
       "      <td>0</td>\n",
       "      <td>140</td>\n",
       "      <td>1.5</td>\n",
       "      <td>0</td>\n",
       "      <td>0</td>\n",
       "      <td>0</td>\n",
       "      <td>...</td>\n",
       "      <td>0</td>\n",
       "      <td>1</td>\n",
       "      <td>0</td>\n",
       "      <td>0</td>\n",
       "      <td>1</td>\n",
       "      <td>0</td>\n",
       "      <td>1</td>\n",
       "      <td>0</td>\n",
       "      <td>1</td>\n",
       "      <td>0</td>\n",
       "    </tr>\n",
       "    <tr>\n",
       "      <th>...</th>\n",
       "      <td>...</td>\n",
       "      <td>...</td>\n",
       "      <td>...</td>\n",
       "      <td>...</td>\n",
       "      <td>...</td>\n",
       "      <td>...</td>\n",
       "      <td>...</td>\n",
       "      <td>...</td>\n",
       "      <td>...</td>\n",
       "      <td>...</td>\n",
       "      <td>...</td>\n",
       "      <td>...</td>\n",
       "      <td>...</td>\n",
       "      <td>...</td>\n",
       "      <td>...</td>\n",
       "      <td>...</td>\n",
       "      <td>...</td>\n",
       "      <td>...</td>\n",
       "      <td>...</td>\n",
       "      <td>...</td>\n",
       "      <td>...</td>\n",
       "    </tr>\n",
       "    <tr>\n",
       "      <th>208</th>\n",
       "      <td>Long Beach</td>\n",
       "      <td>32</td>\n",
       "      <td>95</td>\n",
       "      <td>0</td>\n",
       "      <td>1</td>\n",
       "      <td>127</td>\n",
       "      <td>0.7</td>\n",
       "      <td>1</td>\n",
       "      <td>0</td>\n",
       "      <td>0</td>\n",
       "      <td>...</td>\n",
       "      <td>0</td>\n",
       "      <td>1</td>\n",
       "      <td>0</td>\n",
       "      <td>1</td>\n",
       "      <td>0</td>\n",
       "      <td>1</td>\n",
       "      <td>0</td>\n",
       "      <td>0</td>\n",
       "      <td>0</td>\n",
       "      <td>1</td>\n",
       "    </tr>\n",
       "    <tr>\n",
       "      <th>209</th>\n",
       "      <td>Long Beach</td>\n",
       "      <td>51</td>\n",
       "      <td>95</td>\n",
       "      <td>0</td>\n",
       "      <td>1</td>\n",
       "      <td>126</td>\n",
       "      <td>2.2</td>\n",
       "      <td>1</td>\n",
       "      <td>1</td>\n",
       "      <td>0</td>\n",
       "      <td>...</td>\n",
       "      <td>0</td>\n",
       "      <td>1</td>\n",
       "      <td>0</td>\n",
       "      <td>1</td>\n",
       "      <td>0</td>\n",
       "      <td>1</td>\n",
       "      <td>0</td>\n",
       "      <td>0</td>\n",
       "      <td>1</td>\n",
       "      <td>0</td>\n",
       "    </tr>\n",
       "    <tr>\n",
       "      <th>210</th>\n",
       "      <td>Long Beach</td>\n",
       "      <td>52</td>\n",
       "      <td>95</td>\n",
       "      <td>0</td>\n",
       "      <td>1</td>\n",
       "      <td>82</td>\n",
       "      <td>0.8</td>\n",
       "      <td>1</td>\n",
       "      <td>1</td>\n",
       "      <td>0</td>\n",
       "      <td>...</td>\n",
       "      <td>0</td>\n",
       "      <td>1</td>\n",
       "      <td>0</td>\n",
       "      <td>1</td>\n",
       "      <td>0</td>\n",
       "      <td>0</td>\n",
       "      <td>1</td>\n",
       "      <td>0</td>\n",
       "      <td>1</td>\n",
       "      <td>0</td>\n",
       "    </tr>\n",
       "    <tr>\n",
       "      <th>211</th>\n",
       "      <td>Long Beach</td>\n",
       "      <td>57</td>\n",
       "      <td>95</td>\n",
       "      <td>0</td>\n",
       "      <td>1</td>\n",
       "      <td>182</td>\n",
       "      <td>0.7</td>\n",
       "      <td>1</td>\n",
       "      <td>1</td>\n",
       "      <td>0</td>\n",
       "      <td>...</td>\n",
       "      <td>0</td>\n",
       "      <td>1</td>\n",
       "      <td>0</td>\n",
       "      <td>1</td>\n",
       "      <td>0</td>\n",
       "      <td>1</td>\n",
       "      <td>0</td>\n",
       "      <td>1</td>\n",
       "      <td>0</td>\n",
       "      <td>0</td>\n",
       "    </tr>\n",
       "    <tr>\n",
       "      <th>212</th>\n",
       "      <td>Long Beach</td>\n",
       "      <td>38</td>\n",
       "      <td>92</td>\n",
       "      <td>117</td>\n",
       "      <td>0</td>\n",
       "      <td>134</td>\n",
       "      <td>2.5</td>\n",
       "      <td>1</td>\n",
       "      <td>1</td>\n",
       "      <td>0</td>\n",
       "      <td>...</td>\n",
       "      <td>0</td>\n",
       "      <td>1</td>\n",
       "      <td>0</td>\n",
       "      <td>1</td>\n",
       "      <td>0</td>\n",
       "      <td>0</td>\n",
       "      <td>1</td>\n",
       "      <td>0</td>\n",
       "      <td>1</td>\n",
       "      <td>0</td>\n",
       "    </tr>\n",
       "  </tbody>\n",
       "</table>\n",
       "<p>213 rows × 22 columns</p>\n",
       "</div>"
      ],
      "text/plain": [
       "       Location  Age  RestingBP  Cholesterol  FastingBS  MaxHR  Oldpeak  \\\n",
       "0    Long Beach   61        200            0          1     70      0.0   \n",
       "1    Long Beach   39        190          241          0    106      0.0   \n",
       "2    Long Beach   45        180          295          0    180      0.0   \n",
       "3    Long Beach   57        180          347          0    126      0.8   \n",
       "4    Long Beach   60        180            0          0    140      1.5   \n",
       "..          ...  ...        ...          ...        ...    ...      ...   \n",
       "208  Long Beach   32         95            0          1    127      0.7   \n",
       "209  Long Beach   51         95            0          1    126      2.2   \n",
       "210  Long Beach   52         95            0          1     82      0.8   \n",
       "211  Long Beach   57         95            0          1    182      0.7   \n",
       "212  Long Beach   38         92          117          0    134      2.5   \n",
       "\n",
       "     HeartDisease  ChestPainType_ASY  ChestPainType_ATA  ...  Sex_F  Sex_M  \\\n",
       "0               1                  0                  0  ...      0      1   \n",
       "1               0                  0                  1  ...      0      1   \n",
       "2               0                  0                  1  ...      1      0   \n",
       "3               0                  1                  0  ...      1      0   \n",
       "4               0                  0                  0  ...      0      1   \n",
       "..            ...                ...                ...  ...    ...    ...   \n",
       "208             1                  0                  0  ...      0      1   \n",
       "209             1                  1                  0  ...      0      1   \n",
       "210             1                  1                  0  ...      0      1   \n",
       "211             1                  1                  0  ...      0      1   \n",
       "212             1                  1                  0  ...      0      1   \n",
       "\n",
       "     RestingECG_LVH  RestingECG_Normal  RestingECG_ST  ExerciseAngina_N  \\\n",
       "0                 0                  0              1                 1   \n",
       "1                 0                  1              0                 1   \n",
       "2                 0                  1              0                 1   \n",
       "3                 0                  0              1                 0   \n",
       "4                 0                  0              1                 0   \n",
       "..              ...                ...            ...               ...   \n",
       "208               0                  1              0                 1   \n",
       "209               0                  1              0                 1   \n",
       "210               0                  1              0                 0   \n",
       "211               0                  1              0                 1   \n",
       "212               0                  1              0                 0   \n",
       "\n",
       "     ExerciseAngina_Y  ST_Slope_Down  ST_Slope_Flat  ST_Slope_Up  \n",
       "0                   0              0              1            0  \n",
       "1                   0              0              0            1  \n",
       "2                   0              0              0            1  \n",
       "3                   1              0              1            0  \n",
       "4                   1              0              1            0  \n",
       "..                ...            ...            ...          ...  \n",
       "208                 0              0              0            1  \n",
       "209                 0              0              1            0  \n",
       "210                 1              0              1            0  \n",
       "211                 0              1              0            0  \n",
       "212                 1              0              1            0  \n",
       "\n",
       "[213 rows x 22 columns]"
      ]
     },
     "execution_count": 24,
     "metadata": {},
     "output_type": "execute_result"
    }
   ],
   "source": [
    "#Feature Selection\n",
    "# Converting all variables \n",
    "longbeach_data = pd.get_dummies(data_longbeach,columns = [\"ChestPainType\", \"Sex\",\"RestingECG\",\"ExerciseAngina\",\"ST_Slope\"],prefix=[\"ChestPainType\", \"Sex\",\"RestingECG\",\"ExerciseAngina\",\"ST_Slope\"])\n",
    "longbeach_data.shape\n",
    "longbeach_data"
   ]
  },
  {
   "cell_type": "code",
   "execution_count": 25,
   "metadata": {},
   "outputs": [
    {
     "name": "stdout",
     "output_type": "stream",
     "text": [
      "     Location  Age Sex ChestPainType  RestingBP  Cholesterol  FastingBS  \\\n",
      "0  Long Beach   61   M           NAP        200            0          1   \n",
      "1  Long Beach   39   M           ATA        190          241          0   \n",
      "2  Long Beach   45   F           ATA        180          295          0   \n",
      "3  Long Beach   57   F           ASY        180          347          0   \n",
      "4  Long Beach   60   M           NAP        180            0          0   \n",
      "\n",
      "  RestingECG  MaxHR ExerciseAngina  Oldpeak ST_Slope  HeartDisease  \n",
      "0         ST     70              N      0.0     Flat             1  \n",
      "1     Normal    106              N      0.0       Up             0  \n",
      "2     Normal    180              N      0.0       Up             0  \n",
      "3         ST    126              Y      0.8     Flat             0  \n",
      "4         ST    140              Y      1.5     Flat             0  \n"
     ]
    }
   ],
   "source": [
    "print(data_longbeach.head())"
   ]
  },
  {
   "cell_type": "code",
   "execution_count": 8,
   "metadata": {},
   "outputs": [],
   "source": [
    "longbeach_data['Cholesterol'].replace(0,method='ffill',inplace=True)"
   ]
  },
  {
   "cell_type": "code",
   "execution_count": 10,
   "metadata": {},
   "outputs": [],
   "source": [
    "longbeach_data['Oldpeak'].replace(0,longbeach_data['Oldpeak'].mean(),inplace=True)"
   ]
  },
  {
   "cell_type": "code",
   "execution_count": null,
   "metadata": {},
   "outputs": [],
   "source": []
  },
  {
   "cell_type": "markdown",
   "metadata": {},
   "source": [
    "#As the ration of heartdisease is very different, we need to balance the dataset to avoid any bias in our model. We have used an oversampling technique to deal with the issue without loosing any data"
   ]
  },
  {
   "cell_type": "code",
   "execution_count": 12,
   "metadata": {
    "scrolled": true
   },
   "outputs": [],
   "source": [
    "X = longbeach_data.drop(['HeartDisease','Location'],axis=1).values     # Predictor feature columns \n",
    "Y = longbeach_data['HeartDisease'].values   # Predicted class (1=True, 0=False) "
   ]
  },
  {
   "cell_type": "code",
   "execution_count": 13,
   "metadata": {},
   "outputs": [
    {
     "name": "stdout",
     "output_type": "stream",
     "text": [
      "0    130\n",
      "1     83\n",
      "Name: HeartDisease, dtype: int64\n"
     ]
    },
    {
     "name": "stderr",
     "output_type": "stream",
     "text": [
      "/Users/saim/opt/anaconda3/lib/python3.8/site-packages/seaborn/_decorators.py:36: FutureWarning: Pass the following variable as a keyword arg: x. From version 0.12, the only valid positional argument will be `data`, and passing other arguments without an explicit keyword will result in an error or misinterpretation.\n",
      "  warnings.warn(\n"
     ]
    },
    {
     "data": {
      "text/plain": [
       "<AxesSubplot:ylabel='count'>"
      ]
     },
     "execution_count": 13,
     "metadata": {},
     "output_type": "execute_result"
    },
    {
     "data": {
      "image/png": "[encoded data removed]",
      "text/plain": [
       "<Figure size 432x288 with 1 Axes>"
      ]
     },
     "metadata": {
      "needs_background": "light"
     },
     "output_type": "display_data"
    }
   ],
   "source": [
    "no_hd=data_longbeach[data_longbeach['HeartDisease']==0]\n",
    "yes_hd=data_longbeach[data_longbeach['HeartDisease']== 1]\n",
    "print(data_longbeach['HeartDisease'].value_counts())\n",
    "\n",
    "sns.countplot(Y)"
   ]
  },
  {
   "cell_type": "code",
   "execution_count": 14,
   "metadata": {},
   "outputs": [],
   "source": [
    "# #Handeling imbalances in dataset\n",
    "from imblearn.combine import SMOTETomek\n",
    "#Implementing oversampling for handeling imbalance\n",
    "smk = SMOTETomek(random_state = 42)\n",
    "#X_res,y_res = smk.fit_resample(X,Y)"
   ]
  },
  {
   "cell_type": "code",
   "execution_count": 17,
   "metadata": {},
   "outputs": [],
   "source": [
    "from collections import Counter\n",
    "#print('Original Dataset Shape {}'.format(Counter(Y)))\n",
    "#print('Resampled Dataset Shape {}'.format(Counter(y_res)))\n",
    "#sns.countplot(y_res)"
   ]
  },
  {
   "cell_type": "markdown",
   "metadata": {},
   "source": []
  },
  {
   "cell_type": "markdown",
   "metadata": {},
   "source": [
    "Since Cholestrol Level Cannot be 0 we are replacing 0 with mean of the column 'Cholestrol'"
   ]
  },
  {
   "cell_type": "markdown",
   "metadata": {},
   "source": [
    "# LOGISTIC REGRESSION"
   ]
  },
  {
   "cell_type": "code",
   "execution_count": null,
   "metadata": {},
   "outputs": [],
   "source": [
    "############# Applying Logistic Regression ##################\n",
    "#X_logreg = Cleve_data[columns_to_keep].values\n",
    "#y_logreg = Cleve_data['HeartDisease']"
   ]
  },
  {
   "cell_type": "code",
   "execution_count": 19,
   "metadata": {},
   "outputs": [],
   "source": [
    "X_logreg = longbeach_data.drop(['HeartDisease','Location'],axis=1)    # Predictor feature columns \n",
    "Y_logreg = longbeach_data['HeartDisease']"
   ]
  },
  {
   "cell_type": "code",
   "execution_count": 20,
   "metadata": {},
   "outputs": [],
   "source": [
    "#Resampling for Logistic Regression\n",
    "X_new,y_new = X_logreg,Y_logreg\n",
    "#smk.fit_resample("
   ]
  },
  {
   "cell_type": "code",
   "execution_count": 21,
   "metadata": {},
   "outputs": [],
   "source": [
    "columns = X_new.columns"
   ]
  },
  {
   "cell_type": "code",
   "execution_count": null,
   "metadata": {},
   "outputs": [],
   "source": [
    "## Import CV and cheking model accuracy\n",
    "#from sklearn.model_selection import cross_val_score\n",
    "#logreg = LogisticRegression(solver='lbfgs', max_iter=1000)\n",
    "#print(cross_val_score(logreg,X_log,y_log,cv=10,scoring='accuracy').mean())"
   ]
  },
  {
   "cell_type": "code",
   "execution_count": 22,
   "metadata": {},
   "outputs": [],
   "source": [
    "##### Splitting Data for Train , Test and Validate \n",
    "\n",
    "X_train, X_test, y_train, y_test  = train_test_split(X_new,y_new,test_size = 0.3, random_state = 55,stratify = y_new )\n",
    "\n"
   ]
  },
  {
   "cell_type": "code",
   "execution_count": 23,
   "metadata": {
    "scrolled": true
   },
   "outputs": [
    {
     "name": "stdout",
     "output_type": "stream",
     "text": [
      "(149, 20)\n",
      "(64, 20)\n",
      "(149,)\n",
      "(64,)\n"
     ]
    }
   ],
   "source": [
    "print(X_train.shape)\n",
    "print(X_test.shape)\n",
    "\n",
    "\n",
    "print(y_train.shape)\n",
    "print(y_test.shape)\n",
    "\n"
   ]
  },
  {
   "cell_type": "code",
   "execution_count": null,
   "metadata": {},
   "outputs": [],
   "source": [
    "#Running Log model\n",
    "model = LogisticRegression(solver='liblinear', max_iter=1000)\n",
    "log_results=model.fit(X_train, y_train)\n",
    "\n",
    "#Train Accuracy\n",
    "print('Training accuracy is {}'.format(model.score(X_train,y_train)))\n",
    "#predict on training set\n",
    "y_pred_train = model.predict(X_train)\n",
    "#Predictions using test set\n",
    "y_pred = model.predict(X_test)"
   ]
  },
  {
   "cell_type": "markdown",
   "metadata": {},
   "source": [
    "Model Evaluation"
   ]
  },
  {
   "cell_type": "code",
   "execution_count": null,
   "metadata": {},
   "outputs": [],
   "source": [
    "#Accuracy Score Training Set\n",
    "print('Training Set accuracy is {}'.format(model.score(X_train,y_train)))\n",
    "# Accuracy of test set\n",
    "print('Test Set accuracy is {}'.format(model.score(X_test,y_test)))\n",
    "\n",
    "#Classification Report\n",
    "print(classification_report(y_test,y_pred))\n",
    "\n",
    "y_pred"
   ]
  },
  {
   "cell_type": "code",
   "execution_count": null,
   "metadata": {},
   "outputs": [],
   "source": [
    "model.coef_[0]"
   ]
  },
  {
   "cell_type": "code",
   "execution_count": null,
   "metadata": {},
   "outputs": [],
   "source": [
    "#Confusion Matrix\n",
    "def plot_confusion_matrix(cm, classes=None, title='Confusion matrix'):\n",
    "    \"\"\"Plots a confusion matrix.\"\"\"\n",
    "    if classes is not None:\n",
    "        sns.heatmap(cm, cmap=\"YlGnBu\", xticklabels=classes, yticklabels=classes, vmin=0., vmax=1., annot=True, annot_kws={'size':50})\n",
    "    else:\n",
    "        sns.heatmap(cm, vmin=0., vmax=1.)\n",
    "    plt.title(title)\n",
    "    plt.ylabel('True label')\n",
    "    plt.xlabel('Predicted label')"
   ]
  },
  {
   "cell_type": "code",
   "execution_count": null,
   "metadata": {},
   "outputs": [],
   "source": [
    "lr_cm = confusion_matrix(y_test,y_pred)\n",
    "print(lr_cm)\n",
    "lrcm_norm = lr_cm/lr_cm.sum(axis=1).reshape(-1,1)\n",
    "plot_confusion_matrix(lrcm_norm,model.classes_)"
   ]
  },
  {
   "cell_type": "code",
   "execution_count": null,
   "metadata": {},
   "outputs": [],
   "source": [
    "# def get_feature_importance(model,feature_names):\n",
    "#     feature_importance = (\n",
    "#     pd.DataFrame({\n",
    "#             'variable':columns,\n",
    "#             'coefficient':model.coef_[0]\n",
    "#                 }\n",
    "#                 )\n",
    "#     .round(decimals=4)\\\n",
    "#     .sort_values('coefficient',ascending = False).reset_index(drop = True)\\\n",
    "#     .style.bar(color=['red','green'],align='zero')\\\n",
    "#     )\n",
    "#     return feature_importance\n",
    "# get_feature_importance(model,columns)"
   ]
  },
  {
   "cell_type": "code",
   "execution_count": null,
   "metadata": {},
   "outputs": [],
   "source": [
    "my_dict = dict(zip(columns,model.coef_[0]))"
   ]
  },
  {
   "cell_type": "code",
   "execution_count": null,
   "metadata": {},
   "outputs": [],
   "source": [
    "all_features = pd.DataFrame({'variable':columns,'coefficient':model.coef_[0]}).round(decimals=4)\\\n",
    ".sort_values('coefficient',ascending = False).reset_index(drop=True)\n",
    "#.set_index('variable')"
   ]
  },
  {
   "cell_type": "code",
   "execution_count": null,
   "metadata": {},
   "outputs": [],
   "source": [
    "confusion_matrix(y_test,y_pred)\n"
   ]
  },
  {
   "cell_type": "code",
   "execution_count": null,
   "metadata": {},
   "outputs": [],
   "source": [
    "all_features.style.bar(color=['red','green'],align='zero')"
   ]
  },
  {
   "cell_type": "code",
   "execution_count": null,
   "metadata": {},
   "outputs": [],
   "source": []
  },
  {
   "cell_type": "code",
   "execution_count": null,
   "metadata": {},
   "outputs": [],
   "source": []
  },
  {
   "cell_type": "code",
   "execution_count": null,
   "metadata": {},
   "outputs": [],
   "source": []
  },
  {
   "cell_type": "code",
   "execution_count": null,
   "metadata": {},
   "outputs": [],
   "source": []
  },
  {
   "cell_type": "code",
   "execution_count": null,
   "metadata": {},
   "outputs": [],
   "source": [
    "# Running OLS \n",
    "import statsmodels.api as sm\n",
    "from scipy import stats\n",
    "est = sm.Logit(y_train, X_train)\n",
    "lg = est.fit()\n",
    "print(lg.summary())"
   ]
  },
  {
   "cell_type": "code",
   "execution_count": null,
   "metadata": {},
   "outputs": [],
   "source": [
    "selected_features = all_features.drop([11,12,13,14,15])"
   ]
  },
  {
   "cell_type": "code",
   "execution_count": null,
   "metadata": {},
   "outputs": [],
   "source": [
    "selected_features = selected_features.reset_index(drop=True)"
   ]
  },
  {
   "cell_type": "code",
   "execution_count": null,
   "metadata": {},
   "outputs": [],
   "source": [
    "filtered= []\n",
    "for i in selected_features['variable']:\n",
    "    filtered.append(i)"
   ]
  },
  {
   "cell_type": "code",
   "execution_count": null,
   "metadata": {},
   "outputs": [],
   "source": [
    "#LOG REG WITH SELECTED FEATURES\n",
    "X_lg_1 = longbeach_data[filtered]\n",
    "X_new_1,y_new_1 = smk.fit_resample(X_lg_1,Y_logreg)\n",
    "X_train_1,X_test_1,y_train_1,y_test_1 = train_test_split(X_new_1,y_new_1, train_size=0.7,test_size = 0.3, random_state = 55,stratify = y_new_1)\n",
    "#Validation split\n",
    "X_train_1,X_valid_1,y_train_1,y_valid_1 = train_test_split(X_train_1,y_train_1,train_size = 0.80 , test_size = 0.2,random_state=55,stratify=y_train_1)\n",
    "model.fit(X_train_1, y_train_1)\n",
    "y_pred_1 = model.predict(X_test_1)\n"
   ]
  },
  {
   "cell_type": "code",
   "execution_count": null,
   "metadata": {},
   "outputs": [],
   "source": [
    "#Accuracy Score Training Set\n",
    "print('Training Set accuracy is {}'.format(model.score(X_train_1,y_train_1)))\n",
    "# Accuracy of test set\n",
    "print('Test Set accuracy is {}'.format(model.score(X_test_1,y_test_1)))\n",
    "\n",
    "#Classification Report\n",
    "print(classification_report(y_test_1,y_pred_1))\n",
    "\n",
    "y_pred\n",
    "predict_proba_1 = model.predict_proba(X_test_1)"
   ]
  },
  {
   "cell_type": "code",
   "execution_count": null,
   "metadata": {},
   "outputs": [],
   "source": [
    "new_scores = pd.DataFrame({'variable':filtered,'coefs':model.coef_[0]}).round(decimals=4)\\\n",
    ".sort_values('coefs',ascending = False).reset_index(drop=True)\\\n",
    ".style.bar(color=['red','green'],align='zero')\n",
    "\n",
    "new_scores "
   ]
  },
  {
   "cell_type": "markdown",
   "metadata": {},
   "source": [
    "EVALUATION METRIC 2 - CONFUSION MATRIX"
   ]
  },
  {
   "cell_type": "code",
   "execution_count": null,
   "metadata": {},
   "outputs": [],
   "source": [
    "#Visualizing CM\n",
    "cm = confusion_matrix(y_test_1,y_pred_1)\n",
    "# interms of percentage\n",
    "cm_norm = cm/cm.sum(axis=1).reshape(-1,1)\n",
    "cm_norm"
   ]
  },
  {
   "cell_type": "code",
   "execution_count": null,
   "metadata": {},
   "outputs": [],
   "source": [
    "y_pred.shape"
   ]
  },
  {
   "cell_type": "code",
   "execution_count": null,
   "metadata": {},
   "outputs": [],
   "source": [
    "cm"
   ]
  },
  {
   "cell_type": "code",
   "execution_count": null,
   "metadata": {},
   "outputs": [],
   "source": [
    "plot_confusion_matrix(cm_norm,model.classes_)"
   ]
  },
  {
   "cell_type": "markdown",
   "metadata": {},
   "source": [
    "PARAMETER TUNING FOR REDUCING LOGLOSS\n",
    "TUNING THE C PARAM\n",
    "We will loop over parameter C (Inverse of regularization strength).\n",
    "Inverse of regularization strength helps to avoid overfitting - it penalizes large values of your parameters\n",
    "It also helps to find Global Minimum by moving to better \"solutions\" from local minimum to global minimum\n",
    "The values of C to search should be n-equally-spaced values in log space ranging from 1e-5 to 1e5\n",
    "\n",
    "A local minimum of a function is a point where the function value is smaller than at nearby points, but possibly greater than at a distant point. A global minimum is a point where the function value is smaller than at all other feasible points."
   ]
  },
  {
   "cell_type": "markdown",
   "metadata": {},
   "source": [
    "# CLASSIFICATION TREES"
   ]
  },
  {
   "cell_type": "markdown",
   "metadata": {},
   "source": []
  },
  {
   "cell_type": "code",
   "execution_count": null,
   "metadata": {},
   "outputs": [],
   "source": [
    "params = {\n",
    "    'criterion':['gini','entropy'],\n",
    "    'max_depth':[1,2,3,4,5,6,7,8,9,10,11,12,13,None],\n",
    "    'min_samples_split':[0.1,0.2,0.3],\n",
    "    'min_samples_leaf':[1,2,3,4,5],\n",
    "    'max_features':['auto','sqrt','log2',None],\n",
    "    'splitter':['best','random']\n",
    "    \n",
    "}"
   ]
  },
  {
   "cell_type": "code",
   "execution_count": null,
   "metadata": {},
   "outputs": [],
   "source": [
    "#Choosing best params using GridSearchCV\n",
    "clf = GridSearchCV(DecisionTreeClassifier(random_state = 0),param_grid=params,cv=5,n_jobs=-1)"
   ]
  },
  {
   "cell_type": "code",
   "execution_count": null,
   "metadata": {},
   "outputs": [],
   "source": [
    "clf.fit(X_train,y_train)"
   ]
  },
  {
   "cell_type": "code",
   "execution_count": null,
   "metadata": {},
   "outputs": [],
   "source": [
    "clf.best_estimator_\n",
    "x = clf.best_estimator_"
   ]
  },
  {
   "cell_type": "code",
   "execution_count": null,
   "metadata": {},
   "outputs": [],
   "source": [
    "dt = x\n",
    "dt.fit(X_train,y_train)\n",
    "y_pred= dt.predict(X_test)\n"
   ]
  },
  {
   "cell_type": "code",
   "execution_count": null,
   "metadata": {},
   "outputs": [],
   "source": [
    "dt.score(X_train,y_train)"
   ]
  },
  {
   "cell_type": "code",
   "execution_count": null,
   "metadata": {},
   "outputs": [],
   "source": [
    "print(dt.score(X_test,y_test))\n",
    "print(classification_report(y_test,y_pred))"
   ]
  },
  {
   "cell_type": "code",
   "execution_count": null,
   "metadata": {},
   "outputs": [],
   "source": [
    "fi_col =[]\n",
    "fi = []\n",
    "from sklearn import metrics\n",
    "\n",
    "#Running Feature Importance \n",
    "for i,column in enumerate(longbeach_data.drop(['HeartDisease','Location'],axis=1)):\n",
    "    print('The Feature importance for {} is:{}'.format(column,dt.feature_importances_[i]))\n",
    "    \n",
    "    fi_col.append(column)\n",
    "    fi.append(dt.feature_importances_[i])\n",
    "    "
   ]
  },
  {
   "cell_type": "code",
   "execution_count": null,
   "metadata": {},
   "outputs": [],
   "source": [
    "df_cm =confusion_matrix(y_test,y_pred)\n",
    "df_cm\n",
    "dfcm_percentage = df_cm/df_cm.sum(axis=1).reshape(-1,1)\n",
    "plot_confusion_matrix(dfcm_percentage,dt.classes_)"
   ]
  },
  {
   "cell_type": "code",
   "execution_count": null,
   "metadata": {},
   "outputs": [],
   "source": [
    "df_cm"
   ]
  },
  {
   "cell_type": "code",
   "execution_count": null,
   "metadata": {
    "scrolled": true
   },
   "outputs": [],
   "source": [
    "fi_df=zip(fi_col,fi)\n",
    "fi_df = pd.DataFrame(fi_df,columns=['Feature','Feature Importance'])\n",
    "importance = fi_df.sort_values('Feature Importance',ascending = False).reset_index(drop = True)\n",
    "importance\n"
   ]
  },
  {
   "cell_type": "code",
   "execution_count": null,
   "metadata": {},
   "outputs": [],
   "source": [
    "columns_to_keep = importance['Feature'][0:4]\n",
    "longbeach_data[columns_to_keep].shape"
   ]
  },
  {
   "cell_type": "code",
   "execution_count": null,
   "metadata": {},
   "outputs": [],
   "source": [
    "dt_longbeach = longbeach_data[columns_to_keep]"
   ]
  },
  {
   "cell_type": "code",
   "execution_count": null,
   "metadata": {},
   "outputs": [],
   "source": [
    "print(dt_longbeach.shape)\n",
    "print(Y.shape)"
   ]
  },
  {
   "cell_type": "code",
   "execution_count": null,
   "metadata": {},
   "outputs": [],
   "source": [
    "dt_x,dt_y = dt_longbeach,Y\n",
    "#smk.fit_resample"
   ]
  },
  {
   "cell_type": "code",
   "execution_count": null,
   "metadata": {},
   "outputs": [],
   "source": [
    "x_train,x_test,Y_train,Y_test = train_test_split(dt_x,dt_y,test_size=0.3,stratify=dt_y)"
   ]
  },
  {
   "cell_type": "code",
   "execution_count": null,
   "metadata": {},
   "outputs": [],
   "source": [
    "clf_2 = GridSearchCV(DecisionTreeClassifier(random_state=0),param_grid=params,cv=8,n_jobs=-1)"
   ]
  },
  {
   "cell_type": "code",
   "execution_count": null,
   "metadata": {},
   "outputs": [],
   "source": [
    "clf_2.fit(x_train,Y_train)"
   ]
  },
  {
   "cell_type": "code",
   "execution_count": null,
   "metadata": {},
   "outputs": [],
   "source": [
    "print(clf_2.best_estimator_)\n",
    "x2 = clf_2.best_estimator_"
   ]
  },
  {
   "cell_type": "code",
   "execution_count": null,
   "metadata": {},
   "outputs": [],
   "source": [
    "\n",
    "dt_2 = x2\n",
    "dt_2.fit(x_train,Y_train)\n",
    "dt_pred_2 = dt_2.predict(x_test)\n",
    "dt_2.score(x_test,Y_test)"
   ]
  },
  {
   "cell_type": "code",
   "execution_count": null,
   "metadata": {},
   "outputs": [],
   "source": [
    "df_cm_2 =confusion_matrix(Y_test,dt_pred_2)\n",
    "print(df_cm_2)\n",
    "df2_norm = df_cm_2/df_cm_2.sum(axis=1).reshape(-1,1)\n",
    "plot_confusion_matrix(df2_norm,dt_2.classes_)\n",
    "print(classification_report(Y_test,dt_pred_2))"
   ]
  },
  {
   "cell_type": "code",
   "execution_count": null,
   "metadata": {},
   "outputs": [],
   "source": [
    "print(classification_report(Y_test,dt_pred_2))"
   ]
  },
  {
   "cell_type": "code",
   "execution_count": null,
   "metadata": {},
   "outputs": [],
   "source": []
  },
  {
   "cell_type": "code",
   "execution_count": null,
   "metadata": {},
   "outputs": [],
   "source": []
  },
  {
   "cell_type": "code",
   "execution_count": null,
   "metadata": {},
   "outputs": [],
   "source": []
  },
  {
   "cell_type": "code",
   "execution_count": null,
   "metadata": {},
   "outputs": [],
   "source": []
  }
 ],
 "metadata": {
  "kernelspec": {
   "display_name": "Python 3 (ipykernel)",
   "language": "python",
   "name": "python3"
  },
  "language_info": {
   "codemirror_mode": {
    "name": "ipython",
    "version": 3
   },
   "file_extension": ".py",
   "mimetype": "text/x-python",
   "name": "python",
   "nbconvert_exporter": "python",
   "pygments_lexer": "ipython3",
   "version": "3.9.7"
  }
 },
 "nbformat": 4,
 "nbformat_minor": 4
}
