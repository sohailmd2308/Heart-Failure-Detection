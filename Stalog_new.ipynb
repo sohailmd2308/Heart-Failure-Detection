{
 "cells": [
  {
   "cell_type": "code",
   "execution_count": 1,
   "metadata": {},
   "outputs": [],
   "source": [
    "import pandas as pd\n",
    "import numpy as np\n",
    "import os\n",
    "from matplotlib import pyplot as plt\n",
    "from sklearn.linear_model import LogisticRegression\n",
    "from sklearn.tree import DecisionTreeClassifier\n",
    "from sklearn.model_selection import train_test_split\n",
    "from sklearn.model_selection import GridSearchCV\n",
    "from sklearn.metrics import r2_score,explained_variance_score,confusion_matrix,accuracy_score,classification_report,log_loss\n",
    "import seaborn as sns"
   ]
  },
  {
   "cell_type": "code",
   "execution_count": 2,
   "metadata": {},
   "outputs": [
    {
     "name": "stdout",
     "output_type": "stream",
     "text": [
      "  Location  Age Sex ChestPainType  RestingBP  Cholesterol  FastingBS  \\\n",
      "0   Stalog   59   M            TA        178          270          0   \n",
      "1   Stalog   70   M           ATA        156          245          0   \n",
      "2   Stalog   56   M           NAP        155            0          0   \n",
      "3   Stalog   66   M           ASY        150            0          0   \n",
      "4   Stalog   59   M           NAP        150          212          1   \n",
      "\n",
      "  RestingECG  MaxHR ExerciseAngina  Oldpeak ST_Slope  HeartDisease  \n",
      "0        LVH    145              N      4.2     Down             0  \n",
      "1        LVH    143              N      0.0       Up             0  \n",
      "2         ST     99              N      0.0     Flat             1  \n",
      "3     Normal    108              Y      2.0     Flat             1  \n",
      "4     Normal    157              N      1.6       Up             0  \n"
     ]
    }
   ],
   "source": [
    "data_stalog = pd.read_excel('stalog.xlsx')\n",
    "data_stalog.shape\n",
    "print(data_stalog.head())\n",
    "#data_stalog[data_stalog['Cholesterol']==0]"
   ]
  },
  {
   "cell_type": "code",
   "execution_count": 3,
   "metadata": {},
   "outputs": [
    {
     "name": "stdout",
     "output_type": "stream",
     "text": [
      "Location          0\n",
      "Age               0\n",
      "Sex               0\n",
      "ChestPainType     0\n",
      "RestingBP         0\n",
      "Cholesterol       0\n",
      "FastingBS         0\n",
      "RestingECG        0\n",
      "MaxHR             0\n",
      "ExerciseAngina    0\n",
      "Oldpeak           0\n",
      "ST_Slope          0\n",
      "HeartDisease      0\n",
      "dtype: int64\n"
     ]
    }
   ],
   "source": [
    "print(data_stalog.isnull().sum())"
   ]
  },
  {
   "cell_type": "code",
   "execution_count": 4,
   "metadata": {
    "scrolled": true
   },
   "outputs": [
    {
     "name": "stdout",
     "output_type": "stream",
     "text": [
      "The number of values for feature Location is:1 -- ['Stalog']\n",
      "The number of values for feature Age is:39\n",
      "The number of values for feature Sex is:2 -- ['F' 'M']\n",
      "The number of values for feature ChestPainType is:4 -- ['ASY' 'ATA' 'NAP' 'TA']\n",
      "The number of values for feature RestingBP is:34\n",
      "The number of values for feature Cholesterol is:89\n",
      "The number of values for feature FastingBS is:2 -- [0 1]\n",
      "The number of values for feature RestingECG is:3 -- ['LVH' 'Normal' 'ST']\n",
      "The number of values for feature MaxHR is:47\n",
      "The number of values for feature ExerciseAngina is:2 -- ['N' 'Y']\n",
      "The number of values for feature Oldpeak is:29\n",
      "The number of values for feature ST_Slope is:3 -- ['Down' 'Flat' 'Up']\n",
      "The number of values for feature HeartDisease is:2 -- [0 1]\n"
     ]
    }
   ],
   "source": [
    "#Investigating all features within a column\n",
    "\n",
    "for columns in data_stalog:\n",
    "    unique_values = np.unique(data_stalog[columns])\n",
    "    count_values = len(unique_values)\n",
    "    if count_values < 10:\n",
    "        print('The number of values for feature {} is:{} -- {}'.format(columns,count_values,unique_values))\n",
    "    else:\n",
    "        print('The number of values for feature {} is:{}'.format(columns,count_values))"
   ]
  },
  {
   "cell_type": "code",
   "execution_count": 5,
   "metadata": {},
   "outputs": [
    {
     "data": {
      "text/plain": [
       "Index(['Location', 'Age', 'Sex', 'ChestPainType', 'RestingBP', 'Cholesterol',\n",
       "       'FastingBS', 'RestingECG', 'MaxHR', 'ExerciseAngina', 'Oldpeak',\n",
       "       'ST_Slope', 'HeartDisease'],\n",
       "      dtype='object')"
      ]
     },
     "execution_count": 5,
     "metadata": {},
     "output_type": "execute_result"
    }
   ],
   "source": [
    "data_stalog.columns"
   ]
  },
  {
   "cell_type": "code",
   "execution_count": 6,
   "metadata": {},
   "outputs": [
    {
     "data": {
      "image/png": "[encoded data removed]",
      "text/plain": [
       "<Figure size 432x288 with 1 Axes>"
      ]
     },
     "metadata": {
      "needs_background": "light"
     },
     "output_type": "display_data"
    },
    {
     "data": {
      "image/png": "[encoded data removed]",
      "text/plain": [
       "<Figure size 432x288 with 1 Axes>"
      ]
     },
     "metadata": {
      "needs_background": "light"
     },
     "output_type": "display_data"
    },
    {
     "data": {
      "image/png": "[encoded data removed]",
      "text/plain": [
       "<Figure size 432x288 with 1 Axes>"
      ]
     },
     "metadata": {
      "needs_background": "light"
     },
     "output_type": "display_data"
    },
    {
     "data": {
      "image/png": "[encoded data removed]",
      "text/plain": [
       "<Figure size 432x288 with 1 Axes>"
      ]
     },
     "metadata": {
      "needs_background": "light"
     },
     "output_type": "display_data"
    },
    {
     "data": {
      "image/png": "[encoded data removed]",
      "text/plain": [
       "<Figure size 432x288 with 1 Axes>"
      ]
     },
     "metadata": {
      "needs_background": "light"
     },
     "output_type": "display_data"
    },
    {
     "data": {
      "image/png": "[encoded data removed]",
      "text/plain": [
       "<Figure size 432x288 with 1 Axes>"
      ]
     },
     "metadata": {
      "needs_background": "light"
     },
     "output_type": "display_data"
    },
    {
     "data": {
      "image/png": "[encoded data removed]",
      "text/plain": [
       "<Figure size 432x288 with 1 Axes>"
      ]
     },
     "metadata": {
      "needs_background": "light"
     },
     "output_type": "display_data"
    },
    {
     "data": {
      "image/png": "[encoded data removed]",
      "text/plain": [
       "<Figure size 432x288 with 1 Axes>"
      ]
     },
     "metadata": {
      "needs_background": "light"
     },
     "output_type": "display_data"
    },
    {
     "data": {
      "image/png": "[encoded data removed]",
      "text/plain": [
       "<Figure size 432x288 with 1 Axes>"
      ]
     },
     "metadata": {
      "needs_background": "light"
     },
     "output_type": "display_data"
    },
    {
     "data": {
      "image/png": "[encoded data removed]",
      "text/plain": [
       "<Figure size 432x288 with 1 Axes>"
      ]
     },
     "metadata": {
      "needs_background": "light"
     },
     "output_type": "display_data"
    },
    {
     "data": {
      "image/png": "[encoded data removed]",
      "text/plain": [
       "<Figure size 432x288 with 1 Axes>"
      ]
     },
     "metadata": {
      "needs_background": "light"
     },
     "output_type": "display_data"
    },
    {
     "data": {
      "image/png": "[encoded data removed]",
      "text/plain": [
       "<Figure size 432x288 with 1 Axes>"
      ]
     },
     "metadata": {
      "needs_background": "light"
     },
     "output_type": "display_data"
    }
   ],
   "source": [
    "#Evaluating each feature and observing the affect on Y\n",
    "feature = ['Location', 'Age', 'Sex', 'ChestPainType', 'RestingBP', 'Cholesterol',\n",
    "       'FastingBS', 'RestingECG', 'MaxHR', 'ExerciseAngina', 'Oldpeak',\n",
    "       'ST_Slope']\n",
    "\n",
    "for f in feature:\n",
    "    sns.countplot(x = f,data = data_stalog,palette='Set3',hue = 'HeartDisease')\n",
    "    plt.show()"
   ]
  },
  {
   "cell_type": "code",
   "execution_count": 7,
   "metadata": {},
   "outputs": [
    {
     "data": {
      "text/plain": [
       "(167, 22)"
      ]
     },
     "execution_count": 7,
     "metadata": {},
     "output_type": "execute_result"
    }
   ],
   "source": [
    "#Feature Selection\n",
    "# Converting all variables \n",
    "stalog_data = pd.get_dummies(data_stalog,columns = [\"ChestPainType\", \"Sex\",\"RestingECG\",\"ExerciseAngina\",\"ST_Slope\"],prefix=[\"ChestPainType\", \"Sex\",\"RestingECG\",\"ExerciseAngina\",\"ST_Slope\"])\n",
    "stalog_data.shape\n"
   ]
  },
  {
   "cell_type": "markdown",
   "metadata": {},
   "source": [
    "#As the ration of heartdisease is very different, we need to balance the dataset to avoid any bias in our model. We have used an oversampling technique to deal with the issue without loosing any data"
   ]
  },
  {
   "cell_type": "code",
   "execution_count": 8,
   "metadata": {
    "scrolled": true
   },
   "outputs": [],
   "source": [
    "X = stalog_data.drop(['HeartDisease','Location'],axis=1).values     # Predictor feature columns \n",
    "Y = stalog_data['HeartDisease'].values   # Predicted class (1=True, 0=False) "
   ]
  },
  {
   "cell_type": "code",
   "execution_count": 9,
   "metadata": {},
   "outputs": [
    {
     "name": "stdout",
     "output_type": "stream",
     "text": [
      "0    104\n",
      "1     63\n",
      "Name: HeartDisease, dtype: int64\n"
     ]
    },
    {
     "name": "stderr",
     "output_type": "stream",
     "text": [
      "/Users/saim/opt/anaconda3/lib/python3.8/site-packages/seaborn/_decorators.py:36: FutureWarning: Pass the following variable as a keyword arg: x. From version 0.12, the only valid positional argument will be `data`, and passing other arguments without an explicit keyword will result in an error or misinterpretation.\n",
      "  warnings.warn(\n"
     ]
    },
    {
     "data": {
      "text/plain": [
       "<AxesSubplot:ylabel='count'>"
      ]
     },
     "execution_count": 9,
     "metadata": {},
     "output_type": "execute_result"
    },
    {
     "data": {
      "image/png": "[encoded data removed]",
      "text/plain": [
       "<Figure size 432x288 with 1 Axes>"
      ]
     },
     "metadata": {
      "needs_background": "light"
     },
     "output_type": "display_data"
    }
   ],
   "source": [
    "no_hd=data_stalog[data_stalog['HeartDisease']==0]\n",
    "yes_hd=data_stalog[data_stalog['HeartDisease']== 1]\n",
    "print(data_stalog['HeartDisease'].value_counts())\n",
    "\n",
    "sns.countplot(Y)"
   ]
  },
  {
   "cell_type": "code",
   "execution_count": 10,
   "metadata": {},
   "outputs": [],
   "source": [
    "# #Handeling imbalances in dataset\n",
    "from imblearn.combine import SMOTETomek\n",
    "#Implementing oversampling for handeling imbalance\n",
    "smk = SMOTETomek(random_state = 42)\n",
    "X_res,y_res = smk.fit_resample(X,Y)"
   ]
  },
  {
   "cell_type": "code",
   "execution_count": 11,
   "metadata": {},
   "outputs": [
    {
     "name": "stdout",
     "output_type": "stream",
     "text": [
      "Original Dataset Shape Counter({0: 104, 1: 63})\n",
      "Resampled Dataset Shape Counter({0: 98, 1: 98})\n"
     ]
    },
    {
     "name": "stderr",
     "output_type": "stream",
     "text": [
      "/Users/saim/opt/anaconda3/lib/python3.8/site-packages/seaborn/_decorators.py:36: FutureWarning: Pass the following variable as a keyword arg: x. From version 0.12, the only valid positional argument will be `data`, and passing other arguments without an explicit keyword will result in an error or misinterpretation.\n",
      "  warnings.warn(\n"
     ]
    },
    {
     "data": {
      "text/plain": [
       "<AxesSubplot:ylabel='count'>"
      ]
     },
     "execution_count": 11,
     "metadata": {},
     "output_type": "execute_result"
    },
    {
     "data": {
      "image/png": "[encoded data removed]",
      "text/plain": [
       "<Figure size 432x288 with 1 Axes>"
      ]
     },
     "metadata": {
      "needs_background": "light"
     },
     "output_type": "display_data"
    }
   ],
   "source": [
    "from collections import Counter\n",
    "print('Original Dataset Shape {}'.format(Counter(Y)))\n",
    "print('Resampled Dataset Shape {}'.format(Counter(y_res)))\n",
    "sns.countplot(y_res)"
   ]
  },
  {
   "cell_type": "markdown",
   "metadata": {},
   "source": []
  },
  {
   "cell_type": "markdown",
   "metadata": {},
   "source": [
    "Since Cholestrol Level Cannot be 0 we are replacing 0 with mean of the column 'Cholestrol'"
   ]
  },
  {
   "cell_type": "code",
   "execution_count": 12,
   "metadata": {},
   "outputs": [],
   "source": [
    "# Handeling the cholestrol column \n",
    "stalog_data['Cholesterol'].replace(0,stalog_data['Cholesterol'].mean(),inplace=True)"
   ]
  },
  {
   "cell_type": "markdown",
   "metadata": {},
   "source": [
    "# LOGISTIC REGRESSION"
   ]
  },
  {
   "cell_type": "code",
   "execution_count": 13,
   "metadata": {},
   "outputs": [],
   "source": [
    "############# Applying Logistic Regression ##################\n",
    "#X_logreg = Cleve_data[columns_to_keep].values\n",
    "#y_logreg = Cleve_data['HeartDisease']"
   ]
  },
  {
   "cell_type": "code",
   "execution_count": 14,
   "metadata": {},
   "outputs": [],
   "source": [
    "X_logreg = stalog_data.drop(['HeartDisease','Location'],axis=1)    # Predictor feature columns \n",
    "Y_logreg = stalog_data['HeartDisease']"
   ]
  },
  {
   "cell_type": "code",
   "execution_count": 15,
   "metadata": {},
   "outputs": [],
   "source": [
    "#Resampling for Logistic Regression\n",
    "X_new,y_new = smk.fit_resample(X_logreg,Y_logreg)\n",
    "#smk.fit_resample("
   ]
  },
  {
   "cell_type": "code",
   "execution_count": 16,
   "metadata": {},
   "outputs": [],
   "source": [
    "columns = X_new.columns"
   ]
  },
  {
   "cell_type": "code",
   "execution_count": 17,
   "metadata": {},
   "outputs": [],
   "source": [
    "## Import CV and cheking model accuracy\n",
    "#from sklearn.model_selection import cross_val_score\n",
    "#logreg = LogisticRegression(solver='lbfgs', max_iter=1000)\n",
    "#print(cross_val_score(logreg,X_log,y_log,cv=10,scoring='accuracy').mean())"
   ]
  },
  {
   "cell_type": "code",
   "execution_count": 18,
   "metadata": {},
   "outputs": [],
   "source": [
    "##### Splitting Data for Train , Test and Validate \n",
    "\n",
    "X_train, X_test, y_train, y_test  = train_test_split(X_new,y_new,test_size = 0.3, random_state = 55,stratify = y_new )\n",
    "\n"
   ]
  },
  {
   "cell_type": "code",
   "execution_count": 19,
   "metadata": {
    "scrolled": true
   },
   "outputs": [
    {
     "name": "stdout",
     "output_type": "stream",
     "text": [
      "(137, 20)\n",
      "(59, 20)\n",
      "(137,)\n",
      "(59,)\n"
     ]
    }
   ],
   "source": [
    "print(X_train.shape)\n",
    "print(X_test.shape)\n",
    "\n",
    "\n",
    "print(y_train.shape)\n",
    "print(y_test.shape)\n",
    "\n"
   ]
  },
  {
   "cell_type": "code",
   "execution_count": 20,
   "metadata": {},
   "outputs": [
    {
     "name": "stdout",
     "output_type": "stream",
     "text": [
      "Training accuracy is 0.948905109489051\n"
     ]
    }
   ],
   "source": [
    "#Running Log model\n",
    "model = LogisticRegression(solver='liblinear', max_iter=1000)\n",
    "log_results=model.fit(X_train, y_train)\n",
    "\n",
    "#Train Accuracy\n",
    "print('Training accuracy is {}'.format(model.score(X_train,y_train)))\n",
    "#predict on training set\n",
    "y_pred_train = model.predict(X_train)\n",
    "#Predictions using test set\n",
    "y_pred = model.predict(X_test)"
   ]
  },
  {
   "cell_type": "markdown",
   "metadata": {},
   "source": [
    "Model Evaluation"
   ]
  },
  {
   "cell_type": "code",
   "execution_count": 21,
   "metadata": {},
   "outputs": [
    {
     "name": "stdout",
     "output_type": "stream",
     "text": [
      "Training Set accuracy is 0.948905109489051\n",
      "Test Set accuracy is 0.7966101694915254\n",
      "              precision    recall  f1-score   support\n",
      "\n",
      "           0       0.79      0.79      0.79        29\n",
      "           1       0.80      0.80      0.80        30\n",
      "\n",
      "    accuracy                           0.80        59\n",
      "   macro avg       0.80      0.80      0.80        59\n",
      "weighted avg       0.80      0.80      0.80        59\n",
      "\n"
     ]
    },
    {
     "data": {
      "text/plain": [
       "array([1, 0, 1, 1, 0, 0, 1, 0, 0, 1, 0, 0, 1, 1, 1, 1, 0, 0, 1, 1, 1, 1,\n",
       "       1, 1, 0, 0, 1, 0, 0, 0, 0, 1, 1, 0, 0, 1, 1, 1, 0, 1, 1, 0, 1, 0,\n",
       "       1, 1, 0, 1, 0, 0, 0, 1, 1, 0, 0, 1, 0, 0, 0])"
      ]
     },
     "execution_count": 21,
     "metadata": {},
     "output_type": "execute_result"
    }
   ],
   "source": [
    "#Accuracy Score Training Set\n",
    "print('Training Set accuracy is {}'.format(model.score(X_train,y_train)))\n",
    "# Accuracy of test set\n",
    "print('Test Set accuracy is {}'.format(model.score(X_test,y_test)))\n",
    "\n",
    "#Classification Report\n",
    "print(classification_report(y_test,y_pred))\n",
    "\n",
    "y_pred"
   ]
  },
  {
   "cell_type": "code",
   "execution_count": 22,
   "metadata": {},
   "outputs": [
    {
     "data": {
      "text/plain": [
       "array([ 0.05490239,  0.06719215, -0.05969613,  1.33833623,  0.00403271,\n",
       "        0.29105824,  1.23758359, -0.67795958, -0.65132404, -0.35134786,\n",
       "       -0.88250322,  1.21555483, -1.01741989, -0.71337695,  0.48696307,\n",
       "       -0.40574767, -0.11446506,  0.14465872, -0.22777486, -1.66020351])"
      ]
     },
     "execution_count": 22,
     "metadata": {},
     "output_type": "execute_result"
    }
   ],
   "source": [
    "model.coef_[0]"
   ]
  },
  {
   "cell_type": "code",
   "execution_count": 23,
   "metadata": {},
   "outputs": [],
   "source": [
    "#Confusion Matrix\n",
    "def plot_confusion_matrix(cm, classes=None, title='Confusion matrix'):\n",
    "    \"\"\"Plots a confusion matrix.\"\"\"\n",
    "    if classes is not None:\n",
    "        sns.heatmap(cm, cmap=\"YlGnBu\", xticklabels=classes, yticklabels=classes, vmin=0., vmax=1., annot=True, annot_kws={'size':50})\n",
    "    else:\n",
    "        sns.heatmap(cm, vmin=0., vmax=1.)\n",
    "    plt.title(title)\n",
    "    plt.ylabel('True label')\n",
    "    plt.xlabel('Predicted label')"
   ]
  },
  {
   "cell_type": "code",
   "execution_count": 24,
   "metadata": {},
   "outputs": [
    {
     "name": "stdout",
     "output_type": "stream",
     "text": [
      "[[23  6]\n",
      " [ 6 24]]\n"
     ]
    },
    {
     "data": {
      "image/png": "[encoded data removed]",
      "text/plain": [
       "<Figure size 432x288 with 2 Axes>"
      ]
     },
     "metadata": {
      "needs_background": "light"
     },
     "output_type": "display_data"
    }
   ],
   "source": [
    "lr_cm = confusion_matrix(y_test,y_pred)\n",
    "print(lr_cm)\n",
    "lrcm_norm = lr_cm/lr_cm.sum(axis=1).reshape(-1,1)\n",
    "plot_confusion_matrix(lrcm_norm,model.classes_)"
   ]
  },
  {
   "cell_type": "code",
   "execution_count": 25,
   "metadata": {},
   "outputs": [],
   "source": [
    "# def get_feature_importance(model,feature_names):\n",
    "#     feature_importance = (\n",
    "#     pd.DataFrame({\n",
    "#             'variable':columns,\n",
    "#             'coefficient':model.coef_[0]\n",
    "#                 }\n",
    "#                 )\n",
    "#     .round(decimals=4)\\\n",
    "#     .sort_values('coefficient',ascending = False).reset_index(drop = True)\\\n",
    "#     .style.bar(color=['red','green'],align='zero')\\\n",
    "#     )\n",
    "#     return feature_importance\n",
    "# get_feature_importance(model,columns)"
   ]
  },
  {
   "cell_type": "code",
   "execution_count": 26,
   "metadata": {},
   "outputs": [],
   "source": [
    "my_dict = dict(zip(columns,model.coef_[0]))"
   ]
  },
  {
   "cell_type": "code",
   "execution_count": 27,
   "metadata": {},
   "outputs": [],
   "source": [
    "all_features = pd.DataFrame({'variable':columns,'coefficient':model.coef_[0]}).round(decimals=4)\\\n",
    ".sort_values('coefficient',ascending = False).reset_index(drop=True)\n",
    "#.set_index('variable')"
   ]
  },
  {
   "cell_type": "code",
   "execution_count": 28,
   "metadata": {},
   "outputs": [
    {
     "data": {
      "text/plain": [
       "array([[23,  6],\n",
       "       [ 6, 24]])"
      ]
     },
     "execution_count": 28,
     "metadata": {},
     "output_type": "execute_result"
    }
   ],
   "source": [
    "confusion_matrix(y_test,y_pred)\n"
   ]
  },
  {
   "cell_type": "code",
   "execution_count": 29,
   "metadata": {},
   "outputs": [
    {
     "data": {
      "text/html": [
       "<style type=\"text/css\">\n",
       "#T_1eeda_row0_col1 {\n",
       "  width: 10em;\n",
       "  height: 80%;\n",
       "  background: linear-gradient(90deg, transparent 50.0%, green 50.0%, green 90.3%, transparent 90.3%);\n",
       "}\n",
       "#T_1eeda_row1_col1 {\n",
       "  width: 10em;\n",
       "  height: 80%;\n",
       "  background: linear-gradient(90deg, transparent 50.0%, green 50.0%, green 87.3%, transparent 87.3%);\n",
       "}\n",
       "#T_1eeda_row2_col1 {\n",
       "  width: 10em;\n",
       "  height: 80%;\n",
       "  background: linear-gradient(90deg, transparent 50.0%, green 50.0%, green 86.6%, transparent 86.6%);\n",
       "}\n",
       "#T_1eeda_row3_col1 {\n",
       "  width: 10em;\n",
       "  height: 80%;\n",
       "  background: linear-gradient(90deg, transparent 50.0%, green 50.0%, green 64.7%, transparent 64.7%);\n",
       "}\n",
       "#T_1eeda_row4_col1 {\n",
       "  width: 10em;\n",
       "  height: 80%;\n",
       "  background: linear-gradient(90deg, transparent 50.0%, green 50.0%, green 58.8%, transparent 58.8%);\n",
       "}\n",
       "#T_1eeda_row5_col1 {\n",
       "  width: 10em;\n",
       "  height: 80%;\n",
       "  background: linear-gradient(90deg, transparent 50.0%, green 50.0%, green 54.4%, transparent 54.4%);\n",
       "}\n",
       "#T_1eeda_row6_col1 {\n",
       "  width: 10em;\n",
       "  height: 80%;\n",
       "  background: linear-gradient(90deg, transparent 50.0%, green 50.0%, green 52.0%, transparent 52.0%);\n",
       "}\n",
       "#T_1eeda_row7_col1 {\n",
       "  width: 10em;\n",
       "  height: 80%;\n",
       "  background: linear-gradient(90deg, transparent 50.0%, green 50.0%, green 51.7%, transparent 51.7%);\n",
       "}\n",
       "#T_1eeda_row8_col1 {\n",
       "  width: 10em;\n",
       "  height: 80%;\n",
       "  background: linear-gradient(90deg, transparent 50.0%, green 50.0%, green 50.1%, transparent 50.1%);\n",
       "}\n",
       "#T_1eeda_row9_col1 {\n",
       "  width: 10em;\n",
       "  height: 80%;\n",
       "  background: linear-gradient(90deg, transparent 48.2%, red 48.2%, red 50.0%, transparent 50.0%);\n",
       "}\n",
       "#T_1eeda_row10_col1 {\n",
       "  width: 10em;\n",
       "  height: 80%;\n",
       "  background: linear-gradient(90deg, transparent 46.6%, red 46.6%, red 50.0%, transparent 50.0%);\n",
       "}\n",
       "#T_1eeda_row11_col1 {\n",
       "  width: 10em;\n",
       "  height: 80%;\n",
       "  background: linear-gradient(90deg, transparent 43.1%, red 43.1%, red 50.0%, transparent 50.0%);\n",
       "}\n",
       "#T_1eeda_row12_col1 {\n",
       "  width: 10em;\n",
       "  height: 80%;\n",
       "  background: linear-gradient(90deg, transparent 39.4%, red 39.4%, red 50.0%, transparent 50.0%);\n",
       "}\n",
       "#T_1eeda_row13_col1 {\n",
       "  width: 10em;\n",
       "  height: 80%;\n",
       "  background: linear-gradient(90deg, transparent 37.8%, red 37.8%, red 50.0%, transparent 50.0%);\n",
       "}\n",
       "#T_1eeda_row14_col1 {\n",
       "  width: 10em;\n",
       "  height: 80%;\n",
       "  background: linear-gradient(90deg, transparent 30.4%, red 30.4%, red 50.0%, transparent 50.0%);\n",
       "}\n",
       "#T_1eeda_row15_col1 {\n",
       "  width: 10em;\n",
       "  height: 80%;\n",
       "  background: linear-gradient(90deg, transparent 29.6%, red 29.6%, red 50.0%, transparent 50.0%);\n",
       "}\n",
       "#T_1eeda_row16_col1 {\n",
       "  width: 10em;\n",
       "  height: 80%;\n",
       "  background: linear-gradient(90deg, transparent 28.5%, red 28.5%, red 50.0%, transparent 50.0%);\n",
       "}\n",
       "#T_1eeda_row17_col1 {\n",
       "  width: 10em;\n",
       "  height: 80%;\n",
       "  background: linear-gradient(90deg, transparent 23.4%, red 23.4%, red 50.0%, transparent 50.0%);\n",
       "}\n",
       "#T_1eeda_row18_col1 {\n",
       "  width: 10em;\n",
       "  height: 80%;\n",
       "  background: linear-gradient(90deg, transparent 19.4%, red 19.4%, red 50.0%, transparent 50.0%);\n",
       "}\n",
       "#T_1eeda_row19_col1 {\n",
       "  width: 10em;\n",
       "  height: 80%;\n",
       "  background: linear-gradient(90deg,red 50.0%, transparent 50.0%);\n",
       "}\n",
       "</style>\n",
       "<table id=\"T_1eeda_\">\n",
       "  <thead>\n",
       "    <tr>\n",
       "      <th class=\"blank level0\" >&nbsp;</th>\n",
       "      <th class=\"col_heading level0 col0\" >variable</th>\n",
       "      <th class=\"col_heading level0 col1\" >coefficient</th>\n",
       "    </tr>\n",
       "  </thead>\n",
       "  <tbody>\n",
       "    <tr>\n",
       "      <th id=\"T_1eeda_level0_row0\" class=\"row_heading level0 row0\" >0</th>\n",
       "      <td id=\"T_1eeda_row0_col0\" class=\"data row0 col0\" >FastingBS</td>\n",
       "      <td id=\"T_1eeda_row0_col1\" class=\"data row0 col1\" >1.338300</td>\n",
       "    </tr>\n",
       "    <tr>\n",
       "      <th id=\"T_1eeda_level0_row1\" class=\"row_heading level0 row1\" >1</th>\n",
       "      <td id=\"T_1eeda_row1_col0\" class=\"data row1 col0\" >ChestPainType_ASY</td>\n",
       "      <td id=\"T_1eeda_row1_col1\" class=\"data row1 col1\" >1.237600</td>\n",
       "    </tr>\n",
       "    <tr>\n",
       "      <th id=\"T_1eeda_level0_row2\" class=\"row_heading level0 row2\" >2</th>\n",
       "      <td id=\"T_1eeda_row2_col0\" class=\"data row2 col0\" >Sex_M</td>\n",
       "      <td id=\"T_1eeda_row2_col1\" class=\"data row2 col1\" >1.215600</td>\n",
       "    </tr>\n",
       "    <tr>\n",
       "      <th id=\"T_1eeda_level0_row3\" class=\"row_heading level0 row3\" >3</th>\n",
       "      <td id=\"T_1eeda_row3_col0\" class=\"data row3 col0\" >RestingECG_ST</td>\n",
       "      <td id=\"T_1eeda_row3_col1\" class=\"data row3 col1\" >0.487000</td>\n",
       "    </tr>\n",
       "    <tr>\n",
       "      <th id=\"T_1eeda_level0_row4\" class=\"row_heading level0 row4\" >4</th>\n",
       "      <td id=\"T_1eeda_row4_col0\" class=\"data row4 col0\" >Oldpeak</td>\n",
       "      <td id=\"T_1eeda_row4_col1\" class=\"data row4 col1\" >0.291100</td>\n",
       "    </tr>\n",
       "    <tr>\n",
       "      <th id=\"T_1eeda_level0_row5\" class=\"row_heading level0 row5\" >5</th>\n",
       "      <td id=\"T_1eeda_row5_col0\" class=\"data row5 col0\" >ST_Slope_Down</td>\n",
       "      <td id=\"T_1eeda_row5_col1\" class=\"data row5 col1\" >0.144700</td>\n",
       "    </tr>\n",
       "    <tr>\n",
       "      <th id=\"T_1eeda_level0_row6\" class=\"row_heading level0 row6\" >6</th>\n",
       "      <td id=\"T_1eeda_row6_col0\" class=\"data row6 col0\" >RestingBP</td>\n",
       "      <td id=\"T_1eeda_row6_col1\" class=\"data row6 col1\" >0.067200</td>\n",
       "    </tr>\n",
       "    <tr>\n",
       "      <th id=\"T_1eeda_level0_row7\" class=\"row_heading level0 row7\" >7</th>\n",
       "      <td id=\"T_1eeda_row7_col0\" class=\"data row7 col0\" >Age</td>\n",
       "      <td id=\"T_1eeda_row7_col1\" class=\"data row7 col1\" >0.054900</td>\n",
       "    </tr>\n",
       "    <tr>\n",
       "      <th id=\"T_1eeda_level0_row8\" class=\"row_heading level0 row8\" >8</th>\n",
       "      <td id=\"T_1eeda_row8_col0\" class=\"data row8 col0\" >MaxHR</td>\n",
       "      <td id=\"T_1eeda_row8_col1\" class=\"data row8 col1\" >0.004000</td>\n",
       "    </tr>\n",
       "    <tr>\n",
       "      <th id=\"T_1eeda_level0_row9\" class=\"row_heading level0 row9\" >9</th>\n",
       "      <td id=\"T_1eeda_row9_col0\" class=\"data row9 col0\" >Cholesterol</td>\n",
       "      <td id=\"T_1eeda_row9_col1\" class=\"data row9 col1\" >-0.059700</td>\n",
       "    </tr>\n",
       "    <tr>\n",
       "      <th id=\"T_1eeda_level0_row10\" class=\"row_heading level0 row10\" >10</th>\n",
       "      <td id=\"T_1eeda_row10_col0\" class=\"data row10 col0\" >ExerciseAngina_Y</td>\n",
       "      <td id=\"T_1eeda_row10_col1\" class=\"data row10 col1\" >-0.114500</td>\n",
       "    </tr>\n",
       "    <tr>\n",
       "      <th id=\"T_1eeda_level0_row11\" class=\"row_heading level0 row11\" >11</th>\n",
       "      <td id=\"T_1eeda_row11_col0\" class=\"data row11 col0\" >ST_Slope_Flat</td>\n",
       "      <td id=\"T_1eeda_row11_col1\" class=\"data row11 col1\" >-0.227800</td>\n",
       "    </tr>\n",
       "    <tr>\n",
       "      <th id=\"T_1eeda_level0_row12\" class=\"row_heading level0 row12\" >12</th>\n",
       "      <td id=\"T_1eeda_row12_col0\" class=\"data row12 col0\" >ChestPainType_TA</td>\n",
       "      <td id=\"T_1eeda_row12_col1\" class=\"data row12 col1\" >-0.351300</td>\n",
       "    </tr>\n",
       "    <tr>\n",
       "      <th id=\"T_1eeda_level0_row13\" class=\"row_heading level0 row13\" >13</th>\n",
       "      <td id=\"T_1eeda_row13_col0\" class=\"data row13 col0\" >ExerciseAngina_N</td>\n",
       "      <td id=\"T_1eeda_row13_col1\" class=\"data row13 col1\" >-0.405700</td>\n",
       "    </tr>\n",
       "    <tr>\n",
       "      <th id=\"T_1eeda_level0_row14\" class=\"row_heading level0 row14\" >14</th>\n",
       "      <td id=\"T_1eeda_row14_col0\" class=\"data row14 col0\" >ChestPainType_NAP</td>\n",
       "      <td id=\"T_1eeda_row14_col1\" class=\"data row14 col1\" >-0.651300</td>\n",
       "    </tr>\n",
       "    <tr>\n",
       "      <th id=\"T_1eeda_level0_row15\" class=\"row_heading level0 row15\" >15</th>\n",
       "      <td id=\"T_1eeda_row15_col0\" class=\"data row15 col0\" >ChestPainType_ATA</td>\n",
       "      <td id=\"T_1eeda_row15_col1\" class=\"data row15 col1\" >-0.678000</td>\n",
       "    </tr>\n",
       "    <tr>\n",
       "      <th id=\"T_1eeda_level0_row16\" class=\"row_heading level0 row16\" >16</th>\n",
       "      <td id=\"T_1eeda_row16_col0\" class=\"data row16 col0\" >RestingECG_Normal</td>\n",
       "      <td id=\"T_1eeda_row16_col1\" class=\"data row16 col1\" >-0.713400</td>\n",
       "    </tr>\n",
       "    <tr>\n",
       "      <th id=\"T_1eeda_level0_row17\" class=\"row_heading level0 row17\" >17</th>\n",
       "      <td id=\"T_1eeda_row17_col0\" class=\"data row17 col0\" >Sex_F</td>\n",
       "      <td id=\"T_1eeda_row17_col1\" class=\"data row17 col1\" >-0.882500</td>\n",
       "    </tr>\n",
       "    <tr>\n",
       "      <th id=\"T_1eeda_level0_row18\" class=\"row_heading level0 row18\" >18</th>\n",
       "      <td id=\"T_1eeda_row18_col0\" class=\"data row18 col0\" >RestingECG_LVH</td>\n",
       "      <td id=\"T_1eeda_row18_col1\" class=\"data row18 col1\" >-1.017400</td>\n",
       "    </tr>\n",
       "    <tr>\n",
       "      <th id=\"T_1eeda_level0_row19\" class=\"row_heading level0 row19\" >19</th>\n",
       "      <td id=\"T_1eeda_row19_col0\" class=\"data row19 col0\" >ST_Slope_Up</td>\n",
       "      <td id=\"T_1eeda_row19_col1\" class=\"data row19 col1\" >-1.660200</td>\n",
       "    </tr>\n",
       "  </tbody>\n",
       "</table>\n"
      ],
      "text/plain": [
       "<pandas.io.formats.style.Styler at 0x7feb18392670>"
      ]
     },
     "execution_count": 29,
     "metadata": {},
     "output_type": "execute_result"
    }
   ],
   "source": [
    "all_features.style.bar(color=['red','green'],align='zero')"
   ]
  },
  {
   "cell_type": "code",
   "execution_count": 30,
   "metadata": {},
   "outputs": [],
   "source": [
    "selected_features = all_features.drop([6,7,8,9,11,10])"
   ]
  },
  {
   "cell_type": "code",
   "execution_count": 31,
   "metadata": {},
   "outputs": [],
   "source": [
    "selected_features = selected_features.reset_index(drop=True)"
   ]
  },
  {
   "cell_type": "code",
   "execution_count": 32,
   "metadata": {},
   "outputs": [],
   "source": [
    "filtered= []\n",
    "for i in selected_features['variable']:\n",
    "    filtered.append(i)"
   ]
  },
  {
   "cell_type": "code",
   "execution_count": 33,
   "metadata": {},
   "outputs": [],
   "source": [
    "#LOG REG WITH SELECTED FEATURES\n",
    "X_lg_1 = stalog_data[filtered]\n",
    "X_new_1,y_new_1 = smk.fit_resample(X_lg_1,Y_logreg)\n",
    "X_train_1,X_test_1,y_train_1,y_test_1 = train_test_split(X_new_1,y_new_1, train_size=0.7,test_size = 0.3, random_state = 55,stratify = y_new_1)\n",
    "model.fit(X_train_1, y_train_1)\n",
    "y_pred_1 = model.predict(X_test_1)\n"
   ]
  },
  {
   "cell_type": "code",
   "execution_count": 34,
   "metadata": {},
   "outputs": [
    {
     "name": "stdout",
     "output_type": "stream",
     "text": [
      "Training Set accuracy is 0.9197080291970803\n",
      "Test Set accuracy is 0.8813559322033898\n",
      "              precision    recall  f1-score   support\n",
      "\n",
      "           0       0.89      0.86      0.88        29\n",
      "           1       0.87      0.90      0.89        30\n",
      "\n",
      "    accuracy                           0.88        59\n",
      "   macro avg       0.88      0.88      0.88        59\n",
      "weighted avg       0.88      0.88      0.88        59\n",
      "\n"
     ]
    }
   ],
   "source": [
    "#Accuracy Score Training Set\n",
    "print('Training Set accuracy is {}'.format(model.score(X_train_1,y_train_1)))\n",
    "# Accuracy of test set\n",
    "print('Test Set accuracy is {}'.format(model.score(X_test_1,y_test_1)))\n",
    "\n",
    "#Classification Report\n",
    "print(classification_report(y_test_1,y_pred_1))\n",
    "\n",
    "y_pred\n",
    "predict_proba_1 = model.predict_proba(X_test_1)"
   ]
  },
  {
   "cell_type": "code",
   "execution_count": 35,
   "metadata": {},
   "outputs": [
    {
     "data": {
      "text/html": [
       "<style type=\"text/css\">\n",
       "#T_99e43_row0_col1 {\n",
       "  width: 10em;\n",
       "  height: 80%;\n",
       "  background: linear-gradient(90deg, transparent 50.0%, green 50.0%, green 96.6%, transparent 96.6%);\n",
       "}\n",
       "#T_99e43_row1_col1 {\n",
       "  width: 10em;\n",
       "  height: 80%;\n",
       "  background: linear-gradient(90deg, transparent 50.0%, green 50.0%, green 79.7%, transparent 79.7%);\n",
       "}\n",
       "#T_99e43_row2_col1 {\n",
       "  width: 10em;\n",
       "  height: 80%;\n",
       "  background: linear-gradient(90deg, transparent 50.0%, green 50.0%, green 77.6%, transparent 77.6%);\n",
       "}\n",
       "#T_99e43_row3_col1 {\n",
       "  width: 10em;\n",
       "  height: 80%;\n",
       "  background: linear-gradient(90deg, transparent 50.0%, green 50.0%, green 73.9%, transparent 73.9%);\n",
       "}\n",
       "#T_99e43_row4_col1 {\n",
       "  width: 10em;\n",
       "  height: 80%;\n",
       "  background: linear-gradient(90deg, transparent 50.0%, green 50.0%, green 70.6%, transparent 70.6%);\n",
       "}\n",
       "#T_99e43_row5_col1 {\n",
       "  width: 10em;\n",
       "  height: 80%;\n",
       "  background: linear-gradient(90deg, transparent 50.0%, green 50.0%, green 56.3%, transparent 56.3%);\n",
       "}\n",
       "#T_99e43_row6_col1 {\n",
       "  width: 10em;\n",
       "  height: 80%;\n",
       "  background: linear-gradient(90deg, transparent 41.1%, red 41.1%, red 50.0%, transparent 50.0%);\n",
       "}\n",
       "#T_99e43_row7_col1 {\n",
       "  width: 10em;\n",
       "  height: 80%;\n",
       "  background: linear-gradient(90deg, transparent 39.7%, red 39.7%, red 50.0%, transparent 50.0%);\n",
       "}\n",
       "#T_99e43_row8_col1 {\n",
       "  width: 10em;\n",
       "  height: 80%;\n",
       "  background: linear-gradient(90deg, transparent 35.4%, red 35.4%, red 50.0%, transparent 50.0%);\n",
       "}\n",
       "#T_99e43_row9_col1 {\n",
       "  width: 10em;\n",
       "  height: 80%;\n",
       "  background: linear-gradient(90deg, transparent 34.9%, red 34.9%, red 50.0%, transparent 50.0%);\n",
       "}\n",
       "#T_99e43_row10_col1 {\n",
       "  width: 10em;\n",
       "  height: 80%;\n",
       "  background: linear-gradient(90deg, transparent 24.1%, red 24.1%, red 50.0%, transparent 50.0%);\n",
       "}\n",
       "#T_99e43_row11_col1 {\n",
       "  width: 10em;\n",
       "  height: 80%;\n",
       "  background: linear-gradient(90deg, transparent 14.0%, red 14.0%, red 50.0%, transparent 50.0%);\n",
       "}\n",
       "#T_99e43_row12_col1 {\n",
       "  width: 10em;\n",
       "  height: 80%;\n",
       "  background: linear-gradient(90deg, transparent 8.0%, red 8.0%, red 50.0%, transparent 50.0%);\n",
       "}\n",
       "#T_99e43_row13_col1 {\n",
       "  width: 10em;\n",
       "  height: 80%;\n",
       "  background: linear-gradient(90deg,red 50.0%, transparent 50.0%);\n",
       "}\n",
       "</style>\n",
       "<table id=\"T_99e43_\">\n",
       "  <thead>\n",
       "    <tr>\n",
       "      <th class=\"blank level0\" >&nbsp;</th>\n",
       "      <th class=\"col_heading level0 col0\" >variable</th>\n",
       "      <th class=\"col_heading level0 col1\" >coefs</th>\n",
       "    </tr>\n",
       "  </thead>\n",
       "  <tbody>\n",
       "    <tr>\n",
       "      <th id=\"T_99e43_level0_row0\" class=\"row_heading level0 row0\" >0</th>\n",
       "      <td id=\"T_99e43_row0_col0\" class=\"data row0 col0\" >FastingBS</td>\n",
       "      <td id=\"T_99e43_row0_col1\" class=\"data row0 col1\" >1.608400</td>\n",
       "    </tr>\n",
       "    <tr>\n",
       "      <th id=\"T_99e43_level0_row1\" class=\"row_heading level0 row1\" >1</th>\n",
       "      <td id=\"T_99e43_row1_col0\" class=\"data row1 col0\" >Sex_M</td>\n",
       "      <td id=\"T_99e43_row1_col1\" class=\"data row1 col1\" >1.026300</td>\n",
       "    </tr>\n",
       "    <tr>\n",
       "      <th id=\"T_99e43_level0_row2\" class=\"row_heading level0 row2\" >2</th>\n",
       "      <td id=\"T_99e43_row2_col0\" class=\"data row2 col0\" >ChestPainType_ASY</td>\n",
       "      <td id=\"T_99e43_row2_col1\" class=\"data row2 col1\" >0.954600</td>\n",
       "    </tr>\n",
       "    <tr>\n",
       "      <th id=\"T_99e43_level0_row3\" class=\"row_heading level0 row3\" >3</th>\n",
       "      <td id=\"T_99e43_row3_col0\" class=\"data row3 col0\" >RestingECG_ST</td>\n",
       "      <td id=\"T_99e43_row3_col1\" class=\"data row3 col1\" >0.826300</td>\n",
       "    </tr>\n",
       "    <tr>\n",
       "      <th id=\"T_99e43_level0_row4\" class=\"row_heading level0 row4\" >4</th>\n",
       "      <td id=\"T_99e43_row4_col0\" class=\"data row4 col0\" >Oldpeak</td>\n",
       "      <td id=\"T_99e43_row4_col1\" class=\"data row4 col1\" >0.712500</td>\n",
       "    </tr>\n",
       "    <tr>\n",
       "      <th id=\"T_99e43_level0_row5\" class=\"row_heading level0 row5\" >5</th>\n",
       "      <td id=\"T_99e43_row5_col0\" class=\"data row5 col0\" >ST_Slope_Down</td>\n",
       "      <td id=\"T_99e43_row5_col1\" class=\"data row5 col1\" >0.215900</td>\n",
       "    </tr>\n",
       "    <tr>\n",
       "      <th id=\"T_99e43_level0_row6\" class=\"row_heading level0 row6\" >6</th>\n",
       "      <td id=\"T_99e43_row6_col0\" class=\"data row6 col0\" >ExerciseAngina_N</td>\n",
       "      <td id=\"T_99e43_row6_col1\" class=\"data row6 col1\" >-0.307600</td>\n",
       "    </tr>\n",
       "    <tr>\n",
       "      <th id=\"T_99e43_level0_row7\" class=\"row_heading level0 row7\" >7</th>\n",
       "      <td id=\"T_99e43_row7_col0\" class=\"data row7 col0\" >ChestPainType_TA</td>\n",
       "      <td id=\"T_99e43_row7_col1\" class=\"data row7 col1\" >-0.355000</td>\n",
       "    </tr>\n",
       "    <tr>\n",
       "      <th id=\"T_99e43_level0_row8\" class=\"row_heading level0 row8\" >8</th>\n",
       "      <td id=\"T_99e43_row8_col0\" class=\"data row8 col0\" >RestingECG_Normal</td>\n",
       "      <td id=\"T_99e43_row8_col1\" class=\"data row8 col1\" >-0.503000</td>\n",
       "    </tr>\n",
       "    <tr>\n",
       "      <th id=\"T_99e43_level0_row9\" class=\"row_heading level0 row9\" >9</th>\n",
       "      <td id=\"T_99e43_row9_col0\" class=\"data row9 col0\" >ChestPainType_NAP</td>\n",
       "      <td id=\"T_99e43_row9_col1\" class=\"data row9 col1\" >-0.522100</td>\n",
       "    </tr>\n",
       "    <tr>\n",
       "      <th id=\"T_99e43_level0_row10\" class=\"row_heading level0 row10\" >10</th>\n",
       "      <td id=\"T_99e43_row10_col0\" class=\"data row10 col0\" >ChestPainType_ATA</td>\n",
       "      <td id=\"T_99e43_row10_col1\" class=\"data row10 col1\" >-0.894200</td>\n",
       "    </tr>\n",
       "    <tr>\n",
       "      <th id=\"T_99e43_level0_row11\" class=\"row_heading level0 row11\" >11</th>\n",
       "      <td id=\"T_99e43_row11_col0\" class=\"data row11 col0\" >RestingECG_LVH</td>\n",
       "      <td id=\"T_99e43_row11_col1\" class=\"data row11 col1\" >-1.243200</td>\n",
       "    </tr>\n",
       "    <tr>\n",
       "      <th id=\"T_99e43_level0_row12\" class=\"row_heading level0 row12\" >12</th>\n",
       "      <td id=\"T_99e43_row12_col0\" class=\"data row12 col0\" >Sex_F</td>\n",
       "      <td id=\"T_99e43_row12_col1\" class=\"data row12 col1\" >-1.450800</td>\n",
       "    </tr>\n",
       "    <tr>\n",
       "      <th id=\"T_99e43_level0_row13\" class=\"row_heading level0 row13\" >13</th>\n",
       "      <td id=\"T_99e43_row13_col0\" class=\"data row13 col0\" >ST_Slope_Up</td>\n",
       "      <td id=\"T_99e43_row13_col1\" class=\"data row13 col1\" >-1.726500</td>\n",
       "    </tr>\n",
       "  </tbody>\n",
       "</table>\n"
      ],
      "text/plain": [
       "<pandas.io.formats.style.Styler at 0x7feb085ebb50>"
      ]
     },
     "execution_count": 35,
     "metadata": {},
     "output_type": "execute_result"
    }
   ],
   "source": [
    "new_scores = pd.DataFrame({'variable':filtered,'coefs':model.coef_[0]}).round(decimals=4)\\\n",
    ".sort_values('coefs',ascending = False).reset_index(drop=True)\\\n",
    ".style.bar(color=['red','green'],align='zero')\n",
    "\n",
    "new_scores "
   ]
  },
  {
   "cell_type": "markdown",
   "metadata": {},
   "source": [
    "EVALUATION METRIC 2 - CONFUSION MATRIX"
   ]
  },
  {
   "cell_type": "code",
   "execution_count": 36,
   "metadata": {},
   "outputs": [
    {
     "data": {
      "text/plain": [
       "array([[0.86206897, 0.13793103],\n",
       "       [0.1       , 0.9       ]])"
      ]
     },
     "execution_count": 36,
     "metadata": {},
     "output_type": "execute_result"
    }
   ],
   "source": [
    "#Visualizing CM\n",
    "cm = confusion_matrix(y_test_1,y_pred_1)\n",
    "# interms of percentage\n",
    "cm_norm = cm/cm.sum(axis=1).reshape(-1,1)\n",
    "cm_norm"
   ]
  },
  {
   "cell_type": "code",
   "execution_count": 37,
   "metadata": {},
   "outputs": [
    {
     "data": {
      "text/plain": [
       "(59,)"
      ]
     },
     "execution_count": 37,
     "metadata": {},
     "output_type": "execute_result"
    }
   ],
   "source": [
    "y_pred.shape"
   ]
  },
  {
   "cell_type": "code",
   "execution_count": 38,
   "metadata": {},
   "outputs": [
    {
     "data": {
      "text/plain": [
       "array([[25,  4],\n",
       "       [ 3, 27]])"
      ]
     },
     "execution_count": 38,
     "metadata": {},
     "output_type": "execute_result"
    }
   ],
   "source": [
    "cm"
   ]
  },
  {
   "cell_type": "code",
   "execution_count": 39,
   "metadata": {},
   "outputs": [
    {
     "data": {
      "image/png": "[encoded data removed]",
      "text/plain": [
       "<Figure size 432x288 with 2 Axes>"
      ]
     },
     "metadata": {
      "needs_background": "light"
     },
     "output_type": "display_data"
    }
   ],
   "source": [
    "plot_confusion_matrix(cm_norm,model.classes_)"
   ]
  },
  {
   "cell_type": "markdown",
   "metadata": {},
   "source": [
    "PARAMETER TUNING FOR REDUCING LOGLOSS\n",
    "TUNING THE C PARAM\n",
    "We will loop over parameter C (Inverse of regularization strength).\n",
    "Inverse of regularization strength helps to avoid overfitting - it penalizes large values of your parameters\n",
    "It also helps to find Global Minimum by moving to better \"solutions\" from local minimum to global minimum\n",
    "The values of C to search should be n-equally-spaced values in log space ranging from 1e-5 to 1e5\n",
    "\n",
    "A local minimum of a function is a point where the function value is smaller than at nearby points, but possibly greater than at a distant point. A global minimum is a point where the function value is smaller than at all other feasible points."
   ]
  },
  {
   "cell_type": "markdown",
   "metadata": {},
   "source": [
    "# CLASSIFICATION TREES"
   ]
  },
  {
   "cell_type": "markdown",
   "metadata": {},
   "source": []
  },
  {
   "cell_type": "code",
   "execution_count": 40,
   "metadata": {},
   "outputs": [],
   "source": [
    "params = {\n",
    "    'criterion':['gini','entropy'],\n",
    "    'max_depth':[1,2,3,4,5,6,7,8,9,10,11,12,13,None],\n",
    "    'min_samples_split':[0.1,0.2,0.3],\n",
    "    'min_samples_leaf':[1,2,3,4,5],\n",
    "    'max_features':['auto','sqrt','log2',None],\n",
    "    'splitter':['best','random']\n",
    "    \n",
    "}"
   ]
  },
  {
   "cell_type": "code",
   "execution_count": 41,
   "metadata": {},
   "outputs": [],
   "source": [
    "#Choosing best params using GridSearchCV\n",
    "clf = GridSearchCV(DecisionTreeClassifier(),param_grid=params,cv=5,n_jobs=-1)"
   ]
  },
  {
   "cell_type": "code",
   "execution_count": 42,
   "metadata": {},
   "outputs": [
    {
     "data": {
      "text/plain": [
       "GridSearchCV(cv=5, estimator=DecisionTreeClassifier(), n_jobs=-1,\n",
       "             param_grid={'criterion': ['gini', 'entropy'],\n",
       "                         'max_depth': [1, 2, 3, 4, 5, 6, 7, 8, 9, 10, 11, 12,\n",
       "                                       13, None],\n",
       "                         'max_features': ['auto', 'sqrt', 'log2', None],\n",
       "                         'min_samples_leaf': [1, 2, 3, 4, 5],\n",
       "                         'min_samples_split': [0.1, 0.2, 0.3],\n",
       "                         'splitter': ['best', 'random']})"
      ]
     },
     "execution_count": 42,
     "metadata": {},
     "output_type": "execute_result"
    }
   ],
   "source": [
    "clf.fit(X_train,y_train)"
   ]
  },
  {
   "cell_type": "code",
   "execution_count": 43,
   "metadata": {},
   "outputs": [],
   "source": [
    "x = clf.best_estimator_"
   ]
  },
  {
   "cell_type": "code",
   "execution_count": 44,
   "metadata": {},
   "outputs": [],
   "source": [
    "dt = x\n",
    "dt.fit(X_train,y_train)\n",
    "y_pred= dt.predict(X_test)\n"
   ]
  },
  {
   "cell_type": "code",
   "execution_count": 45,
   "metadata": {},
   "outputs": [
    {
     "data": {
      "text/plain": [
       "0.8905109489051095"
      ]
     },
     "execution_count": 45,
     "metadata": {},
     "output_type": "execute_result"
    }
   ],
   "source": [
    "dt.score(X_train,y_train)"
   ]
  },
  {
   "cell_type": "code",
   "execution_count": 46,
   "metadata": {},
   "outputs": [
    {
     "data": {
      "text/plain": [
       "0.7966101694915254"
      ]
     },
     "execution_count": 46,
     "metadata": {},
     "output_type": "execute_result"
    }
   ],
   "source": [
    "dt.score(X_test,y_test)"
   ]
  },
  {
   "cell_type": "code",
   "execution_count": 47,
   "metadata": {},
   "outputs": [
    {
     "name": "stdout",
     "output_type": "stream",
     "text": [
      "The Feature importance for Age is:0.018069245774385106\n",
      "The Feature importance for RestingBP is:0.011506954610608418\n",
      "The Feature importance for Cholesterol is:0.4361841294031698\n",
      "The Feature importance for FastingBS is:0.0\n",
      "The Feature importance for MaxHR is:0.022941673049515734\n",
      "The Feature importance for Oldpeak is:0.33027076591414756\n",
      "The Feature importance for ChestPainType_ASY is:0.0\n",
      "The Feature importance for ChestPainType_ATA is:0.0\n",
      "The Feature importance for ChestPainType_NAP is:0.0\n",
      "The Feature importance for ChestPainType_TA is:0.0\n",
      "The Feature importance for Sex_F is:0.17830691100925872\n",
      "The Feature importance for Sex_M is:0.0\n",
      "The Feature importance for RestingECG_LVH is:0.0\n",
      "The Feature importance for RestingECG_Normal is:0.0\n",
      "The Feature importance for RestingECG_ST is:0.0027203202389145717\n",
      "The Feature importance for ExerciseAngina_N is:0.0\n",
      "The Feature importance for ExerciseAngina_Y is:0.0\n",
      "The Feature importance for ST_Slope_Down is:0.0\n",
      "The Feature importance for ST_Slope_Flat is:0.0\n",
      "The Feature importance for ST_Slope_Up is:0.0\n"
     ]
    }
   ],
   "source": [
    "fi_col =[]\n",
    "fi = []\n",
    "from sklearn import metrics\n",
    "\n",
    "#Running Feature Importance \n",
    "for i,column in enumerate(stalog_data.drop(['HeartDisease','Location'],axis=1)):\n",
    "    print('The Feature importance for {} is:{}'.format(column,dt.feature_importances_[i]))\n",
    "    \n",
    "    fi_col.append(column)\n",
    "    fi.append(dt.feature_importances_[i])\n",
    "    "
   ]
  },
  {
   "cell_type": "code",
   "execution_count": 48,
   "metadata": {},
   "outputs": [
    {
     "data": {
      "image/png": "[encoded data removed]",
      "text/plain": [
       "<Figure size 432x288 with 2 Axes>"
      ]
     },
     "metadata": {
      "needs_background": "light"
     },
     "output_type": "display_data"
    }
   ],
   "source": [
    "df_cm =confusion_matrix(y_test,y_pred)\n",
    "df_cm\n",
    "dfcm_percentage = df_cm/df_cm.sum(axis=1).reshape(-1,1)\n",
    "plot_confusion_matrix(dfcm_percentage,dt.classes_)"
   ]
  },
  {
   "cell_type": "code",
   "execution_count": 49,
   "metadata": {},
   "outputs": [
    {
     "data": {
      "text/plain": [
       "array([[25,  4],\n",
       "       [ 8, 22]])"
      ]
     },
     "execution_count": 49,
     "metadata": {},
     "output_type": "execute_result"
    }
   ],
   "source": [
    "df_cm"
   ]
  },
  {
   "cell_type": "code",
   "execution_count": 50,
   "metadata": {
    "scrolled": true
   },
   "outputs": [
    {
     "data": {
      "text/html": [
       "<div>\n",
       "<style scoped>\n",
       "    .dataframe tbody tr th:only-of-type {\n",
       "        vertical-align: middle;\n",
       "    }\n",
       "\n",
       "    .dataframe tbody tr th {\n",
       "        vertical-align: top;\n",
       "    }\n",
       "\n",
       "    .dataframe thead th {\n",
       "        text-align: right;\n",
       "    }\n",
       "</style>\n",
       "<table border=\"1\" class=\"dataframe\">\n",
       "  <thead>\n",
       "    <tr style=\"text-align: right;\">\n",
       "      <th></th>\n",
       "      <th>Feature</th>\n",
       "      <th>Feature Importance</th>\n",
       "    </tr>\n",
       "  </thead>\n",
       "  <tbody>\n",
       "    <tr>\n",
       "      <th>0</th>\n",
       "      <td>Cholesterol</td>\n",
       "      <td>0.436184</td>\n",
       "    </tr>\n",
       "    <tr>\n",
       "      <th>1</th>\n",
       "      <td>Oldpeak</td>\n",
       "      <td>0.330271</td>\n",
       "    </tr>\n",
       "    <tr>\n",
       "      <th>2</th>\n",
       "      <td>Sex_F</td>\n",
       "      <td>0.178307</td>\n",
       "    </tr>\n",
       "    <tr>\n",
       "      <th>3</th>\n",
       "      <td>MaxHR</td>\n",
       "      <td>0.022942</td>\n",
       "    </tr>\n",
       "    <tr>\n",
       "      <th>4</th>\n",
       "      <td>Age</td>\n",
       "      <td>0.018069</td>\n",
       "    </tr>\n",
       "    <tr>\n",
       "      <th>5</th>\n",
       "      <td>RestingBP</td>\n",
       "      <td>0.011507</td>\n",
       "    </tr>\n",
       "    <tr>\n",
       "      <th>6</th>\n",
       "      <td>RestingECG_ST</td>\n",
       "      <td>0.002720</td>\n",
       "    </tr>\n",
       "    <tr>\n",
       "      <th>7</th>\n",
       "      <td>FastingBS</td>\n",
       "      <td>0.000000</td>\n",
       "    </tr>\n",
       "    <tr>\n",
       "      <th>8</th>\n",
       "      <td>ChestPainType_ASY</td>\n",
       "      <td>0.000000</td>\n",
       "    </tr>\n",
       "    <tr>\n",
       "      <th>9</th>\n",
       "      <td>ChestPainType_ATA</td>\n",
       "      <td>0.000000</td>\n",
       "    </tr>\n",
       "    <tr>\n",
       "      <th>10</th>\n",
       "      <td>ChestPainType_NAP</td>\n",
       "      <td>0.000000</td>\n",
       "    </tr>\n",
       "    <tr>\n",
       "      <th>11</th>\n",
       "      <td>ChestPainType_TA</td>\n",
       "      <td>0.000000</td>\n",
       "    </tr>\n",
       "    <tr>\n",
       "      <th>12</th>\n",
       "      <td>Sex_M</td>\n",
       "      <td>0.000000</td>\n",
       "    </tr>\n",
       "    <tr>\n",
       "      <th>13</th>\n",
       "      <td>RestingECG_LVH</td>\n",
       "      <td>0.000000</td>\n",
       "    </tr>\n",
       "    <tr>\n",
       "      <th>14</th>\n",
       "      <td>RestingECG_Normal</td>\n",
       "      <td>0.000000</td>\n",
       "    </tr>\n",
       "    <tr>\n",
       "      <th>15</th>\n",
       "      <td>ExerciseAngina_N</td>\n",
       "      <td>0.000000</td>\n",
       "    </tr>\n",
       "    <tr>\n",
       "      <th>16</th>\n",
       "      <td>ExerciseAngina_Y</td>\n",
       "      <td>0.000000</td>\n",
       "    </tr>\n",
       "    <tr>\n",
       "      <th>17</th>\n",
       "      <td>ST_Slope_Down</td>\n",
       "      <td>0.000000</td>\n",
       "    </tr>\n",
       "    <tr>\n",
       "      <th>18</th>\n",
       "      <td>ST_Slope_Flat</td>\n",
       "      <td>0.000000</td>\n",
       "    </tr>\n",
       "    <tr>\n",
       "      <th>19</th>\n",
       "      <td>ST_Slope_Up</td>\n",
       "      <td>0.000000</td>\n",
       "    </tr>\n",
       "  </tbody>\n",
       "</table>\n",
       "</div>"
      ],
      "text/plain": [
       "              Feature  Feature Importance\n",
       "0         Cholesterol            0.436184\n",
       "1             Oldpeak            0.330271\n",
       "2               Sex_F            0.178307\n",
       "3               MaxHR            0.022942\n",
       "4                 Age            0.018069\n",
       "5           RestingBP            0.011507\n",
       "6       RestingECG_ST            0.002720\n",
       "7           FastingBS            0.000000\n",
       "8   ChestPainType_ASY            0.000000\n",
       "9   ChestPainType_ATA            0.000000\n",
       "10  ChestPainType_NAP            0.000000\n",
       "11   ChestPainType_TA            0.000000\n",
       "12              Sex_M            0.000000\n",
       "13     RestingECG_LVH            0.000000\n",
       "14  RestingECG_Normal            0.000000\n",
       "15   ExerciseAngina_N            0.000000\n",
       "16   ExerciseAngina_Y            0.000000\n",
       "17      ST_Slope_Down            0.000000\n",
       "18      ST_Slope_Flat            0.000000\n",
       "19        ST_Slope_Up            0.000000"
      ]
     },
     "execution_count": 50,
     "metadata": {},
     "output_type": "execute_result"
    }
   ],
   "source": [
    "fi_df=zip(fi_col,fi)\n",
    "fi_df = pd.DataFrame(fi_df,columns=['Feature','Feature Importance'])\n",
    "importance = fi_df.sort_values('Feature Importance',ascending = False).reset_index(drop = True)\n",
    "importance\n"
   ]
  },
  {
   "cell_type": "code",
   "execution_count": 51,
   "metadata": {},
   "outputs": [
    {
     "data": {
      "text/plain": [
       "(167, 5)"
      ]
     },
     "execution_count": 51,
     "metadata": {},
     "output_type": "execute_result"
    }
   ],
   "source": [
    "columns_to_keep = importance['Feature'][0:5]\n",
    "stalog_data[columns_to_keep].shape"
   ]
  },
  {
   "cell_type": "code",
   "execution_count": 52,
   "metadata": {},
   "outputs": [],
   "source": [
    "dt_stalog = stalog_data[columns_to_keep]"
   ]
  },
  {
   "cell_type": "code",
   "execution_count": 53,
   "metadata": {},
   "outputs": [
    {
     "name": "stdout",
     "output_type": "stream",
     "text": [
      "(167, 5)\n",
      "(167,)\n"
     ]
    }
   ],
   "source": [
    "print(dt_stalog.shape)\n",
    "print(Y.shape)"
   ]
  },
  {
   "cell_type": "code",
   "execution_count": 54,
   "metadata": {},
   "outputs": [],
   "source": [
    "dt_x,dt_y = dt_stalog,Y\n",
    "#smk.fit_resample"
   ]
  },
  {
   "cell_type": "code",
   "execution_count": 55,
   "metadata": {},
   "outputs": [],
   "source": [
    "x_train,x_test,Y_train,Y_test = train_test_split(dt_x,dt_y,test_size=0.3,stratify=dt_y)"
   ]
  },
  {
   "cell_type": "code",
   "execution_count": 56,
   "metadata": {},
   "outputs": [],
   "source": [
    "clf_2 = GridSearchCV(DecisionTreeClassifier(),param_grid=params,cv=6,n_jobs=-1)"
   ]
  },
  {
   "cell_type": "code",
   "execution_count": 57,
   "metadata": {},
   "outputs": [
    {
     "data": {
      "text/plain": [
       "GridSearchCV(cv=6, estimator=DecisionTreeClassifier(), n_jobs=-1,\n",
       "             param_grid={'criterion': ['gini', 'entropy'],\n",
       "                         'max_depth': [1, 2, 3, 4, 5, 6, 7, 8, 9, 10, 11, 12,\n",
       "                                       13, None],\n",
       "                         'max_features': ['auto', 'sqrt', 'log2', None],\n",
       "                         'min_samples_leaf': [1, 2, 3, 4, 5],\n",
       "                         'min_samples_split': [0.1, 0.2, 0.3],\n",
       "                         'splitter': ['best', 'random']})"
      ]
     },
     "execution_count": 57,
     "metadata": {},
     "output_type": "execute_result"
    }
   ],
   "source": [
    "clf_2.fit(x_train,Y_train)"
   ]
  },
  {
   "cell_type": "code",
   "execution_count": 58,
   "metadata": {},
   "outputs": [
    {
     "name": "stdout",
     "output_type": "stream",
     "text": [
      "DecisionTreeClassifier(criterion='entropy', max_depth=5, max_features='log2',\n",
      "                       min_samples_leaf=2, min_samples_split=0.2)\n"
     ]
    }
   ],
   "source": [
    "print(clf_2.best_estimator_)"
   ]
  },
  {
   "cell_type": "code",
   "execution_count": 59,
   "metadata": {},
   "outputs": [
    {
     "data": {
      "text/plain": [
       "0.6078431372549019"
      ]
     },
     "execution_count": 59,
     "metadata": {},
     "output_type": "execute_result"
    }
   ],
   "source": [
    "\n",
    "dt_2 = DecisionTreeClassifier(criterion='entropy', max_depth=10, max_features='auto',\n",
    "                       min_samples_leaf=5, min_samples_split=0.1)\n",
    "dt_2.fit(x_train,Y_train)\n",
    "dt_pred_2 = dt_2.predict(x_test)\n",
    "dt_2.score(x_test,Y_test)"
   ]
  },
  {
   "cell_type": "code",
   "execution_count": 60,
   "metadata": {},
   "outputs": [
    {
     "name": "stdout",
     "output_type": "stream",
     "text": [
      "[[18 14]\n",
      " [ 6 13]]\n"
     ]
    },
    {
     "data": {
      "image/png": "[encoded data removed]",
      "text/plain": [
       "<Figure size 432x288 with 2 Axes>"
      ]
     },
     "metadata": {
      "needs_background": "light"
     },
     "output_type": "display_data"
    }
   ],
   "source": [
    "df_cm_2 =confusion_matrix(Y_test,dt_pred_2)\n",
    "print(df_cm_2)\n",
    "df2_norm = df_cm_2/df_cm_2.sum(axis=1).reshape(-1,1)\n",
    "plot_confusion_matrix(df2_norm,dt_2.classes_)"
   ]
  }
 ],
 "metadata": {
  "kernelspec": {
   "display_name": "Python 3",
   "language": "python",
   "name": "python3"
  },
  "language_info": {
   "codemirror_mode": {
    "name": "ipython",
    "version": 3
   },
   "file_extension": ".py",
   "mimetype": "text/x-python",
   "name": "python",
   "nbconvert_exporter": "python",
   "pygments_lexer": "ipython3",
   "version": "3.8.5"
  }
 },
 "nbformat": 4,
 "nbformat_minor": 4
}
