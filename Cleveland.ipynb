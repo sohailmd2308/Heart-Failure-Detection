{
 "cells": [
  {
   "cell_type": "code",
   "execution_count": 1,
   "metadata": {},
   "outputs": [],
   "source": [
    "import pandas as pd\n",
    "import numpy as np\n",
    "import os\n",
    "from matplotlib import pyplot as plt\n",
    "from sklearn.linear_model import LogisticRegression\n",
    "from sklearn.tree import DecisionTreeClassifier\n",
    "from sklearn.model_selection import train_test_split\n",
    "from sklearn.model_selection import GridSearchCV\n",
    "from sklearn.metrics import r2_score,explained_variance_score,confusion_matrix,accuracy_score,classification_report,log_loss\n",
    "import seaborn as sns"
   ]
  },
  {
   "cell_type": "code",
   "execution_count": 2,
   "metadata": {},
   "outputs": [
    {
     "data": {
      "text/plain": [
       "Location          0\n",
       "Age               0\n",
       "Sex               0\n",
       "ChestPainType     0\n",
       "RestingBP         0\n",
       "Cholesterol       0\n",
       "FastingBS         0\n",
       "RestingECG        0\n",
       "MaxHR             0\n",
       "ExerciseAngina    0\n",
       "Oldpeak           0\n",
       "ST_Slope          0\n",
       "HeartDisease      0\n",
       "dtype: int64"
      ]
     },
     "execution_count": 2,
     "metadata": {},
     "output_type": "execute_result"
    }
   ],
   "source": [
    "data_cleveland = pd.read_excel('Cleveland.xlsx')\n",
    "data_cleveland.shape\n",
    "data_cleveland.head()\n",
    "data_cleveland.isnull().sum()\n",
    "\n"
   ]
  },
  {
   "cell_type": "code",
   "execution_count": 3,
   "metadata": {},
   "outputs": [
    {
     "data": {
      "text/plain": [
       "0      48\n",
       "193     4\n",
       "223     3\n",
       "225     3\n",
       "289     3\n",
       "       ..\n",
       "236     1\n",
       "235     1\n",
       "407     1\n",
       "255     1\n",
       "318     1\n",
       "Name: Cholesterol, Length: 124, dtype: int64"
      ]
     },
     "execution_count": 3,
     "metadata": {},
     "output_type": "execute_result"
    }
   ],
   "source": [
    "#data_cleveland[data_cleveland['Cholesterol']==0].\n",
    "data_cleveland['Cholesterol'].value_counts()"
   ]
  },
  {
   "cell_type": "code",
   "execution_count": 4,
   "metadata": {},
   "outputs": [],
   "source": [
    "# Handeling the cholestrol column \n",
    "data_cleveland['Cholesterol'].replace(0,data_cleveland['Cholesterol'].mean(),inplace=True)"
   ]
  },
  {
   "cell_type": "code",
   "execution_count": 5,
   "metadata": {},
   "outputs": [
    {
     "data": {
      "text/plain": [
       "False"
      ]
     },
     "execution_count": 5,
     "metadata": {},
     "output_type": "execute_result"
    }
   ],
   "source": [
    "data_cleveland['Cholesterol'].any()==0"
   ]
  },
  {
   "cell_type": "code",
   "execution_count": 6,
   "metadata": {},
   "outputs": [
    {
     "data": {
      "text/plain": [
       "<bound method NDFrame.astype of        Location  Age Sex ChestPainType  RestingBP  Cholesterol  FastingBS  \\\n",
       "0    Cleaveland   54   M           ASY        200   198.000000          0   \n",
       "1    Cleaveland   56   F           ASY        200   288.000000          1   \n",
       "2    Cleaveland   64   F           ASY        200   199.715596          0   \n",
       "3    Cleaveland   54   M           ATA        192   283.000000          0   \n",
       "4    Cleaveland   63   M           ASY        185   199.715596          0   \n",
       "..          ...  ...  ..           ...        ...          ...        ...   \n",
       "213  Cleaveland   46   M           ASY        115   199.715596          0   \n",
       "214  Cleaveland   62   M           ASY        115   199.715596          1   \n",
       "215  Cleaveland   46   M           ASY        110   202.000000          0   \n",
       "216  Cleaveland   48   F           ASY        108   163.000000          0   \n",
       "217  Cleaveland   60   F           NAP        102   318.000000          0   \n",
       "\n",
       "    RestingECG  MaxHR ExerciseAngina  Oldpeak ST_Slope  HeartDisease  \n",
       "0       Normal    142              Y      2.0     Flat             1  \n",
       "1          LVH    133              Y      4.0     Down             1  \n",
       "2       Normal    140              Y      1.0     Flat             1  \n",
       "3          LVH    195              N      0.0       Up             1  \n",
       "4       Normal     98              Y      0.0       Up             1  \n",
       "..         ...    ...            ...      ...      ...           ...  \n",
       "213     Normal    113              Y      1.5     Flat             1  \n",
       "214     Normal    128              Y      2.5     Down             1  \n",
       "215     Normal    150              Y      0.0     Flat             1  \n",
       "216     Normal    175              N      2.0       Up             0  \n",
       "217     Normal    160              N      0.0       Up             0  \n",
       "\n",
       "[218 rows x 13 columns]>"
      ]
     },
     "execution_count": 6,
     "metadata": {},
     "output_type": "execute_result"
    }
   ],
   "source": [
    "data_cleveland.astype"
   ]
  },
  {
   "cell_type": "code",
   "execution_count": 7,
   "metadata": {},
   "outputs": [
    {
     "data": {
      "text/html": [
       "<div>\n",
       "<style scoped>\n",
       "    .dataframe tbody tr th:only-of-type {\n",
       "        vertical-align: middle;\n",
       "    }\n",
       "\n",
       "    .dataframe tbody tr th {\n",
       "        vertical-align: top;\n",
       "    }\n",
       "\n",
       "    .dataframe thead th {\n",
       "        text-align: right;\n",
       "    }\n",
       "</style>\n",
       "<table border=\"1\" class=\"dataframe\">\n",
       "  <thead>\n",
       "    <tr style=\"text-align: right;\">\n",
       "      <th></th>\n",
       "      <th>Age</th>\n",
       "      <th>RestingBP</th>\n",
       "      <th>Cholesterol</th>\n",
       "      <th>FastingBS</th>\n",
       "      <th>MaxHR</th>\n",
       "      <th>Oldpeak</th>\n",
       "      <th>HeartDisease</th>\n",
       "    </tr>\n",
       "  </thead>\n",
       "  <tbody>\n",
       "    <tr>\n",
       "      <th>count</th>\n",
       "      <td>218.000000</td>\n",
       "      <td>218.000000</td>\n",
       "      <td>218.000000</td>\n",
       "      <td>218.000000</td>\n",
       "      <td>218.000000</td>\n",
       "      <td>218.00000</td>\n",
       "      <td>218.000000</td>\n",
       "    </tr>\n",
       "    <tr>\n",
       "      <th>mean</th>\n",
       "      <td>57.775229</td>\n",
       "      <td>145.692661</td>\n",
       "      <td>243.689673</td>\n",
       "      <td>0.302752</td>\n",
       "      <td>129.811927</td>\n",
       "      <td>1.32156</td>\n",
       "      <td>0.811927</td>\n",
       "    </tr>\n",
       "    <tr>\n",
       "      <th>std</th>\n",
       "      <td>8.540493</td>\n",
       "      <td>17.011572</td>\n",
       "      <td>59.425367</td>\n",
       "      <td>0.460506</td>\n",
       "      <td>24.178035</td>\n",
       "      <td>1.16419</td>\n",
       "      <td>0.391670</td>\n",
       "    </tr>\n",
       "    <tr>\n",
       "      <th>min</th>\n",
       "      <td>32.000000</td>\n",
       "      <td>102.000000</td>\n",
       "      <td>100.000000</td>\n",
       "      <td>0.000000</td>\n",
       "      <td>67.000000</td>\n",
       "      <td>0.00000</td>\n",
       "      <td>0.000000</td>\n",
       "    </tr>\n",
       "    <tr>\n",
       "      <th>25%</th>\n",
       "      <td>52.000000</td>\n",
       "      <td>140.000000</td>\n",
       "      <td>199.715596</td>\n",
       "      <td>0.000000</td>\n",
       "      <td>113.000000</td>\n",
       "      <td>0.00000</td>\n",
       "      <td>1.000000</td>\n",
       "    </tr>\n",
       "    <tr>\n",
       "      <th>50%</th>\n",
       "      <td>58.000000</td>\n",
       "      <td>144.000000</td>\n",
       "      <td>225.500000</td>\n",
       "      <td>0.000000</td>\n",
       "      <td>125.000000</td>\n",
       "      <td>1.20000</td>\n",
       "      <td>1.000000</td>\n",
       "    </tr>\n",
       "    <tr>\n",
       "      <th>75%</th>\n",
       "      <td>64.000000</td>\n",
       "      <td>157.250000</td>\n",
       "      <td>283.750000</td>\n",
       "      <td>1.000000</td>\n",
       "      <td>149.000000</td>\n",
       "      <td>2.00000</td>\n",
       "      <td>1.000000</td>\n",
       "    </tr>\n",
       "    <tr>\n",
       "      <th>max</th>\n",
       "      <td>77.000000</td>\n",
       "      <td>200.000000</td>\n",
       "      <td>529.000000</td>\n",
       "      <td>1.000000</td>\n",
       "      <td>195.000000</td>\n",
       "      <td>6.20000</td>\n",
       "      <td>1.000000</td>\n",
       "    </tr>\n",
       "  </tbody>\n",
       "</table>\n",
       "</div>"
      ],
      "text/plain": [
       "              Age   RestingBP  Cholesterol   FastingBS       MaxHR    Oldpeak  \\\n",
       "count  218.000000  218.000000   218.000000  218.000000  218.000000  218.00000   \n",
       "mean    57.775229  145.692661   243.689673    0.302752  129.811927    1.32156   \n",
       "std      8.540493   17.011572    59.425367    0.460506   24.178035    1.16419   \n",
       "min     32.000000  102.000000   100.000000    0.000000   67.000000    0.00000   \n",
       "25%     52.000000  140.000000   199.715596    0.000000  113.000000    0.00000   \n",
       "50%     58.000000  144.000000   225.500000    0.000000  125.000000    1.20000   \n",
       "75%     64.000000  157.250000   283.750000    1.000000  149.000000    2.00000   \n",
       "max     77.000000  200.000000   529.000000    1.000000  195.000000    6.20000   \n",
       "\n",
       "       HeartDisease  \n",
       "count    218.000000  \n",
       "mean       0.811927  \n",
       "std        0.391670  \n",
       "min        0.000000  \n",
       "25%        1.000000  \n",
       "50%        1.000000  \n",
       "75%        1.000000  \n",
       "max        1.000000  "
      ]
     },
     "execution_count": 7,
     "metadata": {},
     "output_type": "execute_result"
    }
   ],
   "source": [
    "data_cleveland.describe()"
   ]
  },
  {
   "cell_type": "code",
   "execution_count": 8,
   "metadata": {
    "scrolled": true
   },
   "outputs": [
    {
     "name": "stdout",
     "output_type": "stream",
     "text": [
      "The number of values for feature Location is:1 -- ['Cleaveland']\n",
      "The number of values for feature Age is:40\n",
      "The number of values for feature Sex is:2 -- ['F' 'M']\n",
      "The number of values for feature ChestPainType is:4 -- ['ASY' 'ATA' 'NAP' 'TA']\n",
      "The number of values for feature RestingBP is:39\n",
      "The number of values for feature Cholesterol is:124\n",
      "The number of values for feature FastingBS is:2 -- [0 1]\n",
      "The number of values for feature RestingECG is:3 -- ['LVH' 'Normal' 'ST']\n",
      "The number of values for feature MaxHR is:78\n",
      "The number of values for feature ExerciseAngina is:2 -- ['N' 'Y']\n",
      "The number of values for feature Oldpeak is:30\n",
      "The number of values for feature ST_Slope is:3 -- ['Down' 'Flat' 'Up']\n",
      "The number of values for feature HeartDisease is:2 -- [0 1]\n"
     ]
    }
   ],
   "source": [
    "#Investigating all features within a column\n",
    "\n",
    "for columns in data_cleveland:\n",
    "    unique_values = np.unique(data_cleveland[columns])\n",
    "    count_values = len(unique_values)\n",
    "    if count_values < 10:\n",
    "        print('The number of values for feature {} is:{} -- {}'.format(columns,count_values,unique_values))\n",
    "    else:\n",
    "        print('The number of values for feature {} is:{}'.format(columns,count_values))"
   ]
  },
  {
   "cell_type": "code",
   "execution_count": 9,
   "metadata": {},
   "outputs": [],
   "source": [
    "#Calculating the Corelation values\n",
    "data_cleveland.columns\n",
    "corr = data_cleveland.corr()"
   ]
  },
  {
   "cell_type": "code",
   "execution_count": 10,
   "metadata": {},
   "outputs": [
    {
     "data": {
      "image/png": "[encoded data removed]",
      "text/plain": [
       "<Figure size 792x864 with 2 Axes>"
      ]
     },
     "metadata": {
      "needs_background": "light"
     },
     "output_type": "display_data"
    }
   ],
   "source": [
    "c = data_cleveland.drop(['Location'],axis=1)\n",
    "# Calculate pairwise-correlation\n",
    "matrix = c.corr()\n",
    "\n",
    "# Create a mask\n",
    "mask = np.triu(np.ones_like(matrix, dtype=bool))\n",
    "\n",
    "# Create a custom divergin palette\n",
    "cmap = sns.diverging_palette(250, 15, s=75, l=40,\n",
    "                            n=9, center=\"light\", as_cmap=True)\n",
    "\n",
    "plt.figure(figsize=(11, 12))\n",
    "sns.heatmap(matrix, mask=mask, center=0, annot=True,\n",
    "            fmt='.2f', square=True, cmap=cmap)\n",
    "\n",
    "plt.show();"
   ]
  },
  {
   "cell_type": "code",
   "execution_count": 11,
   "metadata": {},
   "outputs": [
    {
     "data": {
      "image/png": "[encoded data removed]",
      "text/plain": [
       "<Figure size 432x288 with 1 Axes>"
      ]
     },
     "metadata": {
      "needs_background": "light"
     },
     "output_type": "display_data"
    },
    {
     "data": {
      "image/png": "[encoded data removed]",
      "text/plain": [
       "<Figure size 432x288 with 1 Axes>"
      ]
     },
     "metadata": {
      "needs_background": "light"
     },
     "output_type": "display_data"
    },
    {
     "data": {
      "image/png": "[encoded data removed]",
      "text/plain": [
       "<Figure size 432x288 with 1 Axes>"
      ]
     },
     "metadata": {
      "needs_background": "light"
     },
     "output_type": "display_data"
    },
    {
     "data": {
      "image/png": "[encoded data removed]",
      "text/plain": [
       "<Figure size 432x288 with 1 Axes>"
      ]
     },
     "metadata": {
      "needs_background": "light"
     },
     "output_type": "display_data"
    },
    {
     "data": {
      "image/png": "[encoded data removed]",
      "text/plain": [
       "<Figure size 432x288 with 1 Axes>"
      ]
     },
     "metadata": {
      "needs_background": "light"
     },
     "output_type": "display_data"
    },
    {
     "data": {
      "image/png": "[encoded data removed]",
      "text/plain": [
       "<Figure size 432x288 with 1 Axes>"
      ]
     },
     "metadata": {
      "needs_background": "light"
     },
     "output_type": "display_data"
    },
    {
     "data": {
      "image/png": "[encoded data removed]",
      "text/plain": [
       "<Figure size 432x288 with 1 Axes>"
      ]
     },
     "metadata": {
      "needs_background": "light"
     },
     "output_type": "display_data"
    },
    {
     "data": {
      "image/png": "[encoded data removed]",
      "text/plain": [
       "<Figure size 432x288 with 1 Axes>"
      ]
     },
     "metadata": {
      "needs_background": "light"
     },
     "output_type": "display_data"
    },
    {
     "data": {
      "image/png": "[encoded data removed]",
      "text/plain": [
       "<Figure size 432x288 with 1 Axes>"
      ]
     },
     "metadata": {
      "needs_background": "light"
     },
     "output_type": "display_data"
    },
    {
     "data": {
      "image/png": "[encoded data removed]",
      "text/plain": [
       "<Figure size 432x288 with 1 Axes>"
      ]
     },
     "metadata": {
      "needs_background": "light"
     },
     "output_type": "display_data"
    },
    {
     "data": {
      "image/png": "[encoded data removed]",
      "text/plain": [
       "<Figure size 432x288 with 1 Axes>"
      ]
     },
     "metadata": {
      "needs_background": "light"
     },
     "output_type": "display_data"
    },
    {
     "data": {
      "image/png": "[encoded data removed]",
      "text/plain": [
       "<Figure size 432x288 with 1 Axes>"
      ]
     },
     "metadata": {
      "needs_background": "light"
     },
     "output_type": "display_data"
    }
   ],
   "source": [
    "#Evaluating each feature and observing the affect on Y\n",
    "feature = ['Location', 'Age', 'Sex', 'ChestPainType', 'RestingBP', 'Cholesterol',\n",
    "       'FastingBS', 'RestingECG', 'MaxHR', 'ExerciseAngina', 'Oldpeak',\n",
    "       'ST_Slope']\n",
    "\n",
    "for f in feature:\n",
    "    sns.countplot(x = f,data = data_cleveland,palette='Set3',hue = 'HeartDisease')\n",
    "    plt.show()"
   ]
  },
  {
   "cell_type": "code",
   "execution_count": 12,
   "metadata": {},
   "outputs": [
    {
     "data": {
      "text/plain": [
       "(218, 22)"
      ]
     },
     "execution_count": 12,
     "metadata": {},
     "output_type": "execute_result"
    }
   ],
   "source": [
    "#Feature Selection\n",
    "# Converting all variables \n",
    "Cleve_data = pd.get_dummies(data_cleveland,columns = [\"ChestPainType\", \"Sex\",\"RestingECG\",\"ExerciseAngina\",\"ST_Slope\"],prefix=[\"ChestPainType\", \"Sex\",\"RestingECG\",\"ExerciseAngina\",\"ST_Slope\"])\n",
    "Cleve_data.shape\n"
   ]
  },
  {
   "cell_type": "markdown",
   "metadata": {},
   "source": [
    "#As the ration of heartdisease is very different, we need to balance the dataset to avoid any bias in our model. We have used an oversampling technique to deal with the issue without loosing any data"
   ]
  },
  {
   "cell_type": "code",
   "execution_count": 13,
   "metadata": {
    "scrolled": true
   },
   "outputs": [
    {
     "data": {
      "text/html": [
       "<div>\n",
       "<style scoped>\n",
       "    .dataframe tbody tr th:only-of-type {\n",
       "        vertical-align: middle;\n",
       "    }\n",
       "\n",
       "    .dataframe tbody tr th {\n",
       "        vertical-align: top;\n",
       "    }\n",
       "\n",
       "    .dataframe thead th {\n",
       "        text-align: right;\n",
       "    }\n",
       "</style>\n",
       "<table border=\"1\" class=\"dataframe\">\n",
       "  <thead>\n",
       "    <tr style=\"text-align: right;\">\n",
       "      <th></th>\n",
       "      <th>Age</th>\n",
       "      <th>RestingBP</th>\n",
       "      <th>Cholesterol</th>\n",
       "      <th>FastingBS</th>\n",
       "      <th>MaxHR</th>\n",
       "      <th>Oldpeak</th>\n",
       "      <th>ChestPainType_ASY</th>\n",
       "      <th>ChestPainType_ATA</th>\n",
       "      <th>ChestPainType_NAP</th>\n",
       "      <th>ChestPainType_TA</th>\n",
       "      <th>Sex_F</th>\n",
       "      <th>Sex_M</th>\n",
       "      <th>RestingECG_LVH</th>\n",
       "      <th>RestingECG_Normal</th>\n",
       "      <th>RestingECG_ST</th>\n",
       "      <th>ExerciseAngina_N</th>\n",
       "      <th>ExerciseAngina_Y</th>\n",
       "      <th>ST_Slope_Down</th>\n",
       "      <th>ST_Slope_Flat</th>\n",
       "      <th>ST_Slope_Up</th>\n",
       "    </tr>\n",
       "  </thead>\n",
       "  <tbody>\n",
       "    <tr>\n",
       "      <th>0</th>\n",
       "      <td>0.488889</td>\n",
       "      <td>1.000000</td>\n",
       "      <td>0.228438</td>\n",
       "      <td>0</td>\n",
       "      <td>0.585938</td>\n",
       "      <td>0.322581</td>\n",
       "      <td>1</td>\n",
       "      <td>0</td>\n",
       "      <td>0</td>\n",
       "      <td>0</td>\n",
       "      <td>0</td>\n",
       "      <td>1</td>\n",
       "      <td>0</td>\n",
       "      <td>1</td>\n",
       "      <td>0</td>\n",
       "      <td>0</td>\n",
       "      <td>1</td>\n",
       "      <td>0</td>\n",
       "      <td>1</td>\n",
       "      <td>0</td>\n",
       "    </tr>\n",
       "    <tr>\n",
       "      <th>1</th>\n",
       "      <td>0.533333</td>\n",
       "      <td>1.000000</td>\n",
       "      <td>0.438228</td>\n",
       "      <td>1</td>\n",
       "      <td>0.515625</td>\n",
       "      <td>0.645161</td>\n",
       "      <td>1</td>\n",
       "      <td>0</td>\n",
       "      <td>0</td>\n",
       "      <td>0</td>\n",
       "      <td>1</td>\n",
       "      <td>0</td>\n",
       "      <td>1</td>\n",
       "      <td>0</td>\n",
       "      <td>0</td>\n",
       "      <td>0</td>\n",
       "      <td>1</td>\n",
       "      <td>1</td>\n",
       "      <td>0</td>\n",
       "      <td>0</td>\n",
       "    </tr>\n",
       "    <tr>\n",
       "      <th>2</th>\n",
       "      <td>0.711111</td>\n",
       "      <td>1.000000</td>\n",
       "      <td>0.232437</td>\n",
       "      <td>0</td>\n",
       "      <td>0.570312</td>\n",
       "      <td>0.161290</td>\n",
       "      <td>1</td>\n",
       "      <td>0</td>\n",
       "      <td>0</td>\n",
       "      <td>0</td>\n",
       "      <td>1</td>\n",
       "      <td>0</td>\n",
       "      <td>0</td>\n",
       "      <td>1</td>\n",
       "      <td>0</td>\n",
       "      <td>0</td>\n",
       "      <td>1</td>\n",
       "      <td>0</td>\n",
       "      <td>1</td>\n",
       "      <td>0</td>\n",
       "    </tr>\n",
       "    <tr>\n",
       "      <th>3</th>\n",
       "      <td>0.488889</td>\n",
       "      <td>0.918367</td>\n",
       "      <td>0.426573</td>\n",
       "      <td>0</td>\n",
       "      <td>1.000000</td>\n",
       "      <td>0.000000</td>\n",
       "      <td>0</td>\n",
       "      <td>1</td>\n",
       "      <td>0</td>\n",
       "      <td>0</td>\n",
       "      <td>0</td>\n",
       "      <td>1</td>\n",
       "      <td>1</td>\n",
       "      <td>0</td>\n",
       "      <td>0</td>\n",
       "      <td>1</td>\n",
       "      <td>0</td>\n",
       "      <td>0</td>\n",
       "      <td>0</td>\n",
       "      <td>1</td>\n",
       "    </tr>\n",
       "    <tr>\n",
       "      <th>4</th>\n",
       "      <td>0.688889</td>\n",
       "      <td>0.846939</td>\n",
       "      <td>0.232437</td>\n",
       "      <td>0</td>\n",
       "      <td>0.242188</td>\n",
       "      <td>0.000000</td>\n",
       "      <td>1</td>\n",
       "      <td>0</td>\n",
       "      <td>0</td>\n",
       "      <td>0</td>\n",
       "      <td>0</td>\n",
       "      <td>1</td>\n",
       "      <td>0</td>\n",
       "      <td>1</td>\n",
       "      <td>0</td>\n",
       "      <td>0</td>\n",
       "      <td>1</td>\n",
       "      <td>0</td>\n",
       "      <td>0</td>\n",
       "      <td>1</td>\n",
       "    </tr>\n",
       "    <tr>\n",
       "      <th>...</th>\n",
       "      <td>...</td>\n",
       "      <td>...</td>\n",
       "      <td>...</td>\n",
       "      <td>...</td>\n",
       "      <td>...</td>\n",
       "      <td>...</td>\n",
       "      <td>...</td>\n",
       "      <td>...</td>\n",
       "      <td>...</td>\n",
       "      <td>...</td>\n",
       "      <td>...</td>\n",
       "      <td>...</td>\n",
       "      <td>...</td>\n",
       "      <td>...</td>\n",
       "      <td>...</td>\n",
       "      <td>...</td>\n",
       "      <td>...</td>\n",
       "      <td>...</td>\n",
       "      <td>...</td>\n",
       "      <td>...</td>\n",
       "    </tr>\n",
       "    <tr>\n",
       "      <th>213</th>\n",
       "      <td>0.311111</td>\n",
       "      <td>0.132653</td>\n",
       "      <td>0.232437</td>\n",
       "      <td>0</td>\n",
       "      <td>0.359375</td>\n",
       "      <td>0.241935</td>\n",
       "      <td>1</td>\n",
       "      <td>0</td>\n",
       "      <td>0</td>\n",
       "      <td>0</td>\n",
       "      <td>0</td>\n",
       "      <td>1</td>\n",
       "      <td>0</td>\n",
       "      <td>1</td>\n",
       "      <td>0</td>\n",
       "      <td>0</td>\n",
       "      <td>1</td>\n",
       "      <td>0</td>\n",
       "      <td>1</td>\n",
       "      <td>0</td>\n",
       "    </tr>\n",
       "    <tr>\n",
       "      <th>214</th>\n",
       "      <td>0.666667</td>\n",
       "      <td>0.132653</td>\n",
       "      <td>0.232437</td>\n",
       "      <td>1</td>\n",
       "      <td>0.476562</td>\n",
       "      <td>0.403226</td>\n",
       "      <td>1</td>\n",
       "      <td>0</td>\n",
       "      <td>0</td>\n",
       "      <td>0</td>\n",
       "      <td>0</td>\n",
       "      <td>1</td>\n",
       "      <td>0</td>\n",
       "      <td>1</td>\n",
       "      <td>0</td>\n",
       "      <td>0</td>\n",
       "      <td>1</td>\n",
       "      <td>1</td>\n",
       "      <td>0</td>\n",
       "      <td>0</td>\n",
       "    </tr>\n",
       "    <tr>\n",
       "      <th>215</th>\n",
       "      <td>0.311111</td>\n",
       "      <td>0.081633</td>\n",
       "      <td>0.237762</td>\n",
       "      <td>0</td>\n",
       "      <td>0.648438</td>\n",
       "      <td>0.000000</td>\n",
       "      <td>1</td>\n",
       "      <td>0</td>\n",
       "      <td>0</td>\n",
       "      <td>0</td>\n",
       "      <td>0</td>\n",
       "      <td>1</td>\n",
       "      <td>0</td>\n",
       "      <td>1</td>\n",
       "      <td>0</td>\n",
       "      <td>0</td>\n",
       "      <td>1</td>\n",
       "      <td>0</td>\n",
       "      <td>1</td>\n",
       "      <td>0</td>\n",
       "    </tr>\n",
       "    <tr>\n",
       "      <th>216</th>\n",
       "      <td>0.355556</td>\n",
       "      <td>0.061224</td>\n",
       "      <td>0.146853</td>\n",
       "      <td>0</td>\n",
       "      <td>0.843750</td>\n",
       "      <td>0.322581</td>\n",
       "      <td>1</td>\n",
       "      <td>0</td>\n",
       "      <td>0</td>\n",
       "      <td>0</td>\n",
       "      <td>1</td>\n",
       "      <td>0</td>\n",
       "      <td>0</td>\n",
       "      <td>1</td>\n",
       "      <td>0</td>\n",
       "      <td>1</td>\n",
       "      <td>0</td>\n",
       "      <td>0</td>\n",
       "      <td>0</td>\n",
       "      <td>1</td>\n",
       "    </tr>\n",
       "    <tr>\n",
       "      <th>217</th>\n",
       "      <td>0.622222</td>\n",
       "      <td>0.000000</td>\n",
       "      <td>0.508159</td>\n",
       "      <td>0</td>\n",
       "      <td>0.726562</td>\n",
       "      <td>0.000000</td>\n",
       "      <td>0</td>\n",
       "      <td>0</td>\n",
       "      <td>1</td>\n",
       "      <td>0</td>\n",
       "      <td>1</td>\n",
       "      <td>0</td>\n",
       "      <td>0</td>\n",
       "      <td>1</td>\n",
       "      <td>0</td>\n",
       "      <td>1</td>\n",
       "      <td>0</td>\n",
       "      <td>0</td>\n",
       "      <td>0</td>\n",
       "      <td>1</td>\n",
       "    </tr>\n",
       "  </tbody>\n",
       "</table>\n",
       "<p>218 rows × 20 columns</p>\n",
       "</div>"
      ],
      "text/plain": [
       "          Age  RestingBP  Cholesterol  FastingBS     MaxHR   Oldpeak  \\\n",
       "0    0.488889   1.000000     0.228438          0  0.585938  0.322581   \n",
       "1    0.533333   1.000000     0.438228          1  0.515625  0.645161   \n",
       "2    0.711111   1.000000     0.232437          0  0.570312  0.161290   \n",
       "3    0.488889   0.918367     0.426573          0  1.000000  0.000000   \n",
       "4    0.688889   0.846939     0.232437          0  0.242188  0.000000   \n",
       "..        ...        ...          ...        ...       ...       ...   \n",
       "213  0.311111   0.132653     0.232437          0  0.359375  0.241935   \n",
       "214  0.666667   0.132653     0.232437          1  0.476562  0.403226   \n",
       "215  0.311111   0.081633     0.237762          0  0.648438  0.000000   \n",
       "216  0.355556   0.061224     0.146853          0  0.843750  0.322581   \n",
       "217  0.622222   0.000000     0.508159          0  0.726562  0.000000   \n",
       "\n",
       "     ChestPainType_ASY  ChestPainType_ATA  ChestPainType_NAP  \\\n",
       "0                    1                  0                  0   \n",
       "1                    1                  0                  0   \n",
       "2                    1                  0                  0   \n",
       "3                    0                  1                  0   \n",
       "4                    1                  0                  0   \n",
       "..                 ...                ...                ...   \n",
       "213                  1                  0                  0   \n",
       "214                  1                  0                  0   \n",
       "215                  1                  0                  0   \n",
       "216                  1                  0                  0   \n",
       "217                  0                  0                  1   \n",
       "\n",
       "     ChestPainType_TA  Sex_F  Sex_M  RestingECG_LVH  RestingECG_Normal  \\\n",
       "0                   0      0      1               0                  1   \n",
       "1                   0      1      0               1                  0   \n",
       "2                   0      1      0               0                  1   \n",
       "3                   0      0      1               1                  0   \n",
       "4                   0      0      1               0                  1   \n",
       "..                ...    ...    ...             ...                ...   \n",
       "213                 0      0      1               0                  1   \n",
       "214                 0      0      1               0                  1   \n",
       "215                 0      0      1               0                  1   \n",
       "216                 0      1      0               0                  1   \n",
       "217                 0      1      0               0                  1   \n",
       "\n",
       "     RestingECG_ST  ExerciseAngina_N  ExerciseAngina_Y  ST_Slope_Down  \\\n",
       "0                0                 0                 1              0   \n",
       "1                0                 0                 1              1   \n",
       "2                0                 0                 1              0   \n",
       "3                0                 1                 0              0   \n",
       "4                0                 0                 1              0   \n",
       "..             ...               ...               ...            ...   \n",
       "213              0                 0                 1              0   \n",
       "214              0                 0                 1              1   \n",
       "215              0                 0                 1              0   \n",
       "216              0                 1                 0              0   \n",
       "217              0                 1                 0              0   \n",
       "\n",
       "     ST_Slope_Flat  ST_Slope_Up  \n",
       "0                1            0  \n",
       "1                0            0  \n",
       "2                1            0  \n",
       "3                0            1  \n",
       "4                0            1  \n",
       "..             ...          ...  \n",
       "213              1            0  \n",
       "214              0            0  \n",
       "215              1            0  \n",
       "216              0            1  \n",
       "217              0            1  \n",
       "\n",
       "[218 rows x 20 columns]"
      ]
     },
     "execution_count": 13,
     "metadata": {},
     "output_type": "execute_result"
    }
   ],
   "source": [
    "X = Cleve_data.drop(['HeartDisease','Location'],axis=1)    # Predictor feature columns \n",
    "Y = Cleve_data['HeartDisease'].values   # Predicted class (1=True, 0=False)\n",
    "\n",
    "#Normalizing the quantitative columns in the data \n",
    "from sklearn.preprocessing import MinMaxScaler\n",
    "mms = MinMaxScaler()\n",
    "X[['Age','RestingBP','Cholesterol','MaxHR','Oldpeak']] = mms.fit_transform(X[['Age',\n",
    "                                                                              'RestingBP',\n",
    "                                                                              'Cholesterol',\n",
    "                                                                              'MaxHR',\n",
    "                                                                             'Oldpeak']])\n",
    "\n",
    "X"
   ]
  },
  {
   "cell_type": "code",
   "execution_count": 14,
   "metadata": {},
   "outputs": [
    {
     "name": "stderr",
     "output_type": "stream",
     "text": [
      "/Users/saim/miniforge3/envs/tfm1/lib/python3.9/site-packages/seaborn/_decorators.py:36: FutureWarning: Pass the following variable as a keyword arg: x. From version 0.12, the only valid positional argument will be `data`, and passing other arguments without an explicit keyword will result in an error or misinterpretation.\n",
      "  warnings.warn(\n"
     ]
    },
    {
     "data": {
      "text/plain": [
       "<AxesSubplot:ylabel='count'>"
      ]
     },
     "execution_count": 14,
     "metadata": {},
     "output_type": "execute_result"
    },
    {
     "data": {
      "image/png": "[encoded data removed]",
      "text/plain": [
       "<Figure size 432x288 with 1 Axes>"
      ]
     },
     "metadata": {
      "needs_background": "light"
     },
     "output_type": "display_data"
    }
   ],
   "source": [
    "no_hd=data_cleveland[data_cleveland['HeartDisease']==0]\n",
    "yes_hd=data_cleveland[data_cleveland['HeartDisease']== 1]\n",
    "data_cleveland['HeartDisease'].value_counts()\n",
    "\n",
    "sns.countplot(Y)"
   ]
  },
  {
   "cell_type": "code",
   "execution_count": 15,
   "metadata": {},
   "outputs": [],
   "source": [
    "#Handeling imbalances in dataset\n",
    "from imblearn.combine import SMOTETomek\n",
    "#Implementing oversampling for handeling imbalance\n",
    "smk = SMOTETomek(random_state = 42)\n",
    "X_res,y_res = smk.fit_resample(X,Y)"
   ]
  },
  {
   "cell_type": "code",
   "execution_count": 16,
   "metadata": {},
   "outputs": [
    {
     "name": "stdout",
     "output_type": "stream",
     "text": [
      "Original Dataset Shape Counter({1: 177, 0: 41})\n",
      "Resampled Dataset Shape Counter({1: 175, 0: 175})\n"
     ]
    },
    {
     "name": "stderr",
     "output_type": "stream",
     "text": [
      "/Users/saim/miniforge3/envs/tfm1/lib/python3.9/site-packages/seaborn/_decorators.py:36: FutureWarning: Pass the following variable as a keyword arg: x. From version 0.12, the only valid positional argument will be `data`, and passing other arguments without an explicit keyword will result in an error or misinterpretation.\n",
      "  warnings.warn(\n"
     ]
    },
    {
     "data": {
      "text/plain": [
       "<AxesSubplot:ylabel='count'>"
      ]
     },
     "execution_count": 16,
     "metadata": {},
     "output_type": "execute_result"
    },
    {
     "data": {
      "image/png": "[encoded data removed]",
      "text/plain": [
       "<Figure size 432x288 with 1 Axes>"
      ]
     },
     "metadata": {
      "needs_background": "light"
     },
     "output_type": "display_data"
    }
   ],
   "source": [
    "from collections import Counter\n",
    "print('Original Dataset Shape {}'.format(Counter(Y)))\n",
    "print('Resampled Dataset Shape {}'.format(Counter(y_res)))\n",
    "sns.countplot(y_res)"
   ]
  },
  {
   "cell_type": "markdown",
   "metadata": {},
   "source": []
  },
  {
   "cell_type": "markdown",
   "metadata": {},
   "source": [
    "Since Cholestrol Level Cannot be 0 we are replacing 0 with mean of the column 'Cholestrol'"
   ]
  },
  {
   "cell_type": "markdown",
   "metadata": {},
   "source": [
    "# LOGISTIC REGRESSION"
   ]
  },
  {
   "cell_type": "code",
   "execution_count": 17,
   "metadata": {},
   "outputs": [
    {
     "data": {
      "text/plain": [
       "Index(['Age', 'RestingBP', 'Cholesterol', 'FastingBS', 'MaxHR', 'Oldpeak',\n",
       "       'ChestPainType_ASY', 'ChestPainType_ATA', 'ChestPainType_NAP',\n",
       "       'ChestPainType_TA', 'Sex_F', 'Sex_M', 'RestingECG_LVH',\n",
       "       'RestingECG_Normal', 'RestingECG_ST', 'ExerciseAngina_N',\n",
       "       'ExerciseAngina_Y', 'ST_Slope_Down', 'ST_Slope_Flat', 'ST_Slope_Up'],\n",
       "      dtype='object')"
      ]
     },
     "execution_count": 17,
     "metadata": {},
     "output_type": "execute_result"
    }
   ],
   "source": [
    "columns = X_res.columns\n",
    "columns"
   ]
  },
  {
   "cell_type": "code",
   "execution_count": 18,
   "metadata": {},
   "outputs": [],
   "source": [
    "#Splitting Data for Training and Testing\n",
    "X_train, X_test, y_train, y_test  = train_test_split(X_res,y_res, \n",
    "                                                     train_size=0.7,\n",
    "                                                     test_size = 0.3, \n",
    "                                                     random_state = 55,\n",
    "                                                     stratify = y_res )\n",
    "\n"
   ]
  },
  {
   "cell_type": "code",
   "execution_count": 19,
   "metadata": {
    "scrolled": true
   },
   "outputs": [
    {
     "name": "stdout",
     "output_type": "stream",
     "text": [
      "(244, 20)\n",
      "(105, 20)\n",
      "(244,)\n",
      "(105,)\n"
     ]
    }
   ],
   "source": [
    "#Shapes of each split\n",
    "print(X_train.shape)\n",
    "print(X_test.shape)\n",
    "print(y_train.shape)\n",
    "print(y_test.shape)\n",
    "\n"
   ]
  },
  {
   "cell_type": "code",
   "execution_count": 20,
   "metadata": {},
   "outputs": [
    {
     "name": "stdout",
     "output_type": "stream",
     "text": [
      "Training accuracy is 0.9590163934426229\n"
     ]
    }
   ],
   "source": [
    "#Running Log model\n",
    "model = LogisticRegression(solver='liblinear', max_iter=1000)\n",
    "log_results=model.fit(X_train, y_train)\n",
    "\n",
    "#Train Accuracy\n",
    "print('Training accuracy is {}'.format(model.score(X_train,y_train)))\n",
    "#predict on training set\n",
    "y_pred_train = model.predict(X_train)\n",
    "#Predictions using test set\n",
    "y_pred = model.predict(X_test)"
   ]
  },
  {
   "cell_type": "markdown",
   "metadata": {},
   "source": [
    "Model Evaluation"
   ]
  },
  {
   "cell_type": "code",
   "execution_count": 21,
   "metadata": {},
   "outputs": [
    {
     "name": "stdout",
     "output_type": "stream",
     "text": [
      "Training Set accuracy is 0.9590163934426229\n",
      "Test Set accuracy is 0.9333333333333333\n",
      "              precision    recall  f1-score   support\n",
      "\n",
      "           0       0.93      0.94      0.93        53\n",
      "           1       0.94      0.92      0.93        52\n",
      "\n",
      "    accuracy                           0.93       105\n",
      "   macro avg       0.93      0.93      0.93       105\n",
      "weighted avg       0.93      0.93      0.93       105\n",
      "\n"
     ]
    },
    {
     "data": {
      "text/plain": [
       "array([1, 1, 1, 1, 0, 1, 1, 1, 0, 0, 1, 1, 0, 0, 1, 0, 0, 1, 1, 0, 0, 0,\n",
       "       0, 0, 0, 1, 0, 0, 1, 0, 1, 0, 0, 1, 1, 1, 0, 0, 1, 1, 0, 1, 0, 1,\n",
       "       0, 1, 0, 1, 0, 1, 0, 1, 1, 1, 1, 0, 1, 0, 0, 0, 1, 1, 0, 1, 0, 1,\n",
       "       0, 0, 0, 0, 0, 0, 0, 0, 1, 1, 0, 1, 1, 0, 1, 1, 1, 1, 0, 1, 1, 1,\n",
       "       0, 0, 0, 0, 0, 0, 0, 0, 0, 1, 1, 1, 0, 1, 1, 0, 1])"
      ]
     },
     "execution_count": 21,
     "metadata": {},
     "output_type": "execute_result"
    }
   ],
   "source": [
    "#Accuracy Score Training Set\n",
    "print('Training Set accuracy is {}'.format(model.score(X_train,y_train)))\n",
    "# Accuracy of test set\n",
    "print('Test Set accuracy is {}'.format(model.score(X_test,y_test)))\n",
    "\n",
    "#Classification Report\n",
    "print(classification_report(y_test,y_pred))\n",
    "\n",
    "y_pred\n",
    "\n",
    "#Model Gives us very good precision and recall as well, Our focus here is Recall"
   ]
  },
  {
   "cell_type": "code",
   "execution_count": 22,
   "metadata": {},
   "outputs": [
    {
     "data": {
      "text/plain": [
       "array([[ 0.52752086,  0.77802667, -0.59246948,  0.98099281, -0.88146428,\n",
       "         0.81906091,  1.46277659,  0.01497974, -0.15872057, -0.05906411,\n",
       "        -0.80802358,  0.54852617,  0.68863494, -0.53204601,  1.33944281,\n",
       "        -0.60117076,  1.44798099,  0.30495089,  1.73024704, -1.4487808 ]])"
      ]
     },
     "execution_count": 22,
     "metadata": {},
     "output_type": "execute_result"
    }
   ],
   "source": [
    "model.coef_"
   ]
  },
  {
   "cell_type": "code",
   "execution_count": 23,
   "metadata": {},
   "outputs": [],
   "source": [
    "#Confusion Matrix\n",
    "def plot_confusion_matrix(cm, classes=None, title='Confusion matrix'):\n",
    "    \"\"\"Plots a confusion matrix.\"\"\"\n",
    "    if classes is not None:\n",
    "        sns.heatmap(cm, cmap=\"YlGnBu\", xticklabels=classes, yticklabels=classes, vmin=0., vmax=1., annot=True, annot_kws={'size':50})\n",
    "    else:\n",
    "        sns.heatmap(cm, vmin=0., vmax=1.)\n",
    "    plt.title(title)\n",
    "    plt.ylabel('True label')\n",
    "    plt.xlabel('Predicted label')"
   ]
  },
  {
   "cell_type": "code",
   "execution_count": 24,
   "metadata": {},
   "outputs": [
    {
     "data": {
      "image/png": "[encoded data removed]",
      "text/plain": [
       "<Figure size 432x288 with 2 Axes>"
      ]
     },
     "metadata": {
      "needs_background": "light"
     },
     "output_type": "display_data"
    }
   ],
   "source": [
    "lr_cm = confusion_matrix(y_test,y_pred)\n",
    "lrcm_norm = lr_cm/lr_cm.sum(axis=1).reshape(-1,1)\n",
    "plot_confusion_matrix(lrcm_norm,model.classes_)"
   ]
  },
  {
   "cell_type": "code",
   "execution_count": 25,
   "metadata": {},
   "outputs": [],
   "source": [
    "# def get_feature_importance(model,feature_names):\n",
    "#     feature_importance = (\n",
    "#     pd.DataFrame({\n",
    "#             'variable':columns,\n",
    "#             'coefficient':model.coef_[0]\n",
    "#                 }\n",
    "#                 )\n",
    "#     .round(decimals=4)\\\n",
    "#     .sort_values('coefficient',ascending = False).reset_index(drop = True)\\\n",
    "#     .style.bar(color=['red','green'],align='zero')\\\n",
    "#     )\n",
    "#     return feature_importance\n",
    "# get_feature_importance(model,feature)"
   ]
  },
  {
   "cell_type": "code",
   "execution_count": 26,
   "metadata": {},
   "outputs": [],
   "source": [
    "my_dict = dict(zip(columns,model.coef_[0]))"
   ]
  },
  {
   "cell_type": "code",
   "execution_count": 27,
   "metadata": {},
   "outputs": [],
   "source": [
    "all_features = pd.DataFrame({'variable':columns,'coefficient':model.coef_[0]}).round(decimals=4)\\\n",
    ".sort_values('coefficient',ascending = False).reset_index(drop=True)\n",
    "#.set_index('variable')\\\n",
    "\n",
    "#"
   ]
  },
  {
   "cell_type": "code",
   "execution_count": 28,
   "metadata": {},
   "outputs": [
    {
     "data": {
      "text/plain": [
       "array([[50,  3],\n",
       "       [ 4, 48]])"
      ]
     },
     "execution_count": 28,
     "metadata": {},
     "output_type": "execute_result"
    }
   ],
   "source": [
    "confusion_matrix(y_test,y_pred)\n"
   ]
  },
  {
   "cell_type": "code",
   "execution_count": 29,
   "metadata": {
    "scrolled": true
   },
   "outputs": [
    {
     "data": {
      "text/html": [
       "<style type=\"text/css\">\n",
       "#T_f759c_row0_col1 {\n",
       "  width: 10em;\n",
       "  background: linear-gradient(90deg, transparent 50.0%, green 50.0%, green 100.0%, transparent 100.0%);\n",
       "}\n",
       "#T_f759c_row1_col1 {\n",
       "  width: 10em;\n",
       "  background: linear-gradient(90deg, transparent 50.0%, green 50.0%, green 92.3%, transparent 92.3%);\n",
       "}\n",
       "#T_f759c_row2_col1 {\n",
       "  width: 10em;\n",
       "  background: linear-gradient(90deg, transparent 50.0%, green 50.0%, green 91.8%, transparent 91.8%);\n",
       "}\n",
       "#T_f759c_row3_col1 {\n",
       "  width: 10em;\n",
       "  background: linear-gradient(90deg, transparent 50.0%, green 50.0%, green 88.7%, transparent 88.7%);\n",
       "}\n",
       "#T_f759c_row4_col1 {\n",
       "  width: 10em;\n",
       "  background: linear-gradient(90deg, transparent 50.0%, green 50.0%, green 78.3%, transparent 78.3%);\n",
       "}\n",
       "#T_f759c_row5_col1 {\n",
       "  width: 10em;\n",
       "  background: linear-gradient(90deg, transparent 50.0%, green 50.0%, green 73.7%, transparent 73.7%);\n",
       "}\n",
       "#T_f759c_row6_col1 {\n",
       "  width: 10em;\n",
       "  background: linear-gradient(90deg, transparent 50.0%, green 50.0%, green 72.5%, transparent 72.5%);\n",
       "}\n",
       "#T_f759c_row7_col1 {\n",
       "  width: 10em;\n",
       "  background: linear-gradient(90deg, transparent 50.0%, green 50.0%, green 69.9%, transparent 69.9%);\n",
       "}\n",
       "#T_f759c_row8_col1 {\n",
       "  width: 10em;\n",
       "  background: linear-gradient(90deg, transparent 50.0%, green 50.0%, green 65.9%, transparent 65.9%);\n",
       "}\n",
       "#T_f759c_row9_col1 {\n",
       "  width: 10em;\n",
       "  background: linear-gradient(90deg, transparent 50.0%, green 50.0%, green 65.2%, transparent 65.2%);\n",
       "}\n",
       "#T_f759c_row10_col1 {\n",
       "  width: 10em;\n",
       "  background: linear-gradient(90deg, transparent 50.0%, green 50.0%, green 58.8%, transparent 58.8%);\n",
       "}\n",
       "#T_f759c_row11_col1 {\n",
       "  width: 10em;\n",
       "  background: linear-gradient(90deg, transparent 50.0%, green 50.0%, green 50.4%, transparent 50.4%);\n",
       "}\n",
       "#T_f759c_row12_col1 {\n",
       "  width: 10em;\n",
       "  background: linear-gradient(90deg, transparent 48.3%, red 48.3%, red 50.0%, transparent 50.0%);\n",
       "}\n",
       "#T_f759c_row13_col1 {\n",
       "  width: 10em;\n",
       "  background: linear-gradient(90deg, transparent 45.4%, red 45.4%, red 50.0%, transparent 50.0%);\n",
       "}\n",
       "#T_f759c_row14_col1 {\n",
       "  width: 10em;\n",
       "  background: linear-gradient(90deg, transparent 34.6%, red 34.6%, red 50.0%, transparent 50.0%);\n",
       "}\n",
       "#T_f759c_row15_col1 {\n",
       "  width: 10em;\n",
       "  background: linear-gradient(90deg, transparent 32.9%, red 32.9%, red 50.0%, transparent 50.0%);\n",
       "}\n",
       "#T_f759c_row16_col1 {\n",
       "  width: 10em;\n",
       "  background: linear-gradient(90deg, transparent 32.6%, red 32.6%, red 50.0%, transparent 50.0%);\n",
       "}\n",
       "#T_f759c_row17_col1 {\n",
       "  width: 10em;\n",
       "  background: linear-gradient(90deg, transparent 26.7%, red 26.7%, red 50.0%, transparent 50.0%);\n",
       "}\n",
       "#T_f759c_row18_col1 {\n",
       "  width: 10em;\n",
       "  background: linear-gradient(90deg, transparent 24.5%, red 24.5%, red 50.0%, transparent 50.0%);\n",
       "}\n",
       "#T_f759c_row19_col1 {\n",
       "  width: 10em;\n",
       "  background: linear-gradient(90deg, transparent 8.1%, red 8.1%, red 50.0%, transparent 50.0%);\n",
       "}\n",
       "</style>\n",
       "<table id=\"T_f759c\">\n",
       "  <thead>\n",
       "    <tr>\n",
       "      <th class=\"blank level0\" >&nbsp;</th>\n",
       "      <th id=\"T_f759c_level0_col0\" class=\"col_heading level0 col0\" >variable</th>\n",
       "      <th id=\"T_f759c_level0_col1\" class=\"col_heading level0 col1\" >coefficient</th>\n",
       "    </tr>\n",
       "  </thead>\n",
       "  <tbody>\n",
       "    <tr>\n",
       "      <th id=\"T_f759c_level0_row0\" class=\"row_heading level0 row0\" >0</th>\n",
       "      <td id=\"T_f759c_row0_col0\" class=\"data row0 col0\" >ST_Slope_Flat</td>\n",
       "      <td id=\"T_f759c_row0_col1\" class=\"data row0 col1\" >1.730200</td>\n",
       "    </tr>\n",
       "    <tr>\n",
       "      <th id=\"T_f759c_level0_row1\" class=\"row_heading level0 row1\" >1</th>\n",
       "      <td id=\"T_f759c_row1_col0\" class=\"data row1 col0\" >ChestPainType_ASY</td>\n",
       "      <td id=\"T_f759c_row1_col1\" class=\"data row1 col1\" >1.462800</td>\n",
       "    </tr>\n",
       "    <tr>\n",
       "      <th id=\"T_f759c_level0_row2\" class=\"row_heading level0 row2\" >2</th>\n",
       "      <td id=\"T_f759c_row2_col0\" class=\"data row2 col0\" >ExerciseAngina_Y</td>\n",
       "      <td id=\"T_f759c_row2_col1\" class=\"data row2 col1\" >1.448000</td>\n",
       "    </tr>\n",
       "    <tr>\n",
       "      <th id=\"T_f759c_level0_row3\" class=\"row_heading level0 row3\" >3</th>\n",
       "      <td id=\"T_f759c_row3_col0\" class=\"data row3 col0\" >RestingECG_ST</td>\n",
       "      <td id=\"T_f759c_row3_col1\" class=\"data row3 col1\" >1.339400</td>\n",
       "    </tr>\n",
       "    <tr>\n",
       "      <th id=\"T_f759c_level0_row4\" class=\"row_heading level0 row4\" >4</th>\n",
       "      <td id=\"T_f759c_row4_col0\" class=\"data row4 col0\" >FastingBS</td>\n",
       "      <td id=\"T_f759c_row4_col1\" class=\"data row4 col1\" >0.981000</td>\n",
       "    </tr>\n",
       "    <tr>\n",
       "      <th id=\"T_f759c_level0_row5\" class=\"row_heading level0 row5\" >5</th>\n",
       "      <td id=\"T_f759c_row5_col0\" class=\"data row5 col0\" >Oldpeak</td>\n",
       "      <td id=\"T_f759c_row5_col1\" class=\"data row5 col1\" >0.819100</td>\n",
       "    </tr>\n",
       "    <tr>\n",
       "      <th id=\"T_f759c_level0_row6\" class=\"row_heading level0 row6\" >6</th>\n",
       "      <td id=\"T_f759c_row6_col0\" class=\"data row6 col0\" >RestingBP</td>\n",
       "      <td id=\"T_f759c_row6_col1\" class=\"data row6 col1\" >0.778000</td>\n",
       "    </tr>\n",
       "    <tr>\n",
       "      <th id=\"T_f759c_level0_row7\" class=\"row_heading level0 row7\" >7</th>\n",
       "      <td id=\"T_f759c_row7_col0\" class=\"data row7 col0\" >RestingECG_LVH</td>\n",
       "      <td id=\"T_f759c_row7_col1\" class=\"data row7 col1\" >0.688600</td>\n",
       "    </tr>\n",
       "    <tr>\n",
       "      <th id=\"T_f759c_level0_row8\" class=\"row_heading level0 row8\" >8</th>\n",
       "      <td id=\"T_f759c_row8_col0\" class=\"data row8 col0\" >Sex_M</td>\n",
       "      <td id=\"T_f759c_row8_col1\" class=\"data row8 col1\" >0.548500</td>\n",
       "    </tr>\n",
       "    <tr>\n",
       "      <th id=\"T_f759c_level0_row9\" class=\"row_heading level0 row9\" >9</th>\n",
       "      <td id=\"T_f759c_row9_col0\" class=\"data row9 col0\" >Age</td>\n",
       "      <td id=\"T_f759c_row9_col1\" class=\"data row9 col1\" >0.527500</td>\n",
       "    </tr>\n",
       "    <tr>\n",
       "      <th id=\"T_f759c_level0_row10\" class=\"row_heading level0 row10\" >10</th>\n",
       "      <td id=\"T_f759c_row10_col0\" class=\"data row10 col0\" >ST_Slope_Down</td>\n",
       "      <td id=\"T_f759c_row10_col1\" class=\"data row10 col1\" >0.305000</td>\n",
       "    </tr>\n",
       "    <tr>\n",
       "      <th id=\"T_f759c_level0_row11\" class=\"row_heading level0 row11\" >11</th>\n",
       "      <td id=\"T_f759c_row11_col0\" class=\"data row11 col0\" >ChestPainType_ATA</td>\n",
       "      <td id=\"T_f759c_row11_col1\" class=\"data row11 col1\" >0.015000</td>\n",
       "    </tr>\n",
       "    <tr>\n",
       "      <th id=\"T_f759c_level0_row12\" class=\"row_heading level0 row12\" >12</th>\n",
       "      <td id=\"T_f759c_row12_col0\" class=\"data row12 col0\" >ChestPainType_TA</td>\n",
       "      <td id=\"T_f759c_row12_col1\" class=\"data row12 col1\" >-0.059100</td>\n",
       "    </tr>\n",
       "    <tr>\n",
       "      <th id=\"T_f759c_level0_row13\" class=\"row_heading level0 row13\" >13</th>\n",
       "      <td id=\"T_f759c_row13_col0\" class=\"data row13 col0\" >ChestPainType_NAP</td>\n",
       "      <td id=\"T_f759c_row13_col1\" class=\"data row13 col1\" >-0.158700</td>\n",
       "    </tr>\n",
       "    <tr>\n",
       "      <th id=\"T_f759c_level0_row14\" class=\"row_heading level0 row14\" >14</th>\n",
       "      <td id=\"T_f759c_row14_col0\" class=\"data row14 col0\" >RestingECG_Normal</td>\n",
       "      <td id=\"T_f759c_row14_col1\" class=\"data row14 col1\" >-0.532000</td>\n",
       "    </tr>\n",
       "    <tr>\n",
       "      <th id=\"T_f759c_level0_row15\" class=\"row_heading level0 row15\" >15</th>\n",
       "      <td id=\"T_f759c_row15_col0\" class=\"data row15 col0\" >Cholesterol</td>\n",
       "      <td id=\"T_f759c_row15_col1\" class=\"data row15 col1\" >-0.592500</td>\n",
       "    </tr>\n",
       "    <tr>\n",
       "      <th id=\"T_f759c_level0_row16\" class=\"row_heading level0 row16\" >16</th>\n",
       "      <td id=\"T_f759c_row16_col0\" class=\"data row16 col0\" >ExerciseAngina_N</td>\n",
       "      <td id=\"T_f759c_row16_col1\" class=\"data row16 col1\" >-0.601200</td>\n",
       "    </tr>\n",
       "    <tr>\n",
       "      <th id=\"T_f759c_level0_row17\" class=\"row_heading level0 row17\" >17</th>\n",
       "      <td id=\"T_f759c_row17_col0\" class=\"data row17 col0\" >Sex_F</td>\n",
       "      <td id=\"T_f759c_row17_col1\" class=\"data row17 col1\" >-0.808000</td>\n",
       "    </tr>\n",
       "    <tr>\n",
       "      <th id=\"T_f759c_level0_row18\" class=\"row_heading level0 row18\" >18</th>\n",
       "      <td id=\"T_f759c_row18_col0\" class=\"data row18 col0\" >MaxHR</td>\n",
       "      <td id=\"T_f759c_row18_col1\" class=\"data row18 col1\" >-0.881500</td>\n",
       "    </tr>\n",
       "    <tr>\n",
       "      <th id=\"T_f759c_level0_row19\" class=\"row_heading level0 row19\" >19</th>\n",
       "      <td id=\"T_f759c_row19_col0\" class=\"data row19 col0\" >ST_Slope_Up</td>\n",
       "      <td id=\"T_f759c_row19_col1\" class=\"data row19 col1\" >-1.448800</td>\n",
       "    </tr>\n",
       "  </tbody>\n",
       "</table>\n"
      ],
      "text/plain": [
       "<pandas.io.formats.style.Styler at 0x14ac834f0>"
      ]
     },
     "execution_count": 29,
     "metadata": {},
     "output_type": "execute_result"
    }
   ],
   "source": [
    "all_features.style.bar(color=['red','green'],align='zero')"
   ]
  },
  {
   "cell_type": "code",
   "execution_count": 30,
   "metadata": {},
   "outputs": [
    {
     "data": {
      "text/html": [
       "<table class=\"simpletable\">\n",
       "<caption>OLS Regression Results</caption>\n",
       "<tr>\n",
       "  <th>Dep. Variable:</th>            <td>y</td>        <th>  R-squared (uncentered):</th>      <td>   0.885</td> \n",
       "</tr>\n",
       "<tr>\n",
       "  <th>Model:</th>                   <td>OLS</td>       <th>  Adj. R-squared (uncentered):</th> <td>   0.878</td> \n",
       "</tr>\n",
       "<tr>\n",
       "  <th>Method:</th>             <td>Least Squares</td>  <th>  F-statistic:       </th>          <td>   126.4</td> \n",
       "</tr>\n",
       "<tr>\n",
       "  <th>Date:</th>             <td>Sun, 10 Apr 2022</td> <th>  Prob (F-statistic):</th>          <td>2.10e-141</td>\n",
       "</tr>\n",
       "<tr>\n",
       "  <th>Time:</th>                 <td>16:46:34</td>     <th>  Log-Likelihood:    </th>          <td>  2.5057</td> \n",
       "</tr>\n",
       "<tr>\n",
       "  <th>No. Observations:</th>      <td>   350</td>      <th>  AIC:               </th>          <td>   34.99</td> \n",
       "</tr>\n",
       "<tr>\n",
       "  <th>Df Residuals:</th>          <td>   330</td>      <th>  BIC:               </th>          <td>   112.1</td> \n",
       "</tr>\n",
       "<tr>\n",
       "  <th>Df Model:</th>              <td>    20</td>      <th>                     </th>              <td> </td>    \n",
       "</tr>\n",
       "<tr>\n",
       "  <th>Covariance Type:</th>      <td>nonrobust</td>    <th>                     </th>              <td> </td>    \n",
       "</tr>\n",
       "</table>\n",
       "<table class=\"simpletable\">\n",
       "<tr>\n",
       "          <td></td>             <th>coef</th>     <th>std err</th>      <th>t</th>      <th>P>|t|</th>  <th>[0.025</th>    <th>0.975]</th>  \n",
       "</tr>\n",
       "<tr>\n",
       "  <th>Age</th>               <td>    0.0792</td> <td>    0.079</td> <td>    1.000</td> <td> 0.318</td> <td>   -0.077</td> <td>    0.235</td>\n",
       "</tr>\n",
       "<tr>\n",
       "  <th>RestingBP</th>         <td>    0.1797</td> <td>    0.088</td> <td>    2.034</td> <td> 0.043</td> <td>    0.006</td> <td>    0.353</td>\n",
       "</tr>\n",
       "<tr>\n",
       "  <th>Cholesterol</th>       <td>   -0.0743</td> <td>    0.109</td> <td>   -0.681</td> <td> 0.496</td> <td>   -0.289</td> <td>    0.140</td>\n",
       "</tr>\n",
       "<tr>\n",
       "  <th>FastingBS</th>         <td>    0.1418</td> <td>    0.040</td> <td>    3.577</td> <td> 0.000</td> <td>    0.064</td> <td>    0.220</td>\n",
       "</tr>\n",
       "<tr>\n",
       "  <th>MaxHR</th>             <td>   -0.0917</td> <td>    0.083</td> <td>   -1.110</td> <td> 0.268</td> <td>   -0.254</td> <td>    0.071</td>\n",
       "</tr>\n",
       "<tr>\n",
       "  <th>Oldpeak</th>           <td>    0.2056</td> <td>    0.102</td> <td>    2.015</td> <td> 0.045</td> <td>    0.005</td> <td>    0.406</td>\n",
       "</tr>\n",
       "<tr>\n",
       "  <th>ChestPainType_ASY</th> <td>    0.1297</td> <td>    0.054</td> <td>    2.411</td> <td> 0.016</td> <td>    0.024</td> <td>    0.235</td>\n",
       "</tr>\n",
       "<tr>\n",
       "  <th>ChestPainType_ATA</th> <td>    0.0085</td> <td>    0.062</td> <td>    0.138</td> <td> 0.890</td> <td>   -0.113</td> <td>    0.130</td>\n",
       "</tr>\n",
       "<tr>\n",
       "  <th>ChestPainType_NAP</th> <td>    0.0703</td> <td>    0.053</td> <td>    1.334</td> <td> 0.183</td> <td>   -0.033</td> <td>    0.174</td>\n",
       "</tr>\n",
       "<tr>\n",
       "  <th>ChestPainType_TA</th>  <td>    0.0376</td> <td>    0.097</td> <td>    0.389</td> <td> 0.698</td> <td>   -0.152</td> <td>    0.228</td>\n",
       "</tr>\n",
       "<tr>\n",
       "  <th>Sex_F</th>             <td>   -0.1461</td> <td>    0.081</td> <td>   -1.803</td> <td> 0.072</td> <td>   -0.306</td> <td>    0.013</td>\n",
       "</tr>\n",
       "<tr>\n",
       "  <th>Sex_M</th>             <td>   -0.0120</td> <td>    0.080</td> <td>   -0.150</td> <td> 0.880</td> <td>   -0.169</td> <td>    0.145</td>\n",
       "</tr>\n",
       "<tr>\n",
       "  <th>RestingECG_LVH</th>    <td>    0.1544</td> <td>    0.058</td> <td>    2.657</td> <td> 0.008</td> <td>    0.040</td> <td>    0.269</td>\n",
       "</tr>\n",
       "<tr>\n",
       "  <th>RestingECG_Normal</th> <td>    0.0240</td> <td>    0.051</td> <td>    0.469</td> <td> 0.639</td> <td>   -0.077</td> <td>    0.125</td>\n",
       "</tr>\n",
       "<tr>\n",
       "  <th>RestingECG_ST</th>     <td>    0.1443</td> <td>    0.065</td> <td>    2.217</td> <td> 0.027</td> <td>    0.016</td> <td>    0.272</td>\n",
       "</tr>\n",
       "<tr>\n",
       "  <th>ExerciseAngina_N</th>  <td>    0.0399</td> <td>    0.070</td> <td>    0.572</td> <td> 0.567</td> <td>   -0.097</td> <td>    0.177</td>\n",
       "</tr>\n",
       "<tr>\n",
       "  <th>ExerciseAngina_Y</th>  <td>    0.2952</td> <td>    0.078</td> <td>    3.786</td> <td> 0.000</td> <td>    0.142</td> <td>    0.449</td>\n",
       "</tr>\n",
       "<tr>\n",
       "  <th>ST_Slope_Down</th>     <td>    0.2984</td> <td>    0.095</td> <td>    3.147</td> <td> 0.002</td> <td>    0.112</td> <td>    0.485</td>\n",
       "</tr>\n",
       "<tr>\n",
       "  <th>ST_Slope_Flat</th>     <td>    0.3972</td> <td>    0.070</td> <td>    5.697</td> <td> 0.000</td> <td>    0.260</td> <td>    0.534</td>\n",
       "</tr>\n",
       "<tr>\n",
       "  <th>ST_Slope_Up</th>       <td>   -0.0131</td> <td>    0.069</td> <td>   -0.190</td> <td> 0.849</td> <td>   -0.148</td> <td>    0.122</td>\n",
       "</tr>\n",
       "</table>\n",
       "<table class=\"simpletable\">\n",
       "<tr>\n",
       "  <th>Omnibus:</th>       <td>38.580</td> <th>  Durbin-Watson:     </th> <td>   1.793</td>\n",
       "</tr>\n",
       "<tr>\n",
       "  <th>Prob(Omnibus):</th> <td> 0.000</td> <th>  Jarque-Bera (JB):  </th> <td>  97.388</td>\n",
       "</tr>\n",
       "<tr>\n",
       "  <th>Skew:</th>          <td> 0.529</td> <th>  Prob(JB):          </th> <td>7.12e-22</td>\n",
       "</tr>\n",
       "<tr>\n",
       "  <th>Kurtosis:</th>      <td> 5.358</td> <th>  Cond. No.          </th> <td>    18.8</td>\n",
       "</tr>\n",
       "</table><br/><br/>Notes:<br/>[1] R² is computed without centering (uncentered) since the model does not contain a constant.<br/>[2] Standard Errors assume that the covariance matrix of the errors is correctly specified."
      ],
      "text/plain": [
       "<class 'statsmodels.iolib.summary.Summary'>\n",
       "\"\"\"\n",
       "                                 OLS Regression Results                                \n",
       "=======================================================================================\n",
       "Dep. Variable:                      y   R-squared (uncentered):                   0.885\n",
       "Model:                            OLS   Adj. R-squared (uncentered):              0.878\n",
       "Method:                 Least Squares   F-statistic:                              126.4\n",
       "Date:                Sun, 10 Apr 2022   Prob (F-statistic):                   2.10e-141\n",
       "Time:                        16:46:34   Log-Likelihood:                          2.5057\n",
       "No. Observations:                 350   AIC:                                      34.99\n",
       "Df Residuals:                     330   BIC:                                      112.1\n",
       "Df Model:                          20                                                  \n",
       "Covariance Type:            nonrobust                                                  \n",
       "=====================================================================================\n",
       "                        coef    std err          t      P>|t|      [0.025      0.975]\n",
       "-------------------------------------------------------------------------------------\n",
       "Age                   0.0792      0.079      1.000      0.318      -0.077       0.235\n",
       "RestingBP             0.1797      0.088      2.034      0.043       0.006       0.353\n",
       "Cholesterol          -0.0743      0.109     -0.681      0.496      -0.289       0.140\n",
       "FastingBS             0.1418      0.040      3.577      0.000       0.064       0.220\n",
       "MaxHR                -0.0917      0.083     -1.110      0.268      -0.254       0.071\n",
       "Oldpeak               0.2056      0.102      2.015      0.045       0.005       0.406\n",
       "ChestPainType_ASY     0.1297      0.054      2.411      0.016       0.024       0.235\n",
       "ChestPainType_ATA     0.0085      0.062      0.138      0.890      -0.113       0.130\n",
       "ChestPainType_NAP     0.0703      0.053      1.334      0.183      -0.033       0.174\n",
       "ChestPainType_TA      0.0376      0.097      0.389      0.698      -0.152       0.228\n",
       "Sex_F                -0.1461      0.081     -1.803      0.072      -0.306       0.013\n",
       "Sex_M                -0.0120      0.080     -0.150      0.880      -0.169       0.145\n",
       "RestingECG_LVH        0.1544      0.058      2.657      0.008       0.040       0.269\n",
       "RestingECG_Normal     0.0240      0.051      0.469      0.639      -0.077       0.125\n",
       "RestingECG_ST         0.1443      0.065      2.217      0.027       0.016       0.272\n",
       "ExerciseAngina_N      0.0399      0.070      0.572      0.567      -0.097       0.177\n",
       "ExerciseAngina_Y      0.2952      0.078      3.786      0.000       0.142       0.449\n",
       "ST_Slope_Down         0.2984      0.095      3.147      0.002       0.112       0.485\n",
       "ST_Slope_Flat         0.3972      0.070      5.697      0.000       0.260       0.534\n",
       "ST_Slope_Up          -0.0131      0.069     -0.190      0.849      -0.148       0.122\n",
       "==============================================================================\n",
       "Omnibus:                       38.580   Durbin-Watson:                   1.793\n",
       "Prob(Omnibus):                  0.000   Jarque-Bera (JB):               97.388\n",
       "Skew:                           0.529   Prob(JB):                     7.12e-22\n",
       "Kurtosis:                       5.358   Cond. No.                         18.8\n",
       "==============================================================================\n",
       "\n",
       "Notes:\n",
       "[1] R² is computed without centering (uncentered) since the model does not contain a constant.\n",
       "[2] Standard Errors assume that the covariance matrix of the errors is correctly specified.\n",
       "\"\"\""
      ]
     },
     "execution_count": 30,
     "metadata": {},
     "output_type": "execute_result"
    }
   ],
   "source": [
    "import statsmodels.api as sm\n",
    "stats_mod = sm.OLS(y_res,X_res).fit()\n",
    "stats_mod.summary()"
   ]
  },
  {
   "cell_type": "code",
   "execution_count": 31,
   "metadata": {},
   "outputs": [],
   "source": [
    "# selected_features = all_features.drop([12,13,14,15])"
   ]
  },
  {
   "cell_type": "code",
   "execution_count": 32,
   "metadata": {},
   "outputs": [],
   "source": [
    "# selected_features = selected_features.reset_index(drop=True)"
   ]
  },
  {
   "cell_type": "code",
   "execution_count": 36,
   "metadata": {},
   "outputs": [],
   "source": [
    "# filtered= []\n",
    "# for i in selected_features['variable']:\n",
    "#     filtered.append(i)"
   ]
  },
  {
   "cell_type": "code",
   "execution_count": 34,
   "metadata": {},
   "outputs": [],
   "source": [
    "# #LOG REG WITH SELECTED FEATURES\n",
    "# X_lg_1 = Cleve_data[filtered]\n",
    "# X_new_1,y_new_1 = smk.fit_resample(X_lg_1,Y_logreg)\n",
    "# X_train_1,X_test_1,y_train_1,y_test_1 = train_test_split(X_new_1,y_new_1, train_size=0.7,test_size = 0.3, random_state = 55,stratify = y_new_1)\n",
    "# #Validation split\n",
    "# X_train_1,X_valid_1,y_train_1,y_valid_1 = train_test_split(X_train_1,y_train_1,train_size = 0.80 , test_size = 0.2,random_state=55,stratify=y_train_1)\n",
    "# model.fit(X_train_1, y_train_1)\n",
    "# y_pred_1 = model.predict(X_test_1)\n"
   ]
  },
  {
   "cell_type": "code",
   "execution_count": 37,
   "metadata": {},
   "outputs": [],
   "source": [
    "# #Accuracy Score Training Set\n",
    "# print('Training Set accuracy is {}'.format(model.score(X_train_1,y_train_1)))\n",
    "# # Accuracy of test set\n",
    "# print('Test Set accuracy is {}'.format(model.score(X_test_1,y_test_1)))\n",
    "\n",
    "# #Classification Report\n",
    "# print(classification_report(y_test_1,y_pred_1))\n",
    "\n",
    "# y_pred\n",
    "# predict_proba_1 = model.predict_proba(X_test_1)"
   ]
  },
  {
   "cell_type": "code",
   "execution_count": 38,
   "metadata": {},
   "outputs": [],
   "source": [
    "# new_scores = pd.DataFrame({'variable':filtered,'coefs':model.coef_[0]}).round(decimals=4)\\\n",
    "# .sort_values('coefs',ascending = False).reset_index(drop=True)\\\n",
    "# .style.bar(color=['red','green'],align='zero')\n",
    "\n",
    "# new_scores "
   ]
  },
  {
   "cell_type": "markdown",
   "metadata": {},
   "source": [
    "EVALUATION METRIC 2 - CONFUSION MATRIX"
   ]
  },
  {
   "cell_type": "code",
   "execution_count": 39,
   "metadata": {},
   "outputs": [],
   "source": [
    "# #Visualizing CM\n",
    "# cm = confusion_matrix(y_test_1,y_pred_1)\n",
    "# print(cm)\n",
    "# # interms of percentage\n",
    "# cm_norm = cm/cm.sum(axis=1).reshape(-1,1)\n",
    "# cm_norm"
   ]
  },
  {
   "cell_type": "code",
   "execution_count": null,
   "metadata": {},
   "outputs": [],
   "source": [
    "# plot_confusion_matrix(cm_norm,model.classes_)"
   ]
  },
  {
   "cell_type": "markdown",
   "metadata": {},
   "source": []
  },
  {
   "cell_type": "markdown",
   "metadata": {},
   "source": [
    "# CLASSIFICATION TREES"
   ]
  },
  {
   "cell_type": "markdown",
   "metadata": {},
   "source": []
  },
  {
   "cell_type": "code",
   "execution_count": 40,
   "metadata": {},
   "outputs": [],
   "source": [
    "params = {\n",
    "    'criterion':['gini','entropy'],\n",
    "    'max_depth':[1,2,3,4,5,6,7,8,9,10,11,12,13,None],\n",
    "    'min_samples_split':[0.1,0.2,0.3],\n",
    "    'min_samples_leaf':[1,2,3,4,5],\n",
    "    'max_features':['auto','sqrt','log2',None],\n",
    "    'splitter':['best','random']\n",
    "    \n",
    "}"
   ]
  },
  {
   "cell_type": "code",
   "execution_count": 41,
   "metadata": {},
   "outputs": [],
   "source": [
    "#Choosing best params using GridSearchCV\n",
    "clf = GridSearchCV(DecisionTreeClassifier(random_state=0),param_grid=params,cv=8,n_jobs=-1)"
   ]
  },
  {
   "cell_type": "code",
   "execution_count": 42,
   "metadata": {
    "scrolled": true
   },
   "outputs": [
    {
     "data": {
      "text/plain": [
       "GridSearchCV(cv=8, estimator=DecisionTreeClassifier(random_state=0), n_jobs=-1,\n",
       "             param_grid={'criterion': ['gini', 'entropy'],\n",
       "                         'max_depth': [1, 2, 3, 4, 5, 6, 7, 8, 9, 10, 11, 12,\n",
       "                                       13, None],\n",
       "                         'max_features': ['auto', 'sqrt', 'log2', None],\n",
       "                         'min_samples_leaf': [1, 2, 3, 4, 5],\n",
       "                         'min_samples_split': [0.1, 0.2, 0.3],\n",
       "                         'splitter': ['best', 'random']})"
      ]
     },
     "execution_count": 42,
     "metadata": {},
     "output_type": "execute_result"
    }
   ],
   "source": [
    "clf.fit(X_train,y_train)"
   ]
  },
  {
   "cell_type": "code",
   "execution_count": 43,
   "metadata": {},
   "outputs": [
    {
     "name": "stdout",
     "output_type": "stream",
     "text": [
      "DecisionTreeClassifier(criterion='entropy', max_depth=3, min_samples_split=0.1,\n",
      "                       random_state=0, splitter='random')\n"
     ]
    }
   ],
   "source": [
    "x = clf.best_estimator_\n",
    "print(x)"
   ]
  },
  {
   "cell_type": "code",
   "execution_count": 44,
   "metadata": {},
   "outputs": [],
   "source": [
    "dt = x\n",
    "dt.fit(X_train,y_train)\n",
    "dt_y_pred= dt.predict(X_test)\n"
   ]
  },
  {
   "cell_type": "code",
   "execution_count": 45,
   "metadata": {},
   "outputs": [
    {
     "name": "stdout",
     "output_type": "stream",
     "text": [
      "The Train Data Accuracy is 0.9262295081967213\n",
      "The Test Data Accuracy is 0.8857142857142857\n",
      "              precision    recall  f1-score   support\n",
      "\n",
      "           0       0.90      0.87      0.88        53\n",
      "           1       0.87      0.90      0.89        52\n",
      "\n",
      "    accuracy                           0.89       105\n",
      "   macro avg       0.89      0.89      0.89       105\n",
      "weighted avg       0.89      0.89      0.89       105\n",
      "\n"
     ]
    }
   ],
   "source": [
    "print('The Train Data Accuracy is {}'.format(dt.score(X_train,y_train)))\n",
    "print('The Test Data Accuracy is {}'.format(dt.score(X_test,y_test)))\n",
    "print(classification_report(y_test,dt_y_pred))"
   ]
  },
  {
   "cell_type": "code",
   "execution_count": 46,
   "metadata": {},
   "outputs": [
    {
     "name": "stdout",
     "output_type": "stream",
     "text": [
      "The Feature importance for Age is:0.0\n",
      "The Feature importance for RestingBP is:0.0\n",
      "The Feature importance for Cholesterol is:0.0\n",
      "The Feature importance for FastingBS is:0.0\n",
      "The Feature importance for MaxHR is:0.03466029168107982\n",
      "The Feature importance for Oldpeak is:0.0\n",
      "The Feature importance for ChestPainType_ASY is:0.0\n",
      "The Feature importance for ChestPainType_ATA is:0.0\n",
      "The Feature importance for ChestPainType_NAP is:0.0\n",
      "The Feature importance for ChestPainType_TA is:0.0\n",
      "The Feature importance for Sex_F is:0.0\n",
      "The Feature importance for Sex_M is:0.09151938565210142\n",
      "The Feature importance for RestingECG_LVH is:0.0\n",
      "The Feature importance for RestingECG_Normal is:0.0\n",
      "The Feature importance for RestingECG_ST is:0.0\n",
      "The Feature importance for ExerciseAngina_N is:0.0\n",
      "The Feature importance for ExerciseAngina_Y is:0.1939768366458837\n",
      "The Feature importance for ST_Slope_Down is:0.06700893832280769\n",
      "The Feature importance for ST_Slope_Flat is:0.6128345476981275\n",
      "The Feature importance for ST_Slope_Up is:0.0\n"
     ]
    }
   ],
   "source": [
    "fi_col =[]\n",
    "fi = []\n",
    "from sklearn import metrics\n",
    "\n",
    "#Running Feature Importance \n",
    "for i,column in enumerate(Cleve_data.drop(['HeartDisease','Location'],axis=1)):\n",
    "    print('The Feature importance for {} is:{}'.format(column,dt.feature_importances_[i]))\n",
    "    \n",
    "    fi_col.append(column)\n",
    "    fi.append(dt.feature_importances_[i])\n",
    "    "
   ]
  },
  {
   "cell_type": "code",
   "execution_count": 47,
   "metadata": {},
   "outputs": [
    {
     "data": {
      "image/png": "[encoded data removed]",
      "text/plain": [
       "<Figure size 432x288 with 2 Axes>"
      ]
     },
     "metadata": {
      "needs_background": "light"
     },
     "output_type": "display_data"
    }
   ],
   "source": [
    "df_cm =confusion_matrix(y_test,y_pred)\n",
    "df_cm\n",
    "dfcm_percentage = df_cm/df_cm.sum(axis=1).reshape(-1,1)\n",
    "plot_confusion_matrix(dfcm_percentage,dt.classes_)"
   ]
  },
  {
   "cell_type": "code",
   "execution_count": 48,
   "metadata": {
    "scrolled": true
   },
   "outputs": [
    {
     "data": {
      "text/html": [
       "<div>\n",
       "<style scoped>\n",
       "    .dataframe tbody tr th:only-of-type {\n",
       "        vertical-align: middle;\n",
       "    }\n",
       "\n",
       "    .dataframe tbody tr th {\n",
       "        vertical-align: top;\n",
       "    }\n",
       "\n",
       "    .dataframe thead th {\n",
       "        text-align: right;\n",
       "    }\n",
       "</style>\n",
       "<table border=\"1\" class=\"dataframe\">\n",
       "  <thead>\n",
       "    <tr style=\"text-align: right;\">\n",
       "      <th></th>\n",
       "      <th>Feature</th>\n",
       "      <th>Feature Importance</th>\n",
       "    </tr>\n",
       "  </thead>\n",
       "  <tbody>\n",
       "    <tr>\n",
       "      <th>0</th>\n",
       "      <td>ST_Slope_Flat</td>\n",
       "      <td>0.612835</td>\n",
       "    </tr>\n",
       "    <tr>\n",
       "      <th>1</th>\n",
       "      <td>ExerciseAngina_Y</td>\n",
       "      <td>0.193977</td>\n",
       "    </tr>\n",
       "    <tr>\n",
       "      <th>2</th>\n",
       "      <td>Sex_M</td>\n",
       "      <td>0.091519</td>\n",
       "    </tr>\n",
       "    <tr>\n",
       "      <th>3</th>\n",
       "      <td>ST_Slope_Down</td>\n",
       "      <td>0.067009</td>\n",
       "    </tr>\n",
       "    <tr>\n",
       "      <th>4</th>\n",
       "      <td>MaxHR</td>\n",
       "      <td>0.034660</td>\n",
       "    </tr>\n",
       "    <tr>\n",
       "      <th>5</th>\n",
       "      <td>Age</td>\n",
       "      <td>0.000000</td>\n",
       "    </tr>\n",
       "    <tr>\n",
       "      <th>6</th>\n",
       "      <td>ExerciseAngina_N</td>\n",
       "      <td>0.000000</td>\n",
       "    </tr>\n",
       "    <tr>\n",
       "      <th>7</th>\n",
       "      <td>RestingECG_ST</td>\n",
       "      <td>0.000000</td>\n",
       "    </tr>\n",
       "    <tr>\n",
       "      <th>8</th>\n",
       "      <td>RestingECG_Normal</td>\n",
       "      <td>0.000000</td>\n",
       "    </tr>\n",
       "    <tr>\n",
       "      <th>9</th>\n",
       "      <td>RestingECG_LVH</td>\n",
       "      <td>0.000000</td>\n",
       "    </tr>\n",
       "    <tr>\n",
       "      <th>10</th>\n",
       "      <td>Sex_F</td>\n",
       "      <td>0.000000</td>\n",
       "    </tr>\n",
       "    <tr>\n",
       "      <th>11</th>\n",
       "      <td>RestingBP</td>\n",
       "      <td>0.000000</td>\n",
       "    </tr>\n",
       "    <tr>\n",
       "      <th>12</th>\n",
       "      <td>ChestPainType_TA</td>\n",
       "      <td>0.000000</td>\n",
       "    </tr>\n",
       "    <tr>\n",
       "      <th>13</th>\n",
       "      <td>ChestPainType_NAP</td>\n",
       "      <td>0.000000</td>\n",
       "    </tr>\n",
       "    <tr>\n",
       "      <th>14</th>\n",
       "      <td>ChestPainType_ATA</td>\n",
       "      <td>0.000000</td>\n",
       "    </tr>\n",
       "    <tr>\n",
       "      <th>15</th>\n",
       "      <td>ChestPainType_ASY</td>\n",
       "      <td>0.000000</td>\n",
       "    </tr>\n",
       "    <tr>\n",
       "      <th>16</th>\n",
       "      <td>Oldpeak</td>\n",
       "      <td>0.000000</td>\n",
       "    </tr>\n",
       "    <tr>\n",
       "      <th>17</th>\n",
       "      <td>FastingBS</td>\n",
       "      <td>0.000000</td>\n",
       "    </tr>\n",
       "    <tr>\n",
       "      <th>18</th>\n",
       "      <td>Cholesterol</td>\n",
       "      <td>0.000000</td>\n",
       "    </tr>\n",
       "    <tr>\n",
       "      <th>19</th>\n",
       "      <td>ST_Slope_Up</td>\n",
       "      <td>0.000000</td>\n",
       "    </tr>\n",
       "  </tbody>\n",
       "</table>\n",
       "</div>"
      ],
      "text/plain": [
       "              Feature  Feature Importance\n",
       "0       ST_Slope_Flat            0.612835\n",
       "1    ExerciseAngina_Y            0.193977\n",
       "2               Sex_M            0.091519\n",
       "3       ST_Slope_Down            0.067009\n",
       "4               MaxHR            0.034660\n",
       "5                 Age            0.000000\n",
       "6    ExerciseAngina_N            0.000000\n",
       "7       RestingECG_ST            0.000000\n",
       "8   RestingECG_Normal            0.000000\n",
       "9      RestingECG_LVH            0.000000\n",
       "10              Sex_F            0.000000\n",
       "11          RestingBP            0.000000\n",
       "12   ChestPainType_TA            0.000000\n",
       "13  ChestPainType_NAP            0.000000\n",
       "14  ChestPainType_ATA            0.000000\n",
       "15  ChestPainType_ASY            0.000000\n",
       "16            Oldpeak            0.000000\n",
       "17          FastingBS            0.000000\n",
       "18        Cholesterol            0.000000\n",
       "19        ST_Slope_Up            0.000000"
      ]
     },
     "execution_count": 48,
     "metadata": {},
     "output_type": "execute_result"
    }
   ],
   "source": [
    "fi_df=zip(fi_col,fi)\n",
    "fi_df = pd.DataFrame(fi_df,columns=['Feature','Feature Importance'])\n",
    "importance = fi_df.sort_values('Feature Importance',ascending = False).reset_index(drop = True)\n",
    "importance\n"
   ]
  },
  {
   "cell_type": "code",
   "execution_count": null,
   "metadata": {},
   "outputs": [],
   "source": [
    "# columns_to_keep = importance['Feature'][0:6]\n",
    "# Cleve_data[columns_to_keep].shape"
   ]
  }
 ],
 "metadata": {
  "kernelspec": {
   "display_name": "Python 3 (ipykernel)",
   "language": "python",
   "name": "python3"
  },
  "language_info": {
   "codemirror_mode": {
    "name": "ipython",
    "version": 3
   },
   "file_extension": ".py",
   "mimetype": "text/x-python",
   "name": "python",
   "nbconvert_exporter": "python",
   "pygments_lexer": "ipython3",
   "version": "3.9.7"
  }
 },
 "nbformat": 4,
 "nbformat_minor": 4
}
